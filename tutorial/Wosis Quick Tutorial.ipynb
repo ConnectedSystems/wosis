{
 "cells": [
  {
   "cell_type": "markdown",
   "metadata": {},
   "source": [
    "# A quick tutorial on using Wosis"
   ]
  },
  {
   "cell_type": "markdown",
   "metadata": {},
   "source": [
    "Before we start, some known issues:\n",
    "\n",
    "* Methods - especially plotting - switch from relying on Pandas DataFrames to Metaknowledge Collections.\n",
    "This is because somethings are easier to accomplish with one or the other. In the future, I hope to consolidate these to use just one, not a mishmash of both. \n",
    "\n",
    "* Some documentation is currently missing\n",
    "\n",
    "Suggestions on how to improve usability is appreciated, and can be made by [submitting an issue](https://github.com/ConnectedSystems/wosis/issues) with a 'usability' tag."
   ]
  },
  {
   "cell_type": "markdown",
   "metadata": {},
   "source": [
    "The cell below shows the Python version in use for this guide. Versions equal to and above should be fine."
   ]
  },
  {
   "cell_type": "code",
   "execution_count": 1,
   "metadata": {},
   "outputs": [
    {
     "name": "stdout",
     "output_type": "stream",
     "text": [
      "sys.version_info(major=3, minor=5, micro=6, releaselevel='final', serial=0)\n"
     ]
    }
   ],
   "source": [
    "import sys\n",
    "print(sys.version_info)"
   ]
  },
  {
   "cell_type": "markdown",
   "metadata": {},
   "source": [
    "There are two options to install Wosis for development use:\n",
    "\n",
    "1) clone the project with `git` (the dollar sign represents the terminal prompt)\n",
    "\n",
    "```bash\n",
    "$ git clone https://github.com/ConnectedSystems/wosis.git\n",
    "$ cd wosis\n",
    "$ python setup.py develop\n",
    "```\n",
    "\n",
    "2) download, and extract, the project files from the [github repo](https://github.com/ConnectedSystems/wosis) (look for the green button on the right hand side)\n",
    "\n",
    "```bash\n",
    "$ python setup.py develop\n",
    "```"
   ]
  },
  {
   "cell_type": "markdown",
   "metadata": {},
   "source": [
    "Import packages"
   ]
  },
  {
   "cell_type": "code",
   "execution_count": 2,
   "metadata": {},
   "outputs": [],
   "source": [
    "import wosis\n",
    "import pandas as pd\n",
    "import metaknowledge as mk\n",
    "import json"
   ]
  },
  {
   "cell_type": "markdown",
   "metadata": {},
   "source": [
    "Load Web of Science configuration file (this assumes the relevant file is in the same place as this notebook).\n",
    "\n",
    "Remember not to share this file with anyone, or store it in a publicly accessible repository of any sort."
   ]
  },
  {
   "cell_type": "markdown",
   "metadata": {},
   "source": [
    "The `config.yml` file should hold your Web of Science username and password, like so:\n",
    "\n",
    "```yaml\n",
    "wos:\n",
    "  user: username\n",
    "  password: password\n",
    "```"
   ]
  },
  {
   "cell_type": "code",
   "execution_count": 3,
   "metadata": {},
   "outputs": [],
   "source": [
    "wos_config = wosis.load_config(\"config.yml\")"
   ]
  },
  {
   "cell_type": "markdown",
   "metadata": {},
   "source": [
    "Create a dictionary of search terms."
   ]
  },
  {
   "cell_type": "code",
   "execution_count": 4,
   "metadata": {},
   "outputs": [],
   "source": [
    "# dollar sign ($) is a wildcard used to match British and American spellings\n",
    "# e.g. flavo$r matches both flavour and flavor\n",
    "# see https://images.webofknowledge.com/images/help/WOS/hs_wildcards.html\n",
    "search_terms = {\n",
    "    \"inclusive_kw\": (\"Integrated Model$ing\", ),  # Keywords to include (NOTE THE TRAILING COMMA FOR SINGLE ENTRIES)\n",
    "    \"exclusive_kw\": (\"chemical\", \"industry\", \"cancer\", \"gene\"), # Keywords to exclude\n",
    "    \"exclusive_jo\": ('PSYCHOL*', ),  # Journals to exclude (the * tries to match anything after 'PSYCHOL')\n",
    "    \"subject_area\": (\"ENVIRONMENTAL SCIENCES\", \"WATER RESOURCES\", \"ENGINEERING ENVIRONMENTAL\", \"INTERDISCIPLINARY APPLICATIONS\"),\n",
    "}"
   ]
  },
  {
   "cell_type": "markdown",
   "metadata": {},
   "source": [
    "Then build a list of queries.\n",
    "\n",
    "The below generates a query string that we will send to Web of Science. Look at the guide here for an explanation:\n",
    "\n",
    "http://ipscience-help.thomsonreuters.com/wosWebServicesLite/WebServiceOperationsGroup/WebServiceOperations/g2/user_query.html"
   ]
  },
  {
   "cell_type": "code",
   "execution_count": 5,
   "metadata": {},
   "outputs": [
    {
     "data": {
      "text/plain": [
       "['TS=((\"Integrated Model$ing\") NOT (\"chemical\" OR \"industry\" OR \"cancer\" OR \"gene\")) NOT SO=(\"PSYCHOL*\") AND WC=(\"ENVIRONMENTAL SCIENCES\" OR \"WATER RESOURCES\" OR \"ENGINEERING ENVIRONMENTAL\" OR \"INTERDISCIPLINARY APPLICATIONS\")']"
      ]
     },
     "execution_count": 5,
     "metadata": {},
     "output_type": "execute_result"
    }
   ],
   "source": [
    "topics = [wosis.build_query(search_terms), ]\n",
    "topics"
   ]
  },
  {
   "cell_type": "markdown",
   "metadata": {},
   "source": [
    "Now we send off the query.\n",
    "\n",
    "Strangely, the time span of interest is not accepted as part of the WoS query, but we can specify this separately.\n",
    "\n",
    "The `%%time` Jupyter magic command is there so we know how long this process took.\n",
    "\n",
    "For very large amounts of records, getting the data can take a long time.\n",
    "\n",
    "Sometimes the retrieval process fails - this could be due to high amounts of traffic to the WoS servers. Most times there's no other option other than to try again."
   ]
  },
  {
   "cell_type": "code",
   "execution_count": 6,
   "metadata": {},
   "outputs": [
    {
     "name": "stdout",
     "output_type": "stream",
     "text": [
      "Authenticated (SID: 7D1TUbzAEFGqeKPfbvO)\n"
     ]
    },
    {
     "name": "stderr",
     "output_type": "stream",
     "text": [
      "c:\\userdata\\takuyai\\owncloud\\projects\\wosis\\wosis\\query.py:267: UserWarning: Using cached results...\n",
      "  warnings.warn(\"Using cached results...\")\n"
     ]
    },
    {
     "name": "stdout",
     "output_type": "stream",
     "text": [
      "Got 272 records\n",
      "Wall time: 1.94 s\n"
     ]
    }
   ],
   "source": [
    "%%time\n",
    "overwrite = False  # Do not overwrite previous identical search if it exists\n",
    "id_to_query, query_recs = wosis.query(topics, overwrite, wos_config, time_span={'begin': '2014-01-01', 'end': '2017-12-31'})"
   ]
  },
  {
   "cell_type": "markdown",
   "metadata": {},
   "source": [
    "`id_to_query` is a dictionary that maps a result ID to the query that was sent.\n",
    "\n",
    "`query_recs` is a dictionary that maps a result ID to the matching publication set.\n",
    "\n",
    "So, we can write out the query_id information so that we know what data is related to which query.\n",
    "\n",
    "This is handy for later analysis/inspection:"
   ]
  },
  {
   "cell_type": "code",
   "execution_count": 7,
   "metadata": {},
   "outputs": [],
   "source": [
    "with open('tmp/example_query_id.txt', 'w') as file:\n",
    "     file.write(json.dumps(id_to_query, indent=2))  # use `json.loads` to do the reverse"
   ]
  },
  {
   "cell_type": "code",
   "execution_count": 8,
   "metadata": {},
   "outputs": [
    {
     "name": "stdout",
     "output_type": "stream",
     "text": [
      "Query ID:  72e7af00b238db01d2b12d9a3c6a4fb6 \n",
      "Query String: TS=((\"Integrated Model$ing\") NOT (\"chemical\" OR \"industry\" OR \"cancer\" OR \"gene\")) NOT SO=(\"PSYCHOL*\") AND WC=(\"ENVIRONMENTAL SCIENCES\" OR \"WATER RESOURCES\" OR \"ENGINEERING ENVIRONMENTAL\" OR \"INTERDISCIPLINARY APPLICATIONS\") \n",
      "\n",
      "Corpora consists of 272 Publications\n"
     ]
    }
   ],
   "source": [
    "# Get the ID of the query result set:\n",
    "query_id = list(id_to_query)[0]\n",
    "\n",
    "print(\"Query ID: \", query_id, \"\\nQuery String:\", id_to_query[query_id], \"\\n\")\n",
    "\n",
    "# Load it in as a metaknowledge collection\n",
    "RC = mk.RecordCollection(\"tmp/{}.txt\".format(query_id))\n",
    "\n",
    "# If we want to constrain the time frame later, this is how we do it\n",
    "# RC = RC.yearSplit(0, 2017)\n",
    "\n",
    "print(\"Corpora consists of\", len(RC), \"Publications\")"
   ]
  },
  {
   "cell_type": "markdown",
   "metadata": {},
   "source": [
    "Otherwise, we can get the publication records from the query result set directly"
   ]
  },
  {
   "cell_type": "code",
   "execution_count": 9,
   "metadata": {},
   "outputs": [
    {
     "name": "stdout",
     "output_type": "stream",
     "text": [
      "Corpora consists of 272 Publications\n"
     ]
    }
   ],
   "source": [
    "RC = list(query_recs.values())[0]  # Remember, we only sent one query so it will be the first item in the dictionary\n",
    "print(\"Corpora consists of\", len(RC), \"Publications\")"
   ]
  },
  {
   "cell_type": "markdown",
   "metadata": {},
   "source": [
    "Before we do any analysis, let's write out a representative data set for publication. This means stripping the generated keywords and publication abstract from the dataset as these are proprietary information owned by Web of Science.\n",
    "\n",
    "As part of the legal usage agreement, if you make any dataset derived from Web of Science publicly available you have to specify that it came from Clarivate and when the data was retrieved. This has to be included inside any file you share.\n",
    "\n",
    "Don't forget to change the retrieval date!\n",
    "(see first line starting with `fn.write` below)\n",
    "\n",
    "(Still to come: Wosis provided method to do this for you)"
   ]
  },
  {
   "cell_type": "code",
   "execution_count": 10,
   "metadata": {},
   "outputs": [],
   "source": [
    "from datetime import datetime\n",
    "\n",
    "repset_df = pd.DataFrame(RC.forNLP(extraColumns=[\"AU\", \"SO\", \"DE\"]))\n",
    "repset_df = repset_df.drop([\"keywords\", \"abstract\"], axis=1)\n",
    "\n",
    "assert len(repset_df.id.unique()) == len(repset_df.id), \"Duplicate records found!\"\n",
    "\n",
    "repset_fn = \"../data/{}.csv\".format(query_id)\n",
    "with open(repset_fn, 'w') as fn:\n",
    "    fn.write(\"# Data from Clarivate Analytics' Web of Science, retrieved 1 December 2018\\n\")\n",
    "    fn.write(\"# This file generated on {}\\n\".format(datetime.now().strftime(\"%Y-%m-%d %H:%M:%S\")))\n",
    "    repset_df.index.name = \"item\"\n",
    "    repset_df.to_csv(fn)"
   ]
  },
  {
   "cell_type": "markdown",
   "metadata": {},
   "source": [
    "Now the fun begins.\n",
    "\n",
    "Analysis setup:"
   ]
  },
  {
   "cell_type": "code",
   "execution_count": 11,
   "metadata": {},
   "outputs": [],
   "source": [
    "# Helper functions for plotting\n",
    "import wosis.analysis.plotting as wos_plot\n",
    "\n",
    "# Analysis and search functions\n",
    "from wosis.analysis import (preview_matches, search_records, keyword_matches, \n",
    "                                   find_pubs_by_authors, preview_matches_by_keyword, get_unique_kw_titles)\n",
    "\n",
    "from wosis.analysis.constrain import remove_by_journals, remove_by_title\n",
    "\n",
    "# Plotting libraries\n",
    "import matplotlib.pyplot as plt\n",
    "import seaborn as sns\n",
    "\n",
    "# This just helps make the plots look nicer\n",
    "sns.set_style('darkgrid')\n",
    "sns.set_context('paper', font_scale=2.0)"
   ]
  },
  {
   "cell_type": "markdown",
   "metadata": {},
   "source": [
    "Basic analysis can be done with Pandas, but more complicated stuff is made simple by included Wosis helper functions"
   ]
  },
  {
   "cell_type": "markdown",
   "metadata": {},
   "source": [
    "Count how many publications do not have a valid DOI in the Web of Science dataset..."
   ]
  },
  {
   "cell_type": "code",
   "execution_count": 12,
   "metadata": {},
   "outputs": [
    {
     "data": {
      "text/plain": [
       "17"
      ]
     },
     "execution_count": 12,
     "metadata": {},
     "output_type": "execute_result"
    }
   ],
   "source": [
    "corpora_df = pd.DataFrame(RC.forNLP(extraColumns=[\"AU\", \"SO\", \"DE\", 'DOI']))\n",
    "\n",
    "corpora_df.loc[corpora_df['DOI'] == '', 'DOI'].count()"
   ]
  },
  {
   "cell_type": "markdown",
   "metadata": {},
   "source": [
    "... then remove them from the dataset. \n",
    "\n",
    "Here we're assuming that those without DOIs are unusable for our analysis."
   ]
  },
  {
   "cell_type": "code",
   "execution_count": 13,
   "metadata": {},
   "outputs": [],
   "source": [
    "corpora_df = corpora_df.loc[corpora_df['DOI'] != '', :]"
   ]
  },
  {
   "cell_type": "markdown",
   "metadata": {},
   "source": [
    "Filtering by journal or title is supported in Wosis.\n",
    "\n",
    "These methods will print out the number of articles removed for each search string.\n",
    "\n",
    "*WARNING:* This example uses Pandas DataFrames. Future versions of Wosis will apply the changes to a Metaknowledge collection instead"
   ]
  },
  {
   "cell_type": "code",
   "execution_count": 14,
   "metadata": {},
   "outputs": [
    {
     "name": "stdout",
     "output_type": "stream",
     "text": [
      "PSYCHOL: 0\n",
      "BIOINFO: 0\n",
      "BUSINESS INFORMATION: 0\n",
      "MANUFACTURING: 0\n",
      "BIOLOGICALLY INSPIRED COGNITIVE ARCHITECTURES: 0\n",
      "COMPLEXITY: 0\n",
      "INDUSTRIAL ECOLOGY: 1\n",
      "QUANTITATIVE FINANCE: 0\n",
      "VIRTUAL REALITY: 0\n",
      "COMMUNICATION NETWORKS: 0\n",
      "COMPUTER METHODS AND PROGRAMS IN BIOMEDICINE: 0\n",
      "ARTIFICIAL INTELLIGENCE IN EDUCATION: 0\n",
      "INSURANCE MATHEMATICS & ECONOMICS: 0\n",
      "ASTIN BULLETIN: 0\n",
      "COMMUNICATION TECHNOLOGY: 0\n",
      "COMPUTERS & STRUCTURES: 0\n",
      "CHEMOSPHERE: 0\n",
      "VISUAL COMPUTING: 0\n",
      "INTERNATIONAL CONFERENCE ON COMPUTER SCIENCE AND APPLICATIONS: 0\n",
      "WASTE MANAGEMENT: 0\n",
      "OPTIMIZATION AND ENGINEERING: 0\n",
      "COMPUTERS & OPERATIONS RESEARCH: 0\n",
      "PROCEEDINGS OF THE INTERNATIONAL CONFERENCE ON EDUCATION, MATHEMATICS AND SCIENCE 2016: 0\n",
      "COMPUTATIONAL MECHANICS: 0\n"
     ]
    },
    {
     "data": {
      "text/html": [
       "<div>\n",
       "<style scoped>\n",
       "    .dataframe tbody tr th:only-of-type {\n",
       "        vertical-align: middle;\n",
       "    }\n",
       "\n",
       "    .dataframe tbody tr th {\n",
       "        vertical-align: top;\n",
       "    }\n",
       "\n",
       "    .dataframe thead th {\n",
       "        text-align: right;\n",
       "    }\n",
       "</style>\n",
       "<table border=\"1\" class=\"dataframe\">\n",
       "  <thead>\n",
       "    <tr style=\"text-align: right;\">\n",
       "      <th></th>\n",
       "      <th>AU</th>\n",
       "      <th>SO</th>\n",
       "      <th>title</th>\n",
       "      <th>year</th>\n",
       "    </tr>\n",
       "  </thead>\n",
       "  <tbody>\n",
       "    <tr>\n",
       "      <th>0</th>\n",
       "      <td>Joung, Youn-Kyoung|Noh, Sang Do</td>\n",
       "      <td>CONCURRENT ENGINEERING-RESEARCH AND APPLICATIONS</td>\n",
       "      <td>Integrated modeling and simulation with in-lin...</td>\n",
       "      <td>2014</td>\n",
       "    </tr>\n",
       "    <tr>\n",
       "      <th>1</th>\n",
       "      <td>Tian, Yong|Zheng, Yi|Wu, Bin|Wu, Xin|Liu, Jie|...</td>\n",
       "      <td>ENVIRONMENTAL MODELLING &amp; SOFTWARE</td>\n",
       "      <td>Modeling surface water-groundwater interaction...</td>\n",
       "      <td>2015</td>\n",
       "    </tr>\n",
       "    <tr>\n",
       "      <th>2</th>\n",
       "      <td>Zhou, Y.|Li, Y. P.|Huang, G. H.</td>\n",
       "      <td>JOURNAL OF CLEANER PRODUCTION</td>\n",
       "      <td>Integrated modeling approach for sustainable m...</td>\n",
       "      <td>2014</td>\n",
       "    </tr>\n",
       "    <tr>\n",
       "      <th>3</th>\n",
       "      <td>Ponce, Roberto D.|Fernandez, Francisco|Stehr, ...</td>\n",
       "      <td>REGIONAL ENVIRONMENTAL CHANGE</td>\n",
       "      <td>Distributional impacts of climate change on ba...</td>\n",
       "      <td>2017</td>\n",
       "    </tr>\n",
       "    <tr>\n",
       "      <th>4</th>\n",
       "      <td>Romero, Estela|Le Gendre, Romain|Garnier, Jose...</td>\n",
       "      <td>ENVIRONMENTAL SCIENCE &amp; POLICY</td>\n",
       "      <td>Long-term water quality in the lower Seine: Le...</td>\n",
       "      <td>2016</td>\n",
       "    </tr>\n",
       "  </tbody>\n",
       "</table>\n",
       "</div>"
      ],
      "text/plain": [
       "                                                  AU  \\\n",
       "0                    Joung, Youn-Kyoung|Noh, Sang Do   \n",
       "1  Tian, Yong|Zheng, Yi|Wu, Bin|Wu, Xin|Liu, Jie|...   \n",
       "2                    Zhou, Y.|Li, Y. P.|Huang, G. H.   \n",
       "3  Ponce, Roberto D.|Fernandez, Francisco|Stehr, ...   \n",
       "4  Romero, Estela|Le Gendre, Romain|Garnier, Jose...   \n",
       "\n",
       "                                                 SO  \\\n",
       "0  CONCURRENT ENGINEERING-RESEARCH AND APPLICATIONS   \n",
       "1                ENVIRONMENTAL MODELLING & SOFTWARE   \n",
       "2                     JOURNAL OF CLEANER PRODUCTION   \n",
       "3                     REGIONAL ENVIRONMENTAL CHANGE   \n",
       "4                    ENVIRONMENTAL SCIENCE & POLICY   \n",
       "\n",
       "                                               title  year  \n",
       "0  Integrated modeling and simulation with in-lin...  2014  \n",
       "1  Modeling surface water-groundwater interaction...  2015  \n",
       "2  Integrated modeling approach for sustainable m...  2014  \n",
       "3  Distributional impacts of climate change on ba...  2017  \n",
       "4  Long-term water quality in the lower Seine: Le...  2016  "
      ]
     },
     "execution_count": 14,
     "metadata": {},
     "output_type": "execute_result"
    }
   ],
   "source": [
    "from wosis.analysis.constrain import remove_by_journals, remove_by_title\n",
    "\n",
    "# List of unrelated Journals - will be matched by partial string\n",
    "unrelated_jo = ['PSYCHOL', 'BIOINFO', 'BUSINESS INFORMATION', 'MANUFACTURING', \n",
    "                'BIOLOGICALLY INSPIRED COGNITIVE ARCHITECTURES', 'COMPLEXITY', 'INDUSTRIAL ECOLOGY',\n",
    "                'QUANTITATIVE FINANCE', 'VIRTUAL REALITY', 'COMMUNICATION NETWORKS', 'COMPUTER METHODS AND PROGRAMS IN BIOMEDICINE',\n",
    "                'ARTIFICIAL INTELLIGENCE IN EDUCATION', 'INSURANCE MATHEMATICS & ECONOMICS', 'ASTIN BULLETIN', \n",
    "                'COMMUNICATION TECHNOLOGY', 'COMPUTERS & STRUCTURES', 'CHEMOSPHERE', 'VISUAL COMPUTING',\n",
    "                'INTERNATIONAL CONFERENCE ON COMPUTER SCIENCE AND APPLICATIONS', 'WASTE MANAGEMENT', 'OPTIMIZATION AND ENGINEERING',\n",
    "                'COMPUTERS & OPERATIONS RESEARCH',\n",
    "                'PROCEEDINGS OF THE INTERNATIONAL CONFERENCE ON EDUCATION, MATHEMATICS AND SCIENCE 2016',\n",
    "                'COMPUTATIONAL MECHANICS',\n",
    "\n",
    "               ]\n",
    "\n",
    "# Think of the parameter order like \"with this dataset, remove these unrelated journals\"\n",
    "corpora_df = remove_by_journals(corpora_df, unrelated_jo)\n",
    "\n",
    "# Hiding keywords and abstract for tutorial (WoS-owned IP)\n",
    "hide_columns = ['DE', 'abstract', 'keywords', 'DOI', 'id', 'kws']\n",
    "corpora_df.loc[:, ~corpora_df.columns.isin(hide_columns)].head()  # display first 5"
   ]
  },
  {
   "cell_type": "code",
   "execution_count": 15,
   "metadata": {},
   "outputs": [
    {
     "name": "stdout",
     "output_type": "stream",
     "text": [
      "transportation networks: 0\n",
      "Travel Destination: 0\n",
      "portfolio optimization: 0\n"
     ]
    },
    {
     "data": {
      "text/html": [
       "<div>\n",
       "<style scoped>\n",
       "    .dataframe tbody tr th:only-of-type {\n",
       "        vertical-align: middle;\n",
       "    }\n",
       "\n",
       "    .dataframe tbody tr th {\n",
       "        vertical-align: top;\n",
       "    }\n",
       "\n",
       "    .dataframe thead th {\n",
       "        text-align: right;\n",
       "    }\n",
       "</style>\n",
       "<table border=\"1\" class=\"dataframe\">\n",
       "  <thead>\n",
       "    <tr style=\"text-align: right;\">\n",
       "      <th></th>\n",
       "      <th>AU</th>\n",
       "      <th>SO</th>\n",
       "      <th>title</th>\n",
       "      <th>year</th>\n",
       "    </tr>\n",
       "  </thead>\n",
       "  <tbody>\n",
       "    <tr>\n",
       "      <th>0</th>\n",
       "      <td>Joung, Youn-Kyoung|Noh, Sang Do</td>\n",
       "      <td>CONCURRENT ENGINEERING-RESEARCH AND APPLICATIONS</td>\n",
       "      <td>Integrated modeling and simulation with in-lin...</td>\n",
       "      <td>2014</td>\n",
       "    </tr>\n",
       "    <tr>\n",
       "      <th>1</th>\n",
       "      <td>Tian, Yong|Zheng, Yi|Wu, Bin|Wu, Xin|Liu, Jie|...</td>\n",
       "      <td>ENVIRONMENTAL MODELLING &amp; SOFTWARE</td>\n",
       "      <td>Modeling surface water-groundwater interaction...</td>\n",
       "      <td>2015</td>\n",
       "    </tr>\n",
       "    <tr>\n",
       "      <th>2</th>\n",
       "      <td>Zhou, Y.|Li, Y. P.|Huang, G. H.</td>\n",
       "      <td>JOURNAL OF CLEANER PRODUCTION</td>\n",
       "      <td>Integrated modeling approach for sustainable m...</td>\n",
       "      <td>2014</td>\n",
       "    </tr>\n",
       "    <tr>\n",
       "      <th>3</th>\n",
       "      <td>Ponce, Roberto D.|Fernandez, Francisco|Stehr, ...</td>\n",
       "      <td>REGIONAL ENVIRONMENTAL CHANGE</td>\n",
       "      <td>Distributional impacts of climate change on ba...</td>\n",
       "      <td>2017</td>\n",
       "    </tr>\n",
       "    <tr>\n",
       "      <th>4</th>\n",
       "      <td>Romero, Estela|Le Gendre, Romain|Garnier, Jose...</td>\n",
       "      <td>ENVIRONMENTAL SCIENCE &amp; POLICY</td>\n",
       "      <td>Long-term water quality in the lower Seine: Le...</td>\n",
       "      <td>2016</td>\n",
       "    </tr>\n",
       "  </tbody>\n",
       "</table>\n",
       "</div>"
      ],
      "text/plain": [
       "                                                  AU  \\\n",
       "0                    Joung, Youn-Kyoung|Noh, Sang Do   \n",
       "1  Tian, Yong|Zheng, Yi|Wu, Bin|Wu, Xin|Liu, Jie|...   \n",
       "2                    Zhou, Y.|Li, Y. P.|Huang, G. H.   \n",
       "3  Ponce, Roberto D.|Fernandez, Francisco|Stehr, ...   \n",
       "4  Romero, Estela|Le Gendre, Romain|Garnier, Jose...   \n",
       "\n",
       "                                                 SO  \\\n",
       "0  CONCURRENT ENGINEERING-RESEARCH AND APPLICATIONS   \n",
       "1                ENVIRONMENTAL MODELLING & SOFTWARE   \n",
       "2                     JOURNAL OF CLEANER PRODUCTION   \n",
       "3                     REGIONAL ENVIRONMENTAL CHANGE   \n",
       "4                    ENVIRONMENTAL SCIENCE & POLICY   \n",
       "\n",
       "                                               title  year  \n",
       "0  Integrated modeling and simulation with in-lin...  2014  \n",
       "1  Modeling surface water-groundwater interaction...  2015  \n",
       "2  Integrated modeling approach for sustainable m...  2014  \n",
       "3  Distributional impacts of climate change on ba...  2017  \n",
       "4  Long-term water quality in the lower Seine: Le...  2016  "
      ]
     },
     "execution_count": 15,
     "metadata": {},
     "output_type": "execute_result"
    }
   ],
   "source": [
    "unrelated_TI = ['transportation networks', 'Travel Destination', 'portfolio optimization']\n",
    "\n",
    "# Again, with this dataset remove these titles\n",
    "corpora_df = remove_by_title(corpora_df, unrelated_TI)\n",
    "\n",
    "# Hiding keywords and abstract for tutorial (WoS-owned IP)\n",
    "corpora_df.loc[:, ~corpora_df.columns.isin(hide_columns)].head()  # display first 5"
   ]
  },
  {
   "cell_type": "code",
   "execution_count": 16,
   "metadata": {},
   "outputs": [],
   "source": [
    "# Create a new metaknowledge collection\n",
    "filtered_corpora = wosis.extract_recs(corpora_df.loc[:, 'id'], RC, name='Filtered Corpora')"
   ]
  },
  {
   "cell_type": "code",
   "execution_count": 17,
   "metadata": {},
   "outputs": [
    {
     "data": {
      "image/png": "[encoded data removed]",
      "text/plain": [
       "<Figure size 1296x432 with 2 Axes>"
      ]
     },
     "metadata": {
      "needs_background": "light"
     },
     "output_type": "display_data"
    }
   ],
   "source": [
    "# Plot out the keyword trend. Can save the plot as an image if you give it a file location (will be saved in PNG format)\n",
    "wos_plot.plot_kw_trend(filtered_corpora, title='Keyword Trend', save_plot_fn=False)"
   ]
  },
  {
   "cell_type": "markdown",
   "metadata": {},
   "source": [
    "You can also sort the publications into specific criterias.\n",
    "\n",
    "This matches similar words as found in the title, abstract, and keyword sections."
   ]
  },
  {
   "cell_type": "code",
   "execution_count": 18,
   "metadata": {},
   "outputs": [],
   "source": [
    "# Keyword types adapted from Zare et al. (2017)\n",
    "# http://dx.doi.org/10.1016/j.jhydrol.2017.07.031\n",
    "\n",
    "criteria = {\n",
    "    'overarching': set(['uncertainty', 'adapt', 'decision support', 'management', 'gis']),\n",
    "    'agri': set(['agricultur', 'farm']),\n",
    "    'water': set(['hydrology', 'water', 'stream', 'aquifer']),\n",
    "    'enviro': set(['environment', 'climate', 'ecology', 'ecosystem', 'biodivers']),\n",
    "    'socio_economic': set(['ecosystem service', 'social', 'conflict', 'particip', 'law', 'stakehold', 'policy', 'economic'])\n",
    "}\n",
    "\n",
    "crit_matches, crit_summary = wosis.analysis.search.keyword_matches_by_criteria(filtered_corpora, criteria, threshold=95.0)"
   ]
  },
  {
   "cell_type": "code",
   "execution_count": 19,
   "metadata": {},
   "outputs": [
    {
     "data": {
      "image/png": "[encoded data removed]",
      "text/plain": [
       "<Figure size 432x288 with 1 Axes>"
      ]
     },
     "metadata": {
      "needs_background": "light"
     },
     "output_type": "display_data"
    }
   ],
   "source": [
    "criteria_df = wosis.analysis.search.collate_keyword_criteria_matches(filtered_corpora, crit_matches)\n",
    "wos_plot.plot_criteria_across_time(criteria_df, threshold=3)"
   ]
  },
  {
   "cell_type": "markdown",
   "metadata": {},
   "source": [
    "Remember, you can look at the documentation for anything with the question mark magic command"
   ]
  },
  {
   "cell_type": "code",
   "execution_count": 20,
   "metadata": {},
   "outputs": [],
   "source": [
    "?wos_plot.plot_criteria_across_time"
   ]
  },
  {
   "cell_type": "markdown",
   "metadata": {},
   "source": [
    "If desired, you can search the publications for a specific keyword (or list of keywords).\n",
    "\n",
    "Here, we look for some keywords related to the field costs - anything that is 95% similar to the given keywords is acceptable."
   ]
  },
  {
   "cell_type": "code",
   "execution_count": 21,
   "metadata": {},
   "outputs": [],
   "source": [
    "matching_records, summary = keyword_matches(filtered_corpora, ['finance', 'costs', 'capita', 'monetary'], threshold=95.0)"
   ]
  },
  {
   "cell_type": "code",
   "execution_count": 22,
   "metadata": {},
   "outputs": [
    {
     "data": {
      "image/png": "[encoded data removed]",
      "text/plain": [
       "<Figure size 576x432 with 1 Axes>"
      ]
     },
     "metadata": {
      "needs_background": "light"
     },
     "output_type": "display_data"
    }
   ],
   "source": [
    "wos_plot.plot_pub_per_kw(matching_records, summary, filtered_corpora, kw_category='Finance')"
   ]
  },
  {
   "cell_type": "markdown",
   "metadata": {},
   "source": [
    "But the \n",
    "We can then attempt to find topics of interest\n",
    "\n",
    "*WARNING* : This is still under development and the function(s), parameter order, and return types may change"
   ]
  },
  {
   "cell_type": "code",
   "execution_count": 23,
   "metadata": {},
   "outputs": [
    {
     "name": "stdout",
     "output_type": "stream",
     "text": [
      "Topic 1: water river management supply basin resources use quality demand modeling\n",
      "Topic 2: model models modelling environmental modeling data management framework analysis processes\n",
      "Topic 3: urban modelling infrastructure water planning drainage systems stormwater tools new\n",
      "Topic 4: climate change future impacts scenarios changes vulnerability population agricultural hydrological\n",
      "Topic 5: flood flash rainfall hydrological catchment runoff floods occurrence river events\n",
      "Topic 6: air traffic pollution emissions emission quality pollutants dispersion stormwater modelling\n",
      "Topic 7: groundwater flow surface recharge aquifer model low storage water large\n",
      "Topic 8: energy transport carbon modeling electricity emissions generation nexus planning buildings\n",
      "Topic 9: land use change soil erosion farm aquatic sediment changes scenarios\n",
      "Topic 10: irrigation crop stochastic production agricultural demand yield million yields productivity\n"
     ]
    }
   ],
   "source": [
    "from wosis.analysis import find_topics, get_topic_by_id\n",
    "\n",
    "filtered_corpora_df = pd.DataFrame(filtered_corpora.forNLP(extraColumns=[\"AU\", \"SO\", \"DE\"]))\n",
    "topic_model, trans, feature_names = find_topics(filtered_corpora_df, num_topics=10)"
   ]
  },
  {
   "cell_type": "markdown",
   "metadata": {},
   "source": [
    "If the identified topics are too vague or not of interest, try increasing the number of topics. Conversely, if they are too specific, try lowering the number of topics.\n",
    "\n",
    "Say we're interested in Topic 2. The cell below shows how to get the publications for this topic."
   ]
  },
  {
   "cell_type": "code",
   "execution_count": 24,
   "metadata": {},
   "outputs": [],
   "source": [
    "id_of_interesting_topic = 2\n",
    "\n",
    "topic_set = get_topic_by_id(topic_model, trans, id_of_interesting_topic, filtered_corpora_df)"
   ]
  },
  {
   "cell_type": "code",
   "execution_count": 25,
   "metadata": {},
   "outputs": [
    {
     "name": "stdout",
     "output_type": "stream",
     "text": [
      "Number of publications in topic set: 110\n"
     ]
    }
   ],
   "source": [
    "print(\"Number of publications in topic set:\", len(topic_set))"
   ]
  },
  {
   "cell_type": "code",
   "execution_count": 26,
   "metadata": {},
   "outputs": [
    {
     "data": {
      "text/html": [
       "<div>\n",
       "<style scoped>\n",
       "    .dataframe tbody tr th:only-of-type {\n",
       "        vertical-align: middle;\n",
       "    }\n",
       "\n",
       "    .dataframe tbody tr th {\n",
       "        vertical-align: top;\n",
       "    }\n",
       "\n",
       "    .dataframe thead th {\n",
       "        text-align: right;\n",
       "    }\n",
       "</style>\n",
       "<table border=\"1\" class=\"dataframe\">\n",
       "  <thead>\n",
       "    <tr style=\"text-align: right;\">\n",
       "      <th></th>\n",
       "      <th>AU</th>\n",
       "      <th>SO</th>\n",
       "      <th>title</th>\n",
       "      <th>year</th>\n",
       "    </tr>\n",
       "  </thead>\n",
       "  <tbody>\n",
       "    <tr>\n",
       "      <th>0</th>\n",
       "      <td>Joung, Youn-Kyoung|Noh, Sang Do</td>\n",
       "      <td>CONCURRENT ENGINEERING-RESEARCH AND APPLICATIONS</td>\n",
       "      <td>Integrated modeling and simulation with in-lin...</td>\n",
       "      <td>2014</td>\n",
       "    </tr>\n",
       "    <tr>\n",
       "      <th>4</th>\n",
       "      <td>Romero, Estela|Le Gendre, Romain|Garnier, Jose...</td>\n",
       "      <td>ENVIRONMENTAL SCIENCE &amp; POLICY</td>\n",
       "      <td>Long-term water quality in the lower Seine: Le...</td>\n",
       "      <td>2016</td>\n",
       "    </tr>\n",
       "    <tr>\n",
       "      <th>11</th>\n",
       "      <td>Honti, Mark|Schuwirth, Nele|Rieckermann, Jorg|...</td>\n",
       "      <td>HYDROLOGY AND EARTH SYSTEM SCIENCES</td>\n",
       "      <td>Can integrative catchment management mitigate ...</td>\n",
       "      <td>2017</td>\n",
       "    </tr>\n",
       "    <tr>\n",
       "      <th>13</th>\n",
       "      <td>Bannwarth, M. A.|Grovermann, C.|Schreinemacher...</td>\n",
       "      <td>JOURNAL OF ENVIRONMENTAL MANAGEMENT</td>\n",
       "      <td>Non-hazardous pesticide concentrations in surf...</td>\n",
       "      <td>2016</td>\n",
       "    </tr>\n",
       "    <tr>\n",
       "      <th>14</th>\n",
       "      <td>Rodrigues, M.|Guerreiro, M.|David, L. M.|Olive...</td>\n",
       "      <td>JOURNAL OF ENVIRONMENTAL ENGINEERING</td>\n",
       "      <td>Role of Environmental Forcings on Fecal Contam...</td>\n",
       "      <td>2016</td>\n",
       "    </tr>\n",
       "    <tr>\n",
       "      <th>15</th>\n",
       "      <td>de Brauwere, Anouk|Gourgue, Olivier|de Brye, B...</td>\n",
       "      <td>SCIENCE OF THE TOTAL ENVIRONMENT</td>\n",
       "      <td>Integrated modelling of faecal contamination i...</td>\n",
       "      <td>2014</td>\n",
       "    </tr>\n",
       "    <tr>\n",
       "      <th>16</th>\n",
       "      <td>Sudusinghe, Kishan|Jiao, Yang|Ben Salem, Haifa...</td>\n",
       "      <td>INTERNATIONAL CONFERENCE ON COMPUTATIONAL SCIE...</td>\n",
       "      <td>Multiobjective Design Optimization in the Ligh...</td>\n",
       "      <td>2015</td>\n",
       "    </tr>\n",
       "    <tr>\n",
       "      <th>17</th>\n",
       "      <td>Bandilla, Karl W.|Guo, Bo|Celia, Michael A.|Di...</td>\n",
       "      <td>13TH INTERNATIONAL CONFERENCE ON GREENHOUSE GA...</td>\n",
       "      <td>Applicability of Vertically Integrated Models ...</td>\n",
       "      <td>2017</td>\n",
       "    </tr>\n",
       "    <tr>\n",
       "      <th>21</th>\n",
       "      <td>Semakula, Henry Musoke|Song, Guobao|Achuu, Sim...</td>\n",
       "      <td>ENVIRONMENTAL MODELLING &amp; SOFTWARE</td>\n",
       "      <td>A Bayesian belief network modelling of househo...</td>\n",
       "      <td>2016</td>\n",
       "    </tr>\n",
       "    <tr>\n",
       "      <th>25</th>\n",
       "      <td>Hilty, Lorenz M.|Aebischer, Bernard|Rizzoli, A...</td>\n",
       "      <td>ENVIRONMENTAL MODELLING &amp; SOFTWARE</td>\n",
       "      <td>Modeling and evaluating the sustainability of ...</td>\n",
       "      <td>2014</td>\n",
       "    </tr>\n",
       "  </tbody>\n",
       "</table>\n",
       "</div>"
      ],
      "text/plain": [
       "                                                   AU  \\\n",
       "0                     Joung, Youn-Kyoung|Noh, Sang Do   \n",
       "4   Romero, Estela|Le Gendre, Romain|Garnier, Jose...   \n",
       "11  Honti, Mark|Schuwirth, Nele|Rieckermann, Jorg|...   \n",
       "13  Bannwarth, M. A.|Grovermann, C.|Schreinemacher...   \n",
       "14  Rodrigues, M.|Guerreiro, M.|David, L. M.|Olive...   \n",
       "15  de Brauwere, Anouk|Gourgue, Olivier|de Brye, B...   \n",
       "16  Sudusinghe, Kishan|Jiao, Yang|Ben Salem, Haifa...   \n",
       "17  Bandilla, Karl W.|Guo, Bo|Celia, Michael A.|Di...   \n",
       "21  Semakula, Henry Musoke|Song, Guobao|Achuu, Sim...   \n",
       "25  Hilty, Lorenz M.|Aebischer, Bernard|Rizzoli, A...   \n",
       "\n",
       "                                                   SO  \\\n",
       "0    CONCURRENT ENGINEERING-RESEARCH AND APPLICATIONS   \n",
       "4                      ENVIRONMENTAL SCIENCE & POLICY   \n",
       "11                HYDROLOGY AND EARTH SYSTEM SCIENCES   \n",
       "13                JOURNAL OF ENVIRONMENTAL MANAGEMENT   \n",
       "14               JOURNAL OF ENVIRONMENTAL ENGINEERING   \n",
       "15                   SCIENCE OF THE TOTAL ENVIRONMENT   \n",
       "16  INTERNATIONAL CONFERENCE ON COMPUTATIONAL SCIE...   \n",
       "17  13TH INTERNATIONAL CONFERENCE ON GREENHOUSE GA...   \n",
       "21                 ENVIRONMENTAL MODELLING & SOFTWARE   \n",
       "25                 ENVIRONMENTAL MODELLING & SOFTWARE   \n",
       "\n",
       "                                                title  year  \n",
       "0   Integrated modeling and simulation with in-lin...  2014  \n",
       "4   Long-term water quality in the lower Seine: Le...  2016  \n",
       "11  Can integrative catchment management mitigate ...  2017  \n",
       "13  Non-hazardous pesticide concentrations in surf...  2016  \n",
       "14  Role of Environmental Forcings on Fecal Contam...  2016  \n",
       "15  Integrated modelling of faecal contamination i...  2014  \n",
       "16  Multiobjective Design Optimization in the Ligh...  2015  \n",
       "17  Applicability of Vertically Integrated Models ...  2017  \n",
       "21  A Bayesian belief network modelling of househo...  2016  \n",
       "25  Modeling and evaluating the sustainability of ...  2014  "
      ]
     },
     "execution_count": 26,
     "metadata": {},
     "output_type": "execute_result"
    }
   ],
   "source": [
    "# The publication set of interest!\n",
    "# Hiding keywords and abstract for tutorial (WoS-owned IP)\n",
    "topic_set.loc[:, ~topic_set.columns.isin(hide_columns)].head(10)  # show first 10"
   ]
  },
  {
   "cell_type": "code",
   "execution_count": 27,
   "metadata": {},
   "outputs": [],
   "source": [
    "topic_recs = wosis.extract_recs(topic_set.loc[:, 'id'], RC, 'Topic of Interest')"
   ]
  },
  {
   "cell_type": "code",
   "execution_count": 28,
   "metadata": {},
   "outputs": [
    {
     "data": {
      "image/png": "[encoded data removed]",
      "text/plain": [
       "<Figure size 432x576 with 10 Axes>"
      ]
     },
     "metadata": {
      "needs_background": "light"
     },
     "output_type": "display_data"
    }
   ],
   "source": [
    "wos_plot.plot_pubs_across_time(topic_recs)"
   ]
  },
  {
   "cell_type": "code",
   "execution_count": 29,
   "metadata": {},
   "outputs": [
    {
     "data": {
      "image/png": "[encoded data removed]",
      "text/plain": [
       "<Figure size 720x432 with 1 Axes>"
      ]
     },
     "metadata": {
      "needs_background": "light"
     },
     "output_type": "display_data"
    }
   ],
   "source": [
    "wos_plot.plot_pubs_per_journal(topic_recs, top_n=10, annotate=True, show_stats=True)"
   ]
  },
  {
   "cell_type": "markdown",
   "metadata": {},
   "source": [
    "Other analysis can easily be accomplished with Pandas"
   ]
  },
  {
   "cell_type": "code",
   "execution_count": 32,
   "metadata": {},
   "outputs": [
    {
     "data": {
      "text/html": [
       "<div>\n",
       "<style scoped>\n",
       "    .dataframe tbody tr th:only-of-type {\n",
       "        vertical-align: middle;\n",
       "    }\n",
       "\n",
       "    .dataframe tbody tr th {\n",
       "        vertical-align: top;\n",
       "    }\n",
       "\n",
       "    .dataframe thead th {\n",
       "        text-align: right;\n",
       "    }\n",
       "</style>\n",
       "<table border=\"1\" class=\"dataframe\">\n",
       "  <thead>\n",
       "    <tr style=\"text-align: right;\">\n",
       "      <th></th>\n",
       "      <th>Citations</th>\n",
       "    </tr>\n",
       "    <tr>\n",
       "      <th>Publication</th>\n",
       "      <th></th>\n",
       "    </tr>\n",
       "  </thead>\n",
       "  <tbody>\n",
       "    <tr>\n",
       "      <th>Voinov, Alexey, 2013, 'Integronsters', integral and integrated modeling, ENVIRONMENTAL MODELLING &amp; SOFTWARE, 39, 149, 442976565</th>\n",
       "      <td>24</td>\n",
       "    </tr>\n",
       "    <tr>\n",
       "      <th>Jakeman, AJ, 2006, Ten iterative steps in development and evaluation of environmental models, ENVIRONMENTAL MODELLING &amp; SOFTWARE, 21, 602, 66585814</th>\n",
       "      <td>18</td>\n",
       "    </tr>\n",
       "    <tr>\n",
       "      <th>Laniak, Gerard F., 2013, Integrated environmental modeling: A vision and roadmap for the future, ENVIRONMENTAL MODELLING &amp; SOFTWARE, 39, 3, 442976548</th>\n",
       "      <td>18</td>\n",
       "    </tr>\n",
       "    <tr>\n",
       "      <th>Castronova, Anthony M., 2013, Integrated modeling within a Hydrologic Information System: An OpenMI based approach, ENVIRONMENTAL MODELLING &amp; SOFTWARE, 39, 263, 434864554</th>\n",
       "      <td>16</td>\n",
       "    </tr>\n",
       "    <tr>\n",
       "      <th>Argent, RM, 2004, An overview of model integration for environmental application - components, frameworks and semantics, ENVIRONMENTAL MODELLING &amp; SOFTWARE, 19, 219, 495524493</th>\n",
       "      <td>14</td>\n",
       "    </tr>\n",
       "    <tr>\n",
       "      <th>Granell, Carlos, 2013, Seeing the forest through the trees: A review of integrated environmental modelling tools, COMPUTERS ENVIRONMENT AND URBAN SYSTEMS, 41, 136, 459488160</th>\n",
       "      <td>11</td>\n",
       "    </tr>\n",
       "    <tr>\n",
       "      <th>Arnold, JG, 1998, Large area hydrologic modeling and assessment - Part 1: Model development, JOURNAL OF THE AMERICAN WATER RESOURCES ASSOCIATION, 34, 73, 622773</th>\n",
       "      <td>11</td>\n",
       "    </tr>\n",
       "    <tr>\n",
       "      <th>Kelly (Letcher), Rebecca A., 2013, Selecting among five common modelling approaches for integrated environmental assessment and management, ENVIRONMENTAL MODELLING &amp; SOFTWARE, 47, 159, 455902900</th>\n",
       "      <td>11</td>\n",
       "    </tr>\n",
       "    <tr>\n",
       "      <th>Peckham, Scott D., 2013, A component-based approach to integrated modeling in the geosciences: The design of CSDMS, COMPUTERS &amp; GEOSCIENCES, 53, 3, 450501274</th>\n",
       "      <td>11</td>\n",
       "    </tr>\n",
       "    <tr>\n",
       "      <th>Gregersen, J. B., 2007, OpenMI: Open modelling interface, JOURNAL OF HYDROINFORMATICS, 9, 175, 77085140</th>\n",
       "      <td>10</td>\n",
       "    </tr>\n",
       "  </tbody>\n",
       "</table>\n",
       "</div>"
      ],
      "text/plain": [
       "                                                    Citations\n",
       "Publication                                                  \n",
       "Voinov, Alexey, 2013, 'Integronsters', integral...         24\n",
       "Jakeman, AJ, 2006, Ten iterative steps in devel...         18\n",
       "Laniak, Gerard F., 2013, Integrated environment...         18\n",
       "Castronova, Anthony M., 2013, Integrated modeli...         16\n",
       "Argent, RM, 2004, An overview of model integrat...         14\n",
       "Granell, Carlos, 2013, Seeing the forest throug...         11\n",
       "Arnold, JG, 1998, Large area hydrologic modelin...         11\n",
       "Kelly (Letcher), Rebecca A., 2013, Selecting am...         11\n",
       "Peckham, Scott D., 2013, A component-based appr...         11\n",
       "Gregersen, J. B., 2007, OpenMI: Open modelling ...         10"
      ]
     },
     "execution_count": 32,
     "metadata": {},
     "output_type": "execute_result"
    }
   ],
   "source": [
    "# Top 10 papers count\n",
    "citation_info = topic_recs.localCiteStats(pandasFriendly=True)\n",
    "paper_citations = pd.DataFrame(citation_info)\n",
    "paper_citations = paper_citations.set_index('Citations', drop=True)  # Set the citation name as index\n",
    "paper_citations = paper_citations.rename(columns={'Counts': 'Citations'})  # Rename 'Count' column to 'Citations'\n",
    "paper_citations.index.name = 'Publication'  # change name of index to Publication\n",
    "paper_citations.sort_values(by='Citations', ascending=False)[0:10]"
   ]
  },
  {
   "cell_type": "code",
   "execution_count": 33,
   "metadata": {},
   "outputs": [
    {
     "data": {
      "text/html": [
       "<div>\n",
       "<style scoped>\n",
       "    .dataframe tbody tr th:only-of-type {\n",
       "        vertical-align: middle;\n",
       "    }\n",
       "\n",
       "    .dataframe tbody tr th {\n",
       "        vertical-align: top;\n",
       "    }\n",
       "\n",
       "    .dataframe thead th {\n",
       "        text-align: right;\n",
       "    }\n",
       "</style>\n",
       "<table border=\"1\" class=\"dataframe\">\n",
       "  <thead>\n",
       "    <tr style=\"text-align: right;\">\n",
       "      <th></th>\n",
       "      <th>Counts</th>\n",
       "    </tr>\n",
       "    <tr>\n",
       "      <th>Citations</th>\n",
       "      <th></th>\n",
       "    </tr>\n",
       "  </thead>\n",
       "  <tbody>\n",
       "    <tr>\n",
       "      <th>Liu</th>\n",
       "      <td>35</td>\n",
       "    </tr>\n",
       "    <tr>\n",
       "      <th>Li</th>\n",
       "      <td>30</td>\n",
       "    </tr>\n",
       "    <tr>\n",
       "      <th>Zhang</th>\n",
       "      <td>30</td>\n",
       "    </tr>\n",
       "    <tr>\n",
       "      <th>Wang</th>\n",
       "      <td>30</td>\n",
       "    </tr>\n",
       "    <tr>\n",
       "      <th>Voinov</th>\n",
       "      <td>28</td>\n",
       "    </tr>\n",
       "    <tr>\n",
       "      <th>Arnold</th>\n",
       "      <td>22</td>\n",
       "    </tr>\n",
       "    <tr>\n",
       "      <th>Wu</th>\n",
       "      <td>20</td>\n",
       "    </tr>\n",
       "    <tr>\n",
       "      <th>Yang</th>\n",
       "      <td>20</td>\n",
       "    </tr>\n",
       "    <tr>\n",
       "      <th>Costanza</th>\n",
       "      <td>19</td>\n",
       "    </tr>\n",
       "    <tr>\n",
       "      <th>Jakeman</th>\n",
       "      <td>19</td>\n",
       "    </tr>\n",
       "  </tbody>\n",
       "</table>\n",
       "</div>"
      ],
      "text/plain": [
       "           Counts\n",
       "Citations        \n",
       "Liu            35\n",
       "Li             30\n",
       "Zhang          30\n",
       "Wang           30\n",
       "Voinov         28\n",
       "Arnold         22\n",
       "Wu             20\n",
       "Yang           20\n",
       "Costanza       19\n",
       "Jakeman        19"
      ]
     },
     "execution_count": 33,
     "metadata": {},
     "output_type": "execute_result"
    }
   ],
   "source": [
    "# Authors with most citations (careful interpreting this - author names are grouped by surname so it is misleading)\n",
    "author_citations = pd.DataFrame(topic_recs.localCiteStats(pandasFriendly=True, keyType='author'))\n",
    "author_citations = author_citations.set_index('Citations', drop=True)\n",
    "author_citations.sort_values(by='Counts', ascending=False).head(10)"
   ]
  },
  {
   "cell_type": "code",
   "execution_count": null,
   "metadata": {},
   "outputs": [],
   "source": []
  }
 ],
 "metadata": {
  "kernelspec": {
   "display_name": "Python (Biblio)",
   "language": "python",
   "name": "myenv"
  },
  "language_info": {
   "codemirror_mode": {
    "name": "ipython",
    "version": 3
   },
   "file_extension": ".py",
   "mimetype": "text/x-python",
   "name": "python",
   "nbconvert_exporter": "python",
   "pygments_lexer": "ipython3",
   "version": "3.5.6"
  }
 },
 "nbformat": 4,
 "nbformat_minor": 2
}
