{
 "cells": [
  {
   "cell_type": "markdown",
   "metadata": {},
   "source": [
    "# A quick tutorial on using Wosis"
   ]
  },
  {
   "cell_type": "markdown",
   "metadata": {},
   "source": [
    "Before we start, some known issues:\n",
    "\n",
    "* Methods - especially plotting - switch from relying on Pandas DataFrames to Metaknowledge Collections.\n",
    "This is because some things are easier to accomplish with one or the other. In the future, I hope to consolidate these to use just one, not a mishmash of both. \n",
    "\n",
    "* Some documentation is currently missing\n",
    "\n",
    "Suggestions on how to improve usability is appreciated, and can be made by [submitting an issue](https://github.com/ConnectedSystems/wosis/issues) with a 'usability' tag."
   ]
  },
  {
   "cell_type": "markdown",
   "metadata": {},
   "source": [
    "The cell below shows the Python version in use for this guide. Versions equal to and above should be fine."
   ]
  },
  {
   "cell_type": "code",
   "execution_count": 1,
   "metadata": {},
   "outputs": [
    {
     "name": "stdout",
     "output_type": "stream",
     "text": [
      "sys.version_info(major=3, minor=5, micro=6, releaselevel='final', serial=0)\n"
     ]
    }
   ],
   "source": [
    "import sys\n",
    "print(sys.version_info)"
   ]
  },
  {
   "cell_type": "markdown",
   "metadata": {},
   "source": [
    "There are two options to install Wosis for development use:\n",
    "\n",
    "1) clone the project with `git` (the dollar sign represents the terminal prompt)\n",
    "\n",
    "```bash\n",
    "$ git clone https://github.com/ConnectedSystems/wosis.git\n",
    "$ cd wosis\n",
    "$ pip install git+https://github.com/ConnectedSystems/metaknowledge.git@add-collections\n",
    "$ pip install git+https://github.com/titipata/wos_parser.git@master\n",
    "$ pip install -e .\n",
    "```\n",
    "\n",
    "2) download, and extract, the project files from the [github repo](https://github.com/ConnectedSystems/wosis) (look for the green button on the right hand side)\n",
    "\n",
    "```bash\n",
    "$ pip install git+https://github.com/ConnectedSystems/metaknowledge.git@add-collections\n",
    "$ pip install git+https://github.com/titipata/wos_parser.git@master\n",
    "$ pip install -e .\n",
    "```\n",
    "\n",
    "Note the period (`.`) - yes it is important!\n",
    "\n",
    "The first two `pip install` commands downloads and installs specific package versions that are required by Wosis."
   ]
  },
  {
   "cell_type": "markdown",
   "metadata": {},
   "source": [
    "Import packages"
   ]
  },
  {
   "cell_type": "code",
   "execution_count": 2,
   "metadata": {},
   "outputs": [],
   "source": [
    "import wosis\n",
    "import pandas as pd\n",
    "import metaknowledge as mk\n",
    "import json"
   ]
  },
  {
   "cell_type": "markdown",
   "metadata": {},
   "source": [
    "Load Web of Science configuration file (this assumes the relevant file is in the same place as this notebook).\n",
    "\n",
    "Remember not to share this file with anyone, or store it in a publicly accessible repository of any sort."
   ]
  },
  {
   "cell_type": "markdown",
   "metadata": {},
   "source": [
    "The `config.yml` file should hold your Web of Science username and password, like so:\n",
    "\n",
    "```yaml\n",
    "wos:\n",
    "  user: username\n",
    "  password: password\n",
    "```"
   ]
  },
  {
   "cell_type": "code",
   "execution_count": 3,
   "metadata": {},
   "outputs": [],
   "source": [
    "wos_config = wosis.load_config(\"config.yml\")"
   ]
  },
  {
   "cell_type": "markdown",
   "metadata": {},
   "source": [
    "Create a dictionary of search terms."
   ]
  },
  {
   "cell_type": "code",
   "execution_count": 4,
   "metadata": {},
   "outputs": [],
   "source": [
    "# dollar sign ($) is a wildcard used to match British and American spellings\n",
    "# e.g. flavo$r matches both flavour and flavor\n",
    "# see https://images.webofknowledge.com/images/help/WOS/hs_wildcards.html\n",
    "search_terms = {\n",
    "    \"inclusive_kw\": (\"Integrated Model$ing\", ),  # Keywords to include (NOTE THE TRAILING COMMA FOR SINGLE ENTRIES)\n",
    "    \"exclusive_kw\": (\"chemical\", \"industry\", \"cancer\", \"gene\"), # Keywords to exclude\n",
    "    \"exclusive_jo\": ('PSYCHOL*', ),  # Journals to exclude (the * tries to match anything after 'PSYCHOL')\n",
    "    \"subject_area\": (\"ENVIRONMENTAL SCIENCES\", \"WATER RESOURCES\", \"ENGINEERING ENVIRONMENTAL\", \"INTERDISCIPLINARY APPLICATIONS\"),\n",
    "}"
   ]
  },
  {
   "cell_type": "markdown",
   "metadata": {},
   "source": [
    "Then build a list of queries.\n",
    "\n",
    "The below generates a query string that we will send to Web of Science. Look at the guide here for an explanation:\n",
    "\n",
    "http://ipscience-help.thomsonreuters.com/wosWebServicesLite/WebServiceOperationsGroup/WebServiceOperations/g2/user_query.html"
   ]
  },
  {
   "cell_type": "code",
   "execution_count": 5,
   "metadata": {},
   "outputs": [
    {
     "data": {
      "text/plain": [
       "['TS=((\"Integrated Model$ing\") NOT (\"chemical\" OR \"industry\" OR \"cancer\" OR \"gene\")) NOT SO=(\"PSYCHOL*\") AND WC=(\"ENVIRONMENTAL SCIENCES\" OR \"WATER RESOURCES\" OR \"ENGINEERING ENVIRONMENTAL\" OR \"INTERDISCIPLINARY APPLICATIONS\")']"
      ]
     },
     "execution_count": 5,
     "metadata": {},
     "output_type": "execute_result"
    }
   ],
   "source": [
    "topics = [wosis.build_query(search_terms), ]\n",
    "topics"
   ]
  },
  {
   "cell_type": "markdown",
   "metadata": {},
   "source": [
    "Now we send off the query.\n",
    "\n",
    "Strangely, the time span of interest is not accepted as part of the WoS query, but we can specify this separately.\n",
    "\n",
    "The `%%time` Jupyter magic command is there so we know how long this process took.\n",
    "\n",
    "For very large amounts of records, getting the data can take a long time.\n",
    "\n",
    "Sometimes the retrieval process fails - this could be due to high amounts of traffic to the WoS servers. Most times there's no other option other than to try again."
   ]
  },
  {
   "cell_type": "code",
   "execution_count": 6,
   "metadata": {},
   "outputs": [
    {
     "name": "stdout",
     "output_type": "stream",
     "text": [
      "Authenticated (SID: 6EQ8PPTiAhEAjjMEahw)\n"
     ]
    },
    {
     "name": "stderr",
     "output_type": "stream",
     "text": [
      "c:\\userdata\\takuyai\\owncloud\\projects\\wosis\\wosis\\query.py:289: UserWarning: Using cached results...\n",
      "  warnings.warn(\"Using cached results...\")\n"
     ]
    },
    {
     "name": "stdout",
     "output_type": "stream",
     "text": [
      "Got 273 records\n",
      "Wall time: 1.98 s\n"
     ]
    }
   ],
   "source": [
    "%%time\n",
    "overwrite = False  # Do not overwrite previous identical search if it exists\n",
    "id_to_query, query_recs = wosis.query(topics, overwrite, wos_config, time_span={'begin': '2014-01-01', 'end': '2017-12-31'})"
   ]
  },
  {
   "cell_type": "markdown",
   "metadata": {},
   "source": [
    "We can get the publication records from the query result set directly. Remember, we only sent one query so it will be the first item in the dictionary"
   ]
  },
  {
   "cell_type": "code",
   "execution_count": 7,
   "metadata": {},
   "outputs": [
    {
     "name": "stdout",
     "output_type": "stream",
     "text": [
      "Corpora consists of 273 Publications\n"
     ]
    }
   ],
   "source": [
    "RC = list(query_recs.values())[0]\n",
    "\n",
    "print(\"Corpora consists of\", len(RC), \"Publications\")"
   ]
  },
  {
   "cell_type": "markdown",
   "metadata": {},
   "source": [
    "`id_to_query` is a dictionary that maps a result ID to the query that was sent."
   ]
  },
  {
   "cell_type": "code",
   "execution_count": 8,
   "metadata": {},
   "outputs": [
    {
     "data": {
      "text/plain": [
       "{'72e7af00b238db01d2b12d9a3c6a4fb6': 'TS=((\"Integrated Model$ing\") NOT (\"chemical\" OR \"industry\" OR \"cancer\" OR \"gene\")) NOT SO=(\"PSYCHOL*\") AND WC=(\"ENVIRONMENTAL SCIENCES\" OR \"WATER RESOURCES\" OR \"ENGINEERING ENVIRONMENTAL\" OR \"INTERDISCIPLINARY APPLICATIONS\")'}"
      ]
     },
     "execution_count": 8,
     "metadata": {},
     "output_type": "execute_result"
    }
   ],
   "source": [
    "id_to_query"
   ]
  },
  {
   "cell_type": "markdown",
   "metadata": {},
   "source": [
    "`query_recs` is a dictionary that maps a result ID to the matching publication set.\n",
    "\n",
    "The `wosis.query()` function will write out the query_id information in a text file so you know which dataset is associated with which query. The default location is a directory called `tmp`. Read the documentation for the `wosis.query()` function for more information.\n",
    "\n",
    "In this example, the unique ID for the query we just sent is `72e7af00b238db01d2b12d9a3c6a4fb6` (as you can see in the above cell).\n",
    "\n",
    "The resulting data is cached in RIS format.\n",
    "\n",
    "Wosis, through Metaknowledge, can read such RIS formatted data, for example exported from a reference manager such as EndNote, Mendeley, or Zotero (and others). \n",
    "\n",
    "In this example the dataset is cached in a `txt` file labelled with the `query_id`.\n",
    "\n",
    "The associated dataset can then be read back in like so:\n",
    "\n",
    "```python\n",
    "RC = wosis.load_query_results('72e7af00b238db01d2b12d9a3c6a4fb6', file_loc='tmp')\n",
    "```\n",
    "\n",
    "Otherwise, we can get the publication records from the query result set directly, as we did above\n",
    "\n",
    "```python\n",
    "\n",
    "# Get the ID of the query result set:\n",
    "query_id = list(id_to_query)[0]\n",
    "\n",
    "print(\"Query ID: \", query_id, \"\\nQuery String:\", id_to_query[query_id], \"\\n\")\n",
    "\n",
    "# Load it in as a metaknowledge collection\n",
    "RC = mk.RecordCollection(\"tmp/{}.txt\".format(query_id))\n",
    "\n",
    "# If we want to constrain the time frame later, this is how we do it\n",
    "# RC = RC.yearSplit(0, 2017)\n",
    "```"
   ]
  },
  {
   "cell_type": "markdown",
   "metadata": {},
   "source": [
    "Before we do any analysis, let's write out a representative dataset.\n",
    "\n",
    "To use it for publication (e.g. adding it to an appendix or making it available for transparency purposes) the dataset has to be stripped of the WoS generated keywords, abstract, and some other ancillary data as these are proprietary owned by Clarivate.\n",
    "\n",
    "At the time of writing, the usage agreement states that any dataset derived from Web of Science made publicly available has to specify that it came from Clarivate, and when the data was retrieved. This has to be included inside any file you share.\n",
    "\n",
    "Wosis can do this for you, as shown in the cell below.\n",
    "\n",
    "First create a `data` directory in the location indicated (`..` means \"the level above the current directory\" which should be where this notebook is)\n",
    "\n",
    "Don't forget to change the retrieval date!"
   ]
  },
  {
   "cell_type": "code",
   "execution_count": 9,
   "metadata": {},
   "outputs": [],
   "source": [
    "wosis.export_representative_file(RC, retrieval_date='1 December 2018', data_fn='../data/repset.csv')"
   ]
  },
  {
   "cell_type": "markdown",
   "metadata": {},
   "source": [
    "Now the fun begins.\n",
    "\n",
    "Analysis setup:"
   ]
  },
  {
   "cell_type": "code",
   "execution_count": 10,
   "metadata": {},
   "outputs": [],
   "source": [
    "# Helper functions for plotting\n",
    "import wosis.analysis.plotting as wos_plot\n",
    "\n",
    "# Analysis and search functions\n",
    "from wosis.analysis import (preview_matches, search_records, keyword_matches, \n",
    "                            find_pubs_by_authors, preview_matches_by_keyword, get_unique_kw_titles,\n",
    "                            remove_by_journals, remove_by_title)\n",
    "\n",
    "# Plotting libraries\n",
    "import matplotlib.pyplot as plt\n",
    "import seaborn as sns\n",
    "\n",
    "# This just helps make the plots look nicer\n",
    "sns.set_style('darkgrid')\n",
    "sns.set_context('paper', font_scale=2.0)"
   ]
  },
  {
   "cell_type": "markdown",
   "metadata": {},
   "source": [
    "Basic analysis can be done with Pandas, but more complicated stuff is made simple by included Wosis helper functions"
   ]
  },
  {
   "cell_type": "markdown",
   "metadata": {},
   "source": [
    "For the purposes of this tutorial, lets assume that publications without DOIs are unusable for our analysis.\n",
    "\n",
    "The cell below will convert the records to a Pandas DataFrame, and then remove rows with blank DOIs."
   ]
  },
  {
   "cell_type": "code",
   "execution_count": 11,
   "metadata": {},
   "outputs": [
    {
     "name": "stdout",
     "output_type": "stream",
     "text": [
      "Removing 17 records with no DOIs\n"
     ]
    }
   ],
   "source": [
    "corpora_df = wosis.rec_to_df(RC)\n",
    "corpora_df, removed_pubs = wosis.constrain.remove_empty_DOIs(corpora_df)"
   ]
  },
  {
   "cell_type": "markdown",
   "metadata": {},
   "source": [
    "We can also filter by partial match on Journal name and titles.\n",
    "\n",
    "These methods will print out the number of articles removed for each search string.\n",
    "\n",
    "*WARNING:* This example uses Pandas DataFrames. Future versions of Wosis will apply the changes to a Metaknowledge collection instead"
   ]
  },
  {
   "cell_type": "code",
   "execution_count": 12,
   "metadata": {},
   "outputs": [
    {
     "name": "stdout",
     "output_type": "stream",
     "text": [
      "PSYCHOL: 0\n",
      "BIOINFO: 0\n"
     ]
    },
    {
     "data": {
      "text/html": [
       "<div>\n",
       "<style scoped>\n",
       "    .dataframe tbody tr th:only-of-type {\n",
       "        vertical-align: middle;\n",
       "    }\n",
       "\n",
       "    .dataframe tbody tr th {\n",
       "        vertical-align: top;\n",
       "    }\n",
       "\n",
       "    .dataframe thead th {\n",
       "        text-align: right;\n",
       "    }\n",
       "</style>\n",
       "<table border=\"1\" class=\"dataframe\">\n",
       "  <thead>\n",
       "    <tr style=\"text-align: right;\">\n",
       "      <th></th>\n",
       "      <th>AU</th>\n",
       "      <th>SO</th>\n",
       "      <th>title</th>\n",
       "      <th>year</th>\n",
       "    </tr>\n",
       "  </thead>\n",
       "  <tbody>\n",
       "    <tr>\n",
       "      <th>0</th>\n",
       "      <td>Elsawah, Sondoss|Pierce, Suzanne A.|Hamilton, ...</td>\n",
       "      <td>ENVIRONMENTAL MODELLING &amp; SOFTWARE</td>\n",
       "      <td>An overview of the system dynamics process for...</td>\n",
       "      <td>2017</td>\n",
       "    </tr>\n",
       "    <tr>\n",
       "      <th>1</th>\n",
       "      <td>Srivastava, P. K.|Singh, Raj Mohan</td>\n",
       "      <td>AGRICULTURAL WATER MANAGEMENT</td>\n",
       "      <td>GIS based integrated modelling framework for a...</td>\n",
       "      <td>2016</td>\n",
       "    </tr>\n",
       "    <tr>\n",
       "      <th>2</th>\n",
       "      <td>Shrestha, Narayan Kumar|Leta, Olkeba Tolessa|D...</td>\n",
       "      <td>JOURNAL OF HYDROINFORMATICS</td>\n",
       "      <td>Modelling Escherichia coli dynamics in the riv...</td>\n",
       "      <td>2014</td>\n",
       "    </tr>\n",
       "    <tr>\n",
       "      <th>3</th>\n",
       "      <td>Ala-aho, Pertti|Soulsby, Chris|Wang, Hailong|T...</td>\n",
       "      <td>JOURNAL OF HYDROLOGY</td>\n",
       "      <td>Integrated surface-subsurface model to investi...</td>\n",
       "      <td>2017</td>\n",
       "    </tr>\n",
       "    <tr>\n",
       "      <th>4</th>\n",
       "      <td>Igos, Elorri|Besson, Mathilde|Gutierrez, Tomas...</td>\n",
       "      <td>WATER RESEARCH</td>\n",
       "      <td>Assessment of environmental impacts and operat...</td>\n",
       "      <td>2017</td>\n",
       "    </tr>\n",
       "  </tbody>\n",
       "</table>\n",
       "</div>"
      ],
      "text/plain": [
       "                                                  AU  \\\n",
       "0  Elsawah, Sondoss|Pierce, Suzanne A.|Hamilton, ...   \n",
       "1                 Srivastava, P. K.|Singh, Raj Mohan   \n",
       "2  Shrestha, Narayan Kumar|Leta, Olkeba Tolessa|D...   \n",
       "3  Ala-aho, Pertti|Soulsby, Chris|Wang, Hailong|T...   \n",
       "4  Igos, Elorri|Besson, Mathilde|Gutierrez, Tomas...   \n",
       "\n",
       "                                   SO  \\\n",
       "0  ENVIRONMENTAL MODELLING & SOFTWARE   \n",
       "1       AGRICULTURAL WATER MANAGEMENT   \n",
       "2         JOURNAL OF HYDROINFORMATICS   \n",
       "3                JOURNAL OF HYDROLOGY   \n",
       "4                      WATER RESEARCH   \n",
       "\n",
       "                                               title  year  \n",
       "0  An overview of the system dynamics process for...  2017  \n",
       "1  GIS based integrated modelling framework for a...  2016  \n",
       "2  Modelling Escherichia coli dynamics in the riv...  2014  \n",
       "3  Integrated surface-subsurface model to investi...  2017  \n",
       "4  Assessment of environmental impacts and operat...  2017  "
      ]
     },
     "execution_count": 12,
     "metadata": {},
     "output_type": "execute_result"
    }
   ],
   "source": [
    "from wosis.analysis import remove_by_journals, remove_by_title\n",
    "\n",
    "# List of unrelated Journals - will be matched by partial string\n",
    "unrelated_jo = ['PSYCHOL', 'BIOINFO']\n",
    "\n",
    "# Think of the parameter order like \"with this dataset, remove these unrelated journals\"\n",
    "corpora_df = remove_by_journals(corpora_df, unrelated_jo)\n",
    "\n",
    "# Hiding keywords and abstract for tutorial (WoS-owned IP)\n",
    "hide_columns = ['DE', 'abstract', 'keywords', 'DOI', 'id', 'kws']\n",
    "corpora_df.loc[:, ~corpora_df.columns.isin(hide_columns)].head()  # display first 5"
   ]
  },
  {
   "cell_type": "code",
   "execution_count": 13,
   "metadata": {},
   "outputs": [
    {
     "name": "stdout",
     "output_type": "stream",
     "text": [
      "transportation networks: 0\n",
      "Travel Destination: 0\n",
      "portfolio optimization: 0\n"
     ]
    },
    {
     "data": {
      "text/html": [
       "<div>\n",
       "<style scoped>\n",
       "    .dataframe tbody tr th:only-of-type {\n",
       "        vertical-align: middle;\n",
       "    }\n",
       "\n",
       "    .dataframe tbody tr th {\n",
       "        vertical-align: top;\n",
       "    }\n",
       "\n",
       "    .dataframe thead th {\n",
       "        text-align: right;\n",
       "    }\n",
       "</style>\n",
       "<table border=\"1\" class=\"dataframe\">\n",
       "  <thead>\n",
       "    <tr style=\"text-align: right;\">\n",
       "      <th></th>\n",
       "      <th>AU</th>\n",
       "      <th>SO</th>\n",
       "      <th>title</th>\n",
       "      <th>year</th>\n",
       "    </tr>\n",
       "  </thead>\n",
       "  <tbody>\n",
       "    <tr>\n",
       "      <th>0</th>\n",
       "      <td>Elsawah, Sondoss|Pierce, Suzanne A.|Hamilton, ...</td>\n",
       "      <td>ENVIRONMENTAL MODELLING &amp; SOFTWARE</td>\n",
       "      <td>An overview of the system dynamics process for...</td>\n",
       "      <td>2017</td>\n",
       "    </tr>\n",
       "    <tr>\n",
       "      <th>1</th>\n",
       "      <td>Srivastava, P. K.|Singh, Raj Mohan</td>\n",
       "      <td>AGRICULTURAL WATER MANAGEMENT</td>\n",
       "      <td>GIS based integrated modelling framework for a...</td>\n",
       "      <td>2016</td>\n",
       "    </tr>\n",
       "    <tr>\n",
       "      <th>2</th>\n",
       "      <td>Shrestha, Narayan Kumar|Leta, Olkeba Tolessa|D...</td>\n",
       "      <td>JOURNAL OF HYDROINFORMATICS</td>\n",
       "      <td>Modelling Escherichia coli dynamics in the riv...</td>\n",
       "      <td>2014</td>\n",
       "    </tr>\n",
       "    <tr>\n",
       "      <th>3</th>\n",
       "      <td>Ala-aho, Pertti|Soulsby, Chris|Wang, Hailong|T...</td>\n",
       "      <td>JOURNAL OF HYDROLOGY</td>\n",
       "      <td>Integrated surface-subsurface model to investi...</td>\n",
       "      <td>2017</td>\n",
       "    </tr>\n",
       "    <tr>\n",
       "      <th>4</th>\n",
       "      <td>Igos, Elorri|Besson, Mathilde|Gutierrez, Tomas...</td>\n",
       "      <td>WATER RESEARCH</td>\n",
       "      <td>Assessment of environmental impacts and operat...</td>\n",
       "      <td>2017</td>\n",
       "    </tr>\n",
       "  </tbody>\n",
       "</table>\n",
       "</div>"
      ],
      "text/plain": [
       "                                                  AU  \\\n",
       "0  Elsawah, Sondoss|Pierce, Suzanne A.|Hamilton, ...   \n",
       "1                 Srivastava, P. K.|Singh, Raj Mohan   \n",
       "2  Shrestha, Narayan Kumar|Leta, Olkeba Tolessa|D...   \n",
       "3  Ala-aho, Pertti|Soulsby, Chris|Wang, Hailong|T...   \n",
       "4  Igos, Elorri|Besson, Mathilde|Gutierrez, Tomas...   \n",
       "\n",
       "                                   SO  \\\n",
       "0  ENVIRONMENTAL MODELLING & SOFTWARE   \n",
       "1       AGRICULTURAL WATER MANAGEMENT   \n",
       "2         JOURNAL OF HYDROINFORMATICS   \n",
       "3                JOURNAL OF HYDROLOGY   \n",
       "4                      WATER RESEARCH   \n",
       "\n",
       "                                               title  year  \n",
       "0  An overview of the system dynamics process for...  2017  \n",
       "1  GIS based integrated modelling framework for a...  2016  \n",
       "2  Modelling Escherichia coli dynamics in the riv...  2014  \n",
       "3  Integrated surface-subsurface model to investi...  2017  \n",
       "4  Assessment of environmental impacts and operat...  2017  "
      ]
     },
     "execution_count": 13,
     "metadata": {},
     "output_type": "execute_result"
    }
   ],
   "source": [
    "unrelated_TI = ['transportation networks', 'Travel Destination', 'portfolio optimization']\n",
    "\n",
    "# Again, with this dataset remove these titles\n",
    "corpora_df = remove_by_title(corpora_df, unrelated_TI)\n",
    "\n",
    "# Hiding keywords and abstract for tutorial (WoS-owned IP)\n",
    "corpora_df.loc[:, ~corpora_df.columns.isin(hide_columns)].head()  # display first 5"
   ]
  },
  {
   "cell_type": "markdown",
   "metadata": {},
   "source": [
    "We can then create a new Metaknowledge collection using the WOS ID"
   ]
  },
  {
   "cell_type": "code",
   "execution_count": 14,
   "metadata": {},
   "outputs": [],
   "source": [
    "filtered_corpora = wosis.extract_recs(corpora_df.loc[:, 'id'], RC, name='Filtered Corpora')"
   ]
  },
  {
   "cell_type": "markdown",
   "metadata": {},
   "source": [
    "Wosis has a number of convenient plotting functions. \n",
    "\n",
    "All of plotting functions \n",
    "* can save the resulting figure to a file by giving a file location to the `save_plot_fn` parameter.\n",
    "  The figure will be saved in PNG format at 300dpi resolution.\n",
    "* returns a matplotlib figure object so you can make further adjustments if desired\n",
    "\n",
    "For example:\n",
    "\n",
    "```python\n",
    "wos_plot.plot_pub_trend(filtered_corpora, title='Publication Trend', save_plot_fn=r'C:\\temp\\my_figure.png')\n",
    "```"
   ]
  },
  {
   "cell_type": "code",
   "execution_count": 15,
   "metadata": {},
   "outputs": [
    {
     "data": {
      "image/png": "[encoded data removed]",
      "text/plain": [
       "<Figure size 648x432 with 1 Axes>"
      ]
     },
     "metadata": {
      "needs_background": "light"
     },
     "output_type": "display_data"
    }
   ],
   "source": [
    "# Plotting out the publication trend. \n",
    "wos_plot.plot_pub_trend(filtered_corpora, title='Publication Trend', save_plot_fn=False)"
   ]
  },
  {
   "cell_type": "code",
   "execution_count": 16,
   "metadata": {},
   "outputs": [
    {
     "data": {
      "image/png": "[encoded data removed]",
      "text/plain": [
       "<Figure size 1296x432 with 2 Axes>"
      ]
     },
     "metadata": {
      "needs_background": "light"
     },
     "output_type": "display_data"
    }
   ],
   "source": [
    "# Plot out the keyword trend\n",
    "wos_plot.plot_kw_trend(filtered_corpora, title='Keyword Trend', save_plot_fn=False)"
   ]
  },
  {
   "cell_type": "markdown",
   "metadata": {},
   "source": [
    "You can also sort the publications into specific criterias.\n",
    "\n",
    "This matches similar words as found in the title, abstract, and keyword sections."
   ]
  },
  {
   "cell_type": "code",
   "execution_count": 17,
   "metadata": {},
   "outputs": [],
   "source": [
    "# Keyword types adapted from Zare et al. (2017)\n",
    "# http://dx.doi.org/10.1016/j.jhydrol.2017.07.031\n",
    "\n",
    "criteria = {\n",
    "    'overarching': set(['uncertainty', 'adapt', 'decision support', 'management', 'gis']),\n",
    "    'agri': set(['agricultur', 'farm']),\n",
    "    'water': set(['hydrology', 'water', 'stream', 'aquifer']),\n",
    "    'enviro': set(['environment', 'climate', 'ecology', 'ecosystem', 'biodivers']),\n",
    "    'socio_economic': set(['ecosystem service', 'social', 'conflict', 'particip', 'law', 'stakehold', 'policy', 'economic'])\n",
    "}\n",
    "\n",
    "crit_matches, crit_summary = wosis.keyword_matches_by_criteria(filtered_corpora, criteria, threshold=95.0)"
   ]
  },
  {
   "cell_type": "code",
   "execution_count": 18,
   "metadata": {},
   "outputs": [
    {
     "data": {
      "image/png": "[encoded data removed]",
      "text/plain": [
       "<Figure size 432x288 with 1 Axes>"
      ]
     },
     "metadata": {
      "needs_background": "light"
     },
     "output_type": "display_data"
    }
   ],
   "source": [
    "criteria_df = wosis.collate_keyword_criteria_matches(filtered_corpora, crit_matches)\n",
    "wos_plot.plot_criteria_trend(criteria_df, threshold=3)"
   ]
  },
  {
   "cell_type": "markdown",
   "metadata": {},
   "source": [
    "Remember, you can look at the documentation for anything with the question mark magic command"
   ]
  },
  {
   "cell_type": "code",
   "execution_count": 19,
   "metadata": {},
   "outputs": [],
   "source": [
    "?wos_plot.plot_criteria_trend"
   ]
  },
  {
   "cell_type": "markdown",
   "metadata": {},
   "source": [
    "If desired, you can search the publications for a specific keyword (or list of keywords).\n",
    "\n",
    "Here, we look for some keywords related to the field costs - anything that is 95% similar to the given keywords is acceptable."
   ]
  },
  {
   "cell_type": "code",
   "execution_count": 20,
   "metadata": {},
   "outputs": [],
   "source": [
    "matching_records, summary = keyword_matches(filtered_corpora, ['finance', 'costs', 'capita', 'monetary'], threshold=95.0)"
   ]
  },
  {
   "cell_type": "code",
   "execution_count": 21,
   "metadata": {},
   "outputs": [
    {
     "data": {
      "image/png": "[encoded data removed]",
      "text/plain": [
       "<Figure size 576x432 with 1 Axes>"
      ]
     },
     "metadata": {
      "needs_background": "light"
     },
     "output_type": "display_data"
    }
   ],
   "source": [
    "wos_plot.plot_pub_per_kw(matching_records, summary, filtered_corpora, kw_category='Finance')"
   ]
  },
  {
   "cell_type": "markdown",
   "metadata": {},
   "source": [
    "We can then attempt to find topics of interest\n",
    "\n",
    "*WARNING* : This is still under development and the function(s), parameter order, and return types may change"
   ]
  },
  {
   "cell_type": "code",
   "execution_count": 22,
   "metadata": {},
   "outputs": [
    {
     "name": "stdout",
     "output_type": "stream",
     "text": [
      "Topic 1: water irrigation supply demand management river resources use allocation agricultural\n",
      "Topic 2: model modeling river modelling environmental management quality data models framework\n",
      "Topic 3: urban modelling infrastructure water planning drainage systems stormwater tools model\n",
      "Topic 4: climate change future impacts scenarios changes vulnerability population agricultural hydrological\n",
      "Topic 5: flood flash rainfall hydrological catchment occurrence floods hazard temporal events\n",
      "Topic 6: air traffic pollution emissions emission quality pollutants dispersion modelling stormwater\n",
      "Topic 7: groundwater surface flow recharge aquifer water low model irrigation storage\n",
      "Topic 8: energy transport modeling carbon electricity emissions generation nexus planning buildings\n",
      "Topic 9: land use change soil erosion farm aquatic changes scenarios degradation\n",
      "Topic 10: web models service component services interoperability components integration data temporal\n"
     ]
    }
   ],
   "source": [
    "from wosis.analysis import find_topics, get_topic_by_id\n",
    "\n",
    "filtered_corpora_df = pd.DataFrame(filtered_corpora.forNLP(extraColumns=[\"AU\", \"SO\", \"DE\"]))\n",
    "topic_model, trans, feature_names = find_topics(filtered_corpora_df, num_topics=10)"
   ]
  },
  {
   "cell_type": "markdown",
   "metadata": {},
   "source": [
    "If the identified topics are too vague or not of interest, try increasing the number of topics. Conversely, if they are too specific, try lowering the number of topics.\n",
    "\n",
    "Say we're interested in Topic 2. The cell below shows how to get the publications for this topic."
   ]
  },
  {
   "cell_type": "code",
   "execution_count": 23,
   "metadata": {},
   "outputs": [],
   "source": [
    "id_of_interesting_topic = 2\n",
    "\n",
    "topic_set = get_topic_by_id(topic_model, trans, id_of_interesting_topic, filtered_corpora_df)"
   ]
  },
  {
   "cell_type": "code",
   "execution_count": 24,
   "metadata": {},
   "outputs": [
    {
     "name": "stdout",
     "output_type": "stream",
     "text": [
      "Number of publications in topic set: 125\n"
     ]
    }
   ],
   "source": [
    "print(\"Number of publications in topic set:\", len(topic_set))"
   ]
  },
  {
   "cell_type": "code",
   "execution_count": 25,
   "metadata": {},
   "outputs": [
    {
     "data": {
      "text/html": [
       "<div>\n",
       "<style scoped>\n",
       "    .dataframe tbody tr th:only-of-type {\n",
       "        vertical-align: middle;\n",
       "    }\n",
       "\n",
       "    .dataframe tbody tr th {\n",
       "        vertical-align: top;\n",
       "    }\n",
       "\n",
       "    .dataframe thead th {\n",
       "        text-align: right;\n",
       "    }\n",
       "</style>\n",
       "<table border=\"1\" class=\"dataframe\">\n",
       "  <thead>\n",
       "    <tr style=\"text-align: right;\">\n",
       "      <th></th>\n",
       "      <th>AU</th>\n",
       "      <th>SO</th>\n",
       "      <th>title</th>\n",
       "      <th>year</th>\n",
       "    </tr>\n",
       "  </thead>\n",
       "  <tbody>\n",
       "    <tr>\n",
       "      <th>0</th>\n",
       "      <td>Elsawah, Sondoss|Pierce, Suzanne A.|Hamilton, ...</td>\n",
       "      <td>ENVIRONMENTAL MODELLING &amp; SOFTWARE</td>\n",
       "      <td>An overview of the system dynamics process for...</td>\n",
       "      <td>2017</td>\n",
       "    </tr>\n",
       "    <tr>\n",
       "      <th>2</th>\n",
       "      <td>Shrestha, Narayan Kumar|Leta, Olkeba Tolessa|D...</td>\n",
       "      <td>JOURNAL OF HYDROINFORMATICS</td>\n",
       "      <td>Modelling Escherichia coli dynamics in the riv...</td>\n",
       "      <td>2014</td>\n",
       "    </tr>\n",
       "    <tr>\n",
       "      <th>4</th>\n",
       "      <td>Igos, Elorri|Besson, Mathilde|Gutierrez, Tomas...</td>\n",
       "      <td>WATER RESEARCH</td>\n",
       "      <td>Assessment of environmental impacts and operat...</td>\n",
       "      <td>2017</td>\n",
       "    </tr>\n",
       "    <tr>\n",
       "      <th>5</th>\n",
       "      <td>Morales, Viviana M.|Mier, Jose M.|Garcia, Marc...</td>\n",
       "      <td>URBAN WATER JOURNAL</td>\n",
       "      <td>Innovative modeling framework for combined sew...</td>\n",
       "      <td>2017</td>\n",
       "    </tr>\n",
       "    <tr>\n",
       "      <th>7</th>\n",
       "      <td>Sheykhi, Vahideh|Moore, Farid|Kavousi-Fard, Ab...</td>\n",
       "      <td>INTERNATIONAL JOURNAL OF RIVER BASIN MANAGEMENT</td>\n",
       "      <td>Integrated modelling with environmental parame...</td>\n",
       "      <td>2017</td>\n",
       "    </tr>\n",
       "    <tr>\n",
       "      <th>9</th>\n",
       "      <td>Tian, Yong|Zheng, Yi|Zheng, Chunmiao</td>\n",
       "      <td>COMPUTERS &amp; GEOSCIENCES</td>\n",
       "      <td>Development of a visualization tool for integr...</td>\n",
       "      <td>2016</td>\n",
       "    </tr>\n",
       "    <tr>\n",
       "      <th>10</th>\n",
       "      <td>Positano, Pio|Nannucci, Marco</td>\n",
       "      <td>ACQUE SOTTERRANEE-ITALIAN JOURNAL OF GROUNDWATER</td>\n",
       "      <td>The H2020 FREEWAT participated approach for th...</td>\n",
       "      <td>2017</td>\n",
       "    </tr>\n",
       "    <tr>\n",
       "      <th>12</th>\n",
       "      <td>Hughes, J. D.|Dutta, D.|Vaze, J.|Kim, S. S. H....</td>\n",
       "      <td>ENVIRONMENTAL MODELLING &amp; SOFTWARE</td>\n",
       "      <td>An automated multi-step calibration procedure ...</td>\n",
       "      <td>2014</td>\n",
       "    </tr>\n",
       "    <tr>\n",
       "      <th>14</th>\n",
       "      <td>Meng, Fanlin|Fu, Guangtao|Butler, David</td>\n",
       "      <td>WATER RESEARCH</td>\n",
       "      <td>Water quality permitting: From end-of-pipe to ...</td>\n",
       "      <td>2016</td>\n",
       "    </tr>\n",
       "    <tr>\n",
       "      <th>16</th>\n",
       "      <td>Tian, Yong|Zheng, Yi|Zheng, Chunmiao|Xiao, Hon...</td>\n",
       "      <td>WATER RESOURCES RESEARCH</td>\n",
       "      <td>Exploring scale-dependent ecohydrological resp...</td>\n",
       "      <td>2015</td>\n",
       "    </tr>\n",
       "  </tbody>\n",
       "</table>\n",
       "</div>"
      ],
      "text/plain": [
       "                                                   AU  \\\n",
       "0   Elsawah, Sondoss|Pierce, Suzanne A.|Hamilton, ...   \n",
       "2   Shrestha, Narayan Kumar|Leta, Olkeba Tolessa|D...   \n",
       "4   Igos, Elorri|Besson, Mathilde|Gutierrez, Tomas...   \n",
       "5   Morales, Viviana M.|Mier, Jose M.|Garcia, Marc...   \n",
       "7   Sheykhi, Vahideh|Moore, Farid|Kavousi-Fard, Ab...   \n",
       "9                Tian, Yong|Zheng, Yi|Zheng, Chunmiao   \n",
       "10                      Positano, Pio|Nannucci, Marco   \n",
       "12  Hughes, J. D.|Dutta, D.|Vaze, J.|Kim, S. S. H....   \n",
       "14            Meng, Fanlin|Fu, Guangtao|Butler, David   \n",
       "16  Tian, Yong|Zheng, Yi|Zheng, Chunmiao|Xiao, Hon...   \n",
       "\n",
       "                                                  SO  \\\n",
       "0                 ENVIRONMENTAL MODELLING & SOFTWARE   \n",
       "2                        JOURNAL OF HYDROINFORMATICS   \n",
       "4                                     WATER RESEARCH   \n",
       "5                                URBAN WATER JOURNAL   \n",
       "7    INTERNATIONAL JOURNAL OF RIVER BASIN MANAGEMENT   \n",
       "9                            COMPUTERS & GEOSCIENCES   \n",
       "10  ACQUE SOTTERRANEE-ITALIAN JOURNAL OF GROUNDWATER   \n",
       "12                ENVIRONMENTAL MODELLING & SOFTWARE   \n",
       "14                                    WATER RESEARCH   \n",
       "16                          WATER RESOURCES RESEARCH   \n",
       "\n",
       "                                                title  year  \n",
       "0   An overview of the system dynamics process for...  2017  \n",
       "2   Modelling Escherichia coli dynamics in the riv...  2014  \n",
       "4   Assessment of environmental impacts and operat...  2017  \n",
       "5   Innovative modeling framework for combined sew...  2017  \n",
       "7   Integrated modelling with environmental parame...  2017  \n",
       "9   Development of a visualization tool for integr...  2016  \n",
       "10  The H2020 FREEWAT participated approach for th...  2017  \n",
       "12  An automated multi-step calibration procedure ...  2014  \n",
       "14  Water quality permitting: From end-of-pipe to ...  2016  \n",
       "16  Exploring scale-dependent ecohydrological resp...  2015  "
      ]
     },
     "execution_count": 25,
     "metadata": {},
     "output_type": "execute_result"
    }
   ],
   "source": [
    "# The publication set of interest!\n",
    "# Hiding keywords and abstract for tutorial (WoS-owned IP)\n",
    "topic_set.loc[:, ~topic_set.columns.isin(hide_columns)].head(10)  # show first 10"
   ]
  },
  {
   "cell_type": "code",
   "execution_count": 26,
   "metadata": {},
   "outputs": [],
   "source": [
    "topic_recs = wosis.extract_recs(topic_set.loc[:, 'id'], RC, 'Topic of Interest')"
   ]
  },
  {
   "cell_type": "code",
   "execution_count": 27,
   "metadata": {},
   "outputs": [
    {
     "data": {
      "image/png": "[encoded data removed]",
      "text/plain": [
       "<Figure size 432x576 with 10 Axes>"
      ]
     },
     "metadata": {
      "needs_background": "light"
     },
     "output_type": "display_data"
    }
   ],
   "source": [
    "wos_plot.plot_journal_pub_trend(topic_recs)"
   ]
  },
  {
   "cell_type": "code",
   "execution_count": 28,
   "metadata": {},
   "outputs": [
    {
     "data": {
      "image/png": "[encoded data removed]",
      "text/plain": [
       "<Figure size 720x432 with 1 Axes>"
      ]
     },
     "metadata": {
      "needs_background": "light"
     },
     "output_type": "display_data"
    }
   ],
   "source": [
    "wos_plot.plot_pubs_per_journal(topic_recs, top_n=10, annotate=True, show_stats=True)"
   ]
  },
  {
   "cell_type": "code",
   "execution_count": 29,
   "metadata": {},
   "outputs": [
    {
     "data": {
      "text/html": [
       "<div>\n",
       "<style scoped>\n",
       "    .dataframe tbody tr th:only-of-type {\n",
       "        vertical-align: middle;\n",
       "    }\n",
       "\n",
       "    .dataframe tbody tr th {\n",
       "        vertical-align: top;\n",
       "    }\n",
       "\n",
       "    .dataframe thead th {\n",
       "        text-align: right;\n",
       "    }\n",
       "</style>\n",
       "<table border=\"1\" class=\"dataframe\">\n",
       "  <thead>\n",
       "    <tr style=\"text-align: right;\">\n",
       "      <th></th>\n",
       "      <th>Citations</th>\n",
       "    </tr>\n",
       "    <tr>\n",
       "      <th>Publication</th>\n",
       "      <th></th>\n",
       "    </tr>\n",
       "  </thead>\n",
       "  <tbody>\n",
       "    <tr>\n",
       "      <th>Voinov, Alexey, 2013, 'Integronsters', integral and integrated modeling, ENVIRONMENTAL MODELLING &amp; SOFTWARE, 39, 149, 442976565</th>\n",
       "      <td>18</td>\n",
       "    </tr>\n",
       "    <tr>\n",
       "      <th>Arnold, JG, 1998, Large area hydrologic modeling and assessment - Part 1: Model development, JOURNAL OF THE AMERICAN WATER RESOURCES ASSOCIATION, 34, 73, 622773</th>\n",
       "      <td>16</td>\n",
       "    </tr>\n",
       "    <tr>\n",
       "      <th>Kollet, Stefan J., 2006, Integrated surface-groundwater flow modeling: A free-surface overland flow boundary condition in a parallel groundwater flow model, ADVANCES IN WATER RESOURCES, 29, 945, 67314119</th>\n",
       "      <td>15</td>\n",
       "    </tr>\n",
       "    <tr>\n",
       "      <th>Nash, J. E., 1970, River flow forecasting through conceptual models part I-A discussion of principles, J. Hydrol., 10, 282, 281488</th>\n",
       "      <td>15</td>\n",
       "    </tr>\n",
       "    <tr>\n",
       "      <th>Beven, K, 2001, Equifinality, data assimilation, and uncertainty estimation in mechanistic modelling of complex environmental systems using the GLUE methodology, JOURNAL OF HYDROLOGY, 249, 11, 279450</th>\n",
       "      <td>15</td>\n",
       "    </tr>\n",
       "    <tr>\n",
       "      <th>Jakeman, AJ, 2006, Ten iterative steps in development and evaluation of environmental models, ENVIRONMENTAL MODELLING &amp; SOFTWARE, 21, 602, 66585814</th>\n",
       "      <td>15</td>\n",
       "    </tr>\n",
       "    <tr>\n",
       "      <th>Moriasi, D. N., 2007, Model evaluation guidelines for systematic quantification of accuracy in watershed simulations, TRANSACTIONS OF THE ASABE, 50, 885, 77179831</th>\n",
       "      <td>12</td>\n",
       "    </tr>\n",
       "    <tr>\n",
       "      <th>Kelly (Letcher), Rebecca A., 2013, Selecting among five common modelling approaches for integrated environmental assessment and management, ENVIRONMENTAL MODELLING &amp; SOFTWARE, 47, 159, 455902900</th>\n",
       "      <td>12</td>\n",
       "    </tr>\n",
       "    <tr>\n",
       "      <th>Laniak, Gerard F., 2013, Integrated environmental modeling: A vision and roadmap for the future, ENVIRONMENTAL MODELLING &amp; SOFTWARE, 39, 3, 442976548</th>\n",
       "      <td>12</td>\n",
       "    </tr>\n",
       "    <tr>\n",
       "      <th>Castelletti, A., 2004, PIP: a Participatory and Integrated Planning Procedure for Decision Making in Water Resource systems, 364468651</th>\n",
       "      <td>10</td>\n",
       "    </tr>\n",
       "  </tbody>\n",
       "</table>\n",
       "</div>"
      ],
      "text/plain": [
       "                                                    Citations\n",
       "Publication                                                  \n",
       "Voinov, Alexey, 2013, 'Integronsters', integral...         18\n",
       "Arnold, JG, 1998, Large area hydrologic modelin...         16\n",
       "Kollet, Stefan J., 2006, Integrated surface-gro...         15\n",
       "Nash, J. E., 1970, River flow forecasting throu...         15\n",
       "Beven, K, 2001, Equifinality, data assimilation...         15\n",
       "Jakeman, AJ, 2006, Ten iterative steps in devel...         15\n",
       "Moriasi, D. N., 2007, Model evaluation guidelin...         12\n",
       "Kelly (Letcher), Rebecca A., 2013, Selecting am...         12\n",
       "Laniak, Gerard F., 2013, Integrated environment...         12\n",
       "Castelletti, A., 2004, PIP: a Participatory and...         10"
      ]
     },
     "execution_count": 29,
     "metadata": {},
     "output_type": "execute_result"
    }
   ],
   "source": [
    "# Top 10 papers by citations\n",
    "wosis.analysis.pub_citations(topic_recs)[0:10]"
   ]
  },
  {
   "cell_type": "code",
   "execution_count": 30,
   "metadata": {},
   "outputs": [
    {
     "data": {
      "text/html": [
       "<div>\n",
       "<style scoped>\n",
       "    .dataframe tbody tr th:only-of-type {\n",
       "        vertical-align: middle;\n",
       "    }\n",
       "\n",
       "    .dataframe tbody tr th {\n",
       "        vertical-align: top;\n",
       "    }\n",
       "\n",
       "    .dataframe thead th {\n",
       "        text-align: right;\n",
       "    }\n",
       "</style>\n",
       "<table border=\"1\" class=\"dataframe\">\n",
       "  <thead>\n",
       "    <tr style=\"text-align: right;\">\n",
       "      <th></th>\n",
       "      <th>Citations</th>\n",
       "    </tr>\n",
       "    <tr>\n",
       "      <th>Publication</th>\n",
       "      <th></th>\n",
       "    </tr>\n",
       "  </thead>\n",
       "  <tbody>\n",
       "    <tr>\n",
       "      <th>Zhang</th>\n",
       "      <td>44</td>\n",
       "    </tr>\n",
       "    <tr>\n",
       "      <th>Liu</th>\n",
       "      <td>40</td>\n",
       "    </tr>\n",
       "    <tr>\n",
       "      <th>Li</th>\n",
       "      <td>40</td>\n",
       "    </tr>\n",
       "    <tr>\n",
       "      <th>Wang</th>\n",
       "      <td>34</td>\n",
       "    </tr>\n",
       "    <tr>\n",
       "      <th>Wu</th>\n",
       "      <td>30</td>\n",
       "    </tr>\n",
       "    <tr>\n",
       "      <th>Chen</th>\n",
       "      <td>28</td>\n",
       "    </tr>\n",
       "    <tr>\n",
       "      <th>Arnold</th>\n",
       "      <td>27</td>\n",
       "    </tr>\n",
       "    <tr>\n",
       "      <th>Beven</th>\n",
       "      <td>24</td>\n",
       "    </tr>\n",
       "    <tr>\n",
       "      <th>Yang</th>\n",
       "      <td>23</td>\n",
       "    </tr>\n",
       "    <tr>\n",
       "      <th>Lee</th>\n",
       "      <td>22</td>\n",
       "    </tr>\n",
       "  </tbody>\n",
       "</table>\n",
       "</div>"
      ],
      "text/plain": [
       "             Citations\n",
       "Publication           \n",
       "Zhang               44\n",
       "Liu                 40\n",
       "Li                  40\n",
       "Wang                34\n",
       "Wu                  30\n",
       "Chen                28\n",
       "Arnold              27\n",
       "Beven               24\n",
       "Yang                23\n",
       "Lee                 22"
      ]
     },
     "execution_count": 30,
     "metadata": {},
     "output_type": "execute_result"
    }
   ],
   "source": [
    "# # Authors with most citations (careful interpreting this - author names are grouped by surname so it is misleading)\n",
    "wosis.analysis.author_citations(topic_recs)[0:10]"
   ]
  },
  {
   "cell_type": "markdown",
   "metadata": {},
   "source": [
    "Wosis can also help create links to the publications where possible"
   ]
  },
  {
   "cell_type": "code",
   "execution_count": 31,
   "metadata": {},
   "outputs": [
    {
     "data": {
      "text/html": [
       "<div>\n",
       "<style scoped>\n",
       "    .dataframe tbody tr th:only-of-type {\n",
       "        vertical-align: middle;\n",
       "    }\n",
       "\n",
       "    .dataframe tbody tr th {\n",
       "        vertical-align: top;\n",
       "    }\n",
       "\n",
       "    .dataframe thead th {\n",
       "        text-align: right;\n",
       "    }\n",
       "</style>\n",
       "<table border=\"1\" class=\"dataframe\">\n",
       "  <thead>\n",
       "    <tr style=\"text-align: right;\">\n",
       "      <th></th>\n",
       "      <th>AU</th>\n",
       "      <th>SO</th>\n",
       "      <th>title</th>\n",
       "      <th>year</th>\n",
       "      <th>DOI link</th>\n",
       "    </tr>\n",
       "  </thead>\n",
       "  <tbody>\n",
       "    <tr>\n",
       "      <th>0</th>\n",
       "      <td>Elsawah, Sondoss|Pierce, Suzanne A.|Hamilton, ...</td>\n",
       "      <td>ENVIRONMENTAL MODELLING &amp; SOFTWARE</td>\n",
       "      <td>An overview of the system dynamics process for...</td>\n",
       "      <td>2017</td>\n",
       "      <td>https://dx.doi.org/10.1016/j.envsoft.2017.03.001</td>\n",
       "    </tr>\n",
       "    <tr>\n",
       "      <th>1</th>\n",
       "      <td>Shrestha, Narayan Kumar|Leta, Olkeba Tolessa|D...</td>\n",
       "      <td>JOURNAL OF HYDROINFORMATICS</td>\n",
       "      <td>Modelling Escherichia coli dynamics in the riv...</td>\n",
       "      <td>2014</td>\n",
       "      <td>https://dx.doi.org/10.2166/hydro.2013.171</td>\n",
       "    </tr>\n",
       "    <tr>\n",
       "      <th>2</th>\n",
       "      <td>Igos, Elorri|Besson, Mathilde|Gutierrez, Tomas...</td>\n",
       "      <td>WATER RESEARCH</td>\n",
       "      <td>Assessment of environmental impacts and operat...</td>\n",
       "      <td>2017</td>\n",
       "      <td>https://dx.doi.org/10.1016/j.watres.2017.09.016</td>\n",
       "    </tr>\n",
       "    <tr>\n",
       "      <th>3</th>\n",
       "      <td>Morales, Viviana M.|Mier, Jose M.|Garcia, Marc...</td>\n",
       "      <td>URBAN WATER JOURNAL</td>\n",
       "      <td>Innovative modeling framework for combined sew...</td>\n",
       "      <td>2017</td>\n",
       "      <td>https://dx.doi.org/10.1080/1573062X.2015.1057183</td>\n",
       "    </tr>\n",
       "    <tr>\n",
       "      <th>4</th>\n",
       "      <td>Sheykhi, Vahideh|Moore, Farid|Kavousi-Fard, Ab...</td>\n",
       "      <td>INTERNATIONAL JOURNAL OF RIVER BASIN MANAGEMENT</td>\n",
       "      <td>Integrated modelling with environmental parame...</td>\n",
       "      <td>2017</td>\n",
       "      <td>https://dx.doi.org/10.1080/15715124.2017.1300158</td>\n",
       "    </tr>\n",
       "    <tr>\n",
       "      <th>5</th>\n",
       "      <td>Tian, Yong|Zheng, Yi|Zheng, Chunmiao</td>\n",
       "      <td>COMPUTERS &amp; GEOSCIENCES</td>\n",
       "      <td>Development of a visualization tool for integr...</td>\n",
       "      <td>2016</td>\n",
       "      <td>https://dx.doi.org/10.1016/j.cageo.2015.09.019</td>\n",
       "    </tr>\n",
       "    <tr>\n",
       "      <th>6</th>\n",
       "      <td>Positano, Pio|Nannucci, Marco</td>\n",
       "      <td>ACQUE SOTTERRANEE-ITALIAN JOURNAL OF GROUNDWATER</td>\n",
       "      <td>The H2020 FREEWAT participated approach for th...</td>\n",
       "      <td>2017</td>\n",
       "      <td>https://dx.doi.org/10.7343/as-2017-290</td>\n",
       "    </tr>\n",
       "    <tr>\n",
       "      <th>7</th>\n",
       "      <td>Hughes, J. D.|Dutta, D.|Vaze, J.|Kim, S. S. H....</td>\n",
       "      <td>ENVIRONMENTAL MODELLING &amp; SOFTWARE</td>\n",
       "      <td>An automated multi-step calibration procedure ...</td>\n",
       "      <td>2014</td>\n",
       "      <td>https://dx.doi.org/10.1016/j.envsoft.2013.09.024</td>\n",
       "    </tr>\n",
       "    <tr>\n",
       "      <th>8</th>\n",
       "      <td>Meng, Fanlin|Fu, Guangtao|Butler, David</td>\n",
       "      <td>WATER RESEARCH</td>\n",
       "      <td>Water quality permitting: From end-of-pipe to ...</td>\n",
       "      <td>2016</td>\n",
       "      <td>https://dx.doi.org/10.1016/j.watres.2016.05.078</td>\n",
       "    </tr>\n",
       "    <tr>\n",
       "      <th>9</th>\n",
       "      <td>Tian, Yong|Zheng, Yi|Zheng, Chunmiao|Xiao, Hon...</td>\n",
       "      <td>WATER RESOURCES RESEARCH</td>\n",
       "      <td>Exploring scale-dependent ecohydrological resp...</td>\n",
       "      <td>2015</td>\n",
       "      <td>https://dx.doi.org/10.1002/2015WR016881</td>\n",
       "    </tr>\n",
       "  </tbody>\n",
       "</table>\n",
       "</div>"
      ],
      "text/plain": [
       "                                                  AU  \\\n",
       "0  Elsawah, Sondoss|Pierce, Suzanne A.|Hamilton, ...   \n",
       "1  Shrestha, Narayan Kumar|Leta, Olkeba Tolessa|D...   \n",
       "2  Igos, Elorri|Besson, Mathilde|Gutierrez, Tomas...   \n",
       "3  Morales, Viviana M.|Mier, Jose M.|Garcia, Marc...   \n",
       "4  Sheykhi, Vahideh|Moore, Farid|Kavousi-Fard, Ab...   \n",
       "5               Tian, Yong|Zheng, Yi|Zheng, Chunmiao   \n",
       "6                      Positano, Pio|Nannucci, Marco   \n",
       "7  Hughes, J. D.|Dutta, D.|Vaze, J.|Kim, S. S. H....   \n",
       "8            Meng, Fanlin|Fu, Guangtao|Butler, David   \n",
       "9  Tian, Yong|Zheng, Yi|Zheng, Chunmiao|Xiao, Hon...   \n",
       "\n",
       "                                                 SO  \\\n",
       "0                ENVIRONMENTAL MODELLING & SOFTWARE   \n",
       "1                       JOURNAL OF HYDROINFORMATICS   \n",
       "2                                    WATER RESEARCH   \n",
       "3                               URBAN WATER JOURNAL   \n",
       "4   INTERNATIONAL JOURNAL OF RIVER BASIN MANAGEMENT   \n",
       "5                           COMPUTERS & GEOSCIENCES   \n",
       "6  ACQUE SOTTERRANEE-ITALIAN JOURNAL OF GROUNDWATER   \n",
       "7                ENVIRONMENTAL MODELLING & SOFTWARE   \n",
       "8                                    WATER RESEARCH   \n",
       "9                          WATER RESOURCES RESEARCH   \n",
       "\n",
       "                                               title  year  \\\n",
       "0  An overview of the system dynamics process for...  2017   \n",
       "1  Modelling Escherichia coli dynamics in the riv...  2014   \n",
       "2  Assessment of environmental impacts and operat...  2017   \n",
       "3  Innovative modeling framework for combined sew...  2017   \n",
       "4  Integrated modelling with environmental parame...  2017   \n",
       "5  Development of a visualization tool for integr...  2016   \n",
       "6  The H2020 FREEWAT participated approach for th...  2017   \n",
       "7  An automated multi-step calibration procedure ...  2014   \n",
       "8  Water quality permitting: From end-of-pipe to ...  2016   \n",
       "9  Exploring scale-dependent ecohydrological resp...  2015   \n",
       "\n",
       "                                           DOI link  \n",
       "0  https://dx.doi.org/10.1016/j.envsoft.2017.03.001  \n",
       "1         https://dx.doi.org/10.2166/hydro.2013.171  \n",
       "2   https://dx.doi.org/10.1016/j.watres.2017.09.016  \n",
       "3  https://dx.doi.org/10.1080/1573062X.2015.1057183  \n",
       "4  https://dx.doi.org/10.1080/15715124.2017.1300158  \n",
       "5    https://dx.doi.org/10.1016/j.cageo.2015.09.019  \n",
       "6            https://dx.doi.org/10.7343/as-2017-290  \n",
       "7  https://dx.doi.org/10.1016/j.envsoft.2013.09.024  \n",
       "8   https://dx.doi.org/10.1016/j.watres.2016.05.078  \n",
       "9           https://dx.doi.org/10.1002/2015WR016881  "
      ]
     },
     "execution_count": 31,
     "metadata": {},
     "output_type": "execute_result"
    }
   ],
   "source": [
    "topic_df = wosis.link_to_pub(topic_recs)  # Creates a new column called 'DOI link'\n",
    "topic_df.loc[:, ~topic_df.columns.isin(hide_columns)].head(10)"
   ]
  },
  {
   "cell_type": "markdown",
   "metadata": {},
   "source": [
    "Other analysis can easily be accomplished with Pandas"
   ]
  }
 ],
 "metadata": {
  "kernelspec": {
   "display_name": "Python (Biblio)",
   "language": "python",
   "name": "myenv"
  },
  "language_info": {
   "codemirror_mode": {
    "name": "ipython",
    "version": 3
   },
   "file_extension": ".py",
   "mimetype": "text/x-python",
   "name": "python",
   "nbconvert_exporter": "python",
   "pygments_lexer": "ipython3",
   "version": "3.5.6"
  }
 },
 "nbformat": 4,
 "nbformat_minor": 2
}
