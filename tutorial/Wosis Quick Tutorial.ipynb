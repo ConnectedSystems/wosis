{
 "cells": [
  {
   "cell_type": "markdown",
   "metadata": {},
   "source": [
    "# A quick tutorial on using Wosis"
   ]
  },
  {
   "cell_type": "markdown",
   "metadata": {},
   "source": [
    "Before we start, some known issues:\n",
    "\n",
    "* Methods - especially plotting - switch from relying on Pandas DataFrames to Metaknowledge Collections.\n",
    "This is because some things are easier to accomplish with one or the other. In the future, I hope to consolidate these to use just one, not a mishmash of both. \n",
    "\n",
    "* Some documentation is currently missing\n",
    "\n",
    "Suggestions on how to improve usability is appreciated, and can be made by [submitting an issue](https://github.com/ConnectedSystems/wosis/issues) with a 'usability' tag."
   ]
  },
  {
   "cell_type": "markdown",
   "metadata": {},
   "source": [
    "The cell below shows the Python version in use for this guide. Versions equal to and above should be fine."
   ]
  },
  {
   "cell_type": "code",
   "execution_count": 1,
   "metadata": {},
   "outputs": [],
   "source": [
    "%reload_ext autoreload\n",
    "%autoreload 2"
   ]
  },
  {
   "cell_type": "code",
   "execution_count": 2,
   "metadata": {},
   "outputs": [
    {
     "name": "stdout",
     "output_type": "stream",
     "text": [
      "sys.version_info(major=3, minor=5, micro=6, releaselevel='final', serial=0)\n"
     ]
    }
   ],
   "source": [
    "import sys\n",
    "print(sys.version_info)"
   ]
  },
  {
   "cell_type": "markdown",
   "metadata": {},
   "source": [
    "There are two options to install Wosis for development use:\n",
    "\n",
    "1) clone the project with `git` (the dollar sign represents the terminal prompt)\n",
    "\n",
    "```bash\n",
    "$ git clone https://github.com/ConnectedSystems/wosis.git\n",
    "$ cd wosis\n",
    "$ pip install git+https://github.com/ConnectedSystems/metaknowledge.git@add-collections\n",
    "$ pip install git+https://github.com/titipata/wos_parser.git@master\n",
    "$ pip install -e .\n",
    "```\n",
    "\n",
    "2) download, and extract, the project files from the [github repo](https://github.com/ConnectedSystems/wosis) (look for the green button on the right hand side)\n",
    "\n",
    "```bash\n",
    "$ pip install git+https://github.com/ConnectedSystems/metaknowledge.git@add-collections\n",
    "$ pip install git+https://github.com/titipata/wos_parser.git@master\n",
    "$ pip install -e .\n",
    "```\n",
    "\n",
    "Note the period (`.`) - yes it is important!\n",
    "\n",
    "The first two `pip install` commands downloads and installs specific package versions that are required by Wosis."
   ]
  },
  {
   "cell_type": "markdown",
   "metadata": {},
   "source": [
    "Wosis relies on NLTK for lemmatization and stemming.\n",
    "\n",
    "This requires the WordNet data to be downloaded and made available\n",
    "\n",
    "```python\n",
    "import nltk\n",
    "\n",
    "# Display list of locations NLTK searches for language data\n",
    "print(nltk.data.path)\n",
    "\n",
    "# Example only\n",
    "# ['C:\\\\nltk_data',\n",
    "#  'D:\\\\nltk_data',\n",
    "#  'E:\\\\nltk_data']\n",
    "\n",
    "# Select a desired location from the above and run the below\n",
    "# Here, I selected the second item in the list (Python is a zero-indexed language)\n",
    "download_location = nltk.data.path[1]\n",
    "nltk.download('wordnet', download_dir=download_location)\n",
    "```"
   ]
  },
  {
   "cell_type": "markdown",
   "metadata": {},
   "source": [
    "To start with, lets import the relevant packages"
   ]
  },
  {
   "cell_type": "code",
   "execution_count": 3,
   "metadata": {},
   "outputs": [],
   "source": [
    "import wosis\n",
    "import pandas as pd\n",
    "import metaknowledge as mk"
   ]
  },
  {
   "cell_type": "markdown",
   "metadata": {},
   "source": [
    "To access the Web of Science API, we need to load a configuration file that specifies your user details.\n",
    "\n",
    "Remember not to share your account details with anyone, or store it in a publicly accessible repository of any sort."
   ]
  },
  {
   "cell_type": "markdown",
   "metadata": {},
   "source": [
    "The `config.yml` file should hold your Web of Science username and password, like so:\n",
    "\n",
    "```yaml\n",
    "wos:\n",
    "  user: username\n",
    "  password: password\n",
    "```\n",
    "\n",
    "Here we assume the `config.yml` file is in the same directory as the notebook"
   ]
  },
  {
   "cell_type": "code",
   "execution_count": 4,
   "metadata": {},
   "outputs": [],
   "source": [
    "wos_config = wosis.load_config(\"config.yml\")"
   ]
  },
  {
   "cell_type": "markdown",
   "metadata": {},
   "source": [
    "Now we specify the search terms. This can be specified manually (see the [advanced search examples](https://images.webofknowledge.com/WOKRS533AR16/help/WOS/hp_advanced_examples.html) for more detail) or generated via a dictionary.\n",
    "\n",
    "Search queries are expected to be a list, so you can submit multiple search queries."
   ]
  },
  {
   "cell_type": "code",
   "execution_count": 5,
   "metadata": {},
   "outputs": [
    {
     "data": {
      "text/plain": [
       "['TS=((\"Integrated Model$ing\") NOT (\"chemical\" OR \"industry\" OR \"cancer\" OR \"gene\")) NOT SO=(\"PSYCHOL*\") AND WC=(\"ENVIRONMENTAL SCIENCES\" OR \"WATER RESOURCES\" OR \"ENGINEERING ENVIRONMENTAL\" OR \"INTERDISCIPLINARY APPLICATIONS\")']"
      ]
     },
     "execution_count": 5,
     "metadata": {},
     "output_type": "execute_result"
    }
   ],
   "source": [
    "# dollar sign ($) is a wildcard used to match British and American spellings\n",
    "# e.g. flavo$r matches both flavour and flavor\n",
    "# see https://images.webofknowledge.com/images/help/WOS/hs_wildcards.html\n",
    "search_terms = {\n",
    "    \"inclusive_kw\": (\"Integrated Model$ing\", ),  # Keywords to include (NOTE THE TRAILING COMMA FOR SINGLE ENTRIES)\n",
    "    \"exclusive_kw\": (\"chemical\", \"industry\", \"cancer\", \"gene\"), # Keywords to exclude\n",
    "    \"exclusive_jo\": ('PSYCHOL*', ),  # Journals to exclude (the * tries to match anything after 'PSYCHOL')\n",
    "    \"subject_area\": (\"ENVIRONMENTAL SCIENCES\", \"WATER RESOURCES\", \"ENGINEERING ENVIRONMENTAL\", \"INTERDISCIPLINARY APPLICATIONS\"),\n",
    "}\n",
    "\n",
    "topics = [wosis.build_query(search_terms), ]\n",
    "topics"
   ]
  },
  {
   "cell_type": "markdown",
   "metadata": {},
   "source": [
    "The above will create the same search query as the below"
   ]
  },
  {
   "cell_type": "code",
   "execution_count": 6,
   "metadata": {},
   "outputs": [],
   "source": [
    "topics = ['TS=((\"Integrated Model$ing\") NOT (\"chemical\" OR \"industry\" OR \"cancer\" OR \"gene\")) NOT SO=(\"PSYCHOL*\") AND WC=(\"ENVIRONMENTAL SCIENCES\" OR \"WATER RESOURCES\" OR \"ENGINEERING ENVIRONMENTAL\" OR \"INTERDISCIPLINARY APPLICATIONS\")']"
   ]
  },
  {
   "cell_type": "markdown",
   "metadata": {},
   "source": [
    "Now we send off the query.\n",
    "\n",
    "Strangely, the time span of interest is not accepted as part of the WoS query, but we can specify this separately.\n",
    "\n",
    "The `%%time` Jupyter magic command is there so we know how long this process took.\n",
    "\n",
    "For very large amounts of records, getting the data can take a long time.\n",
    "\n",
    "Sometimes the retrieval process fails - this could be due to high amounts of traffic to the WoS servers. Most times there's no other option other than to try again."
   ]
  },
  {
   "cell_type": "code",
   "execution_count": 7,
   "metadata": {},
   "outputs": [
    {
     "name": "stdout",
     "output_type": "stream",
     "text": [
      "Wall time: 43 ms\n"
     ]
    }
   ],
   "source": [
    "%%time\n",
    "\n",
    "# This variable ensures that we do not overwrite previous identical search if it exists\n",
    "# We usually want to keep a cached copy for later analysis because requests can take a long time to process\n",
    "# Be sure to delete the cached file when no longer needed!\n",
    "overwrite = False\n",
    "\n",
    "id_to_query, query_recs = wosis.query(topics, \n",
    "                                      overwrite,\n",
    "                                      wos_config, \n",
    "                                      time_span={'begin': '2014-01-01', 'end': '2017-12-31'},\n",
    "                                      skip_refs=False)"
   ]
  },
  {
   "cell_type": "markdown",
   "metadata": {},
   "source": [
    "Note that if `skip_refs` is `True`, Wosis then does not request any data on citations within the corpora.\n",
    "Because it skips collecting the reference list data for each publication in the corpora we cannot subsequently do any analysis on cited works.\n",
    "\n",
    "The query function will return two dictionaries:\n",
    "\n",
    "* a unique ID for each query sent, and \n",
    "* the query result, with the IDs as the keys\n",
    "\n",
    "The IDs are useful in case you need to find the cache file later on."
   ]
  },
  {
   "cell_type": "code",
   "execution_count": 8,
   "metadata": {},
   "outputs": [
    {
     "data": {
      "text/plain": [
       "{'72e7af00b238db01d2b12d9a3c6a4fb6_2014-01-01-2017-12-31': 'TS=((\"Integrated Model$ing\") NOT (\"chemical\" OR \"industry\" OR \"cancer\" OR \"gene\")) NOT SO=(\"PSYCHOL*\") AND WC=(\"ENVIRONMENTAL SCIENCES\" OR \"WATER RESOURCES\" OR \"ENGINEERING ENVIRONMENTAL\" OR \"INTERDISCIPLINARY APPLICATIONS\")'}"
      ]
     },
     "execution_count": 8,
     "metadata": {},
     "output_type": "execute_result"
    }
   ],
   "source": [
    "id_to_query"
   ]
  },
  {
   "cell_type": "code",
   "execution_count": 9,
   "metadata": {},
   "outputs": [
    {
     "data": {
      "text/plain": [
       "{'72e7af00b238db01d2b12d9a3c6a4fb6_2014-01-01-2017-12-31': <metaknowledge.RecordCollection object 72e7af00b238db01d2b12d9a3c6a4fb6_2014-01-01-2017-12-31_ris>}"
      ]
     },
     "execution_count": 9,
     "metadata": {},
     "output_type": "execute_result"
    }
   ],
   "source": [
    "query_recs"
   ]
  },
  {
   "cell_type": "markdown",
   "metadata": {},
   "source": [
    "For those of you new to Python/Jupyter Notebooks, more information on the functions used here can be seen using `?` "
   ]
  },
  {
   "cell_type": "code",
   "execution_count": 10,
   "metadata": {},
   "outputs": [],
   "source": [
    "?wosis.query"
   ]
  },
  {
   "cell_type": "markdown",
   "metadata": {},
   "source": [
    "We can get the publication records from the query result set directly. Remember, we only sent one query so it will be the first item in the dictionary"
   ]
  },
  {
   "cell_type": "code",
   "execution_count": 11,
   "metadata": {},
   "outputs": [
    {
     "name": "stdout",
     "output_type": "stream",
     "text": [
      "Corpora consists of 276 Publications\n"
     ]
    }
   ],
   "source": [
    "RC = list(query_recs.values())[0]\n",
    "\n",
    "print(\"Corpora consists of\", len(RC), \"Publications\")"
   ]
  },
  {
   "cell_type": "markdown",
   "metadata": {},
   "source": [
    "As explained above, `query_recs` is a dictionary that maps a result ID to the matching publication set.\n",
    "\n",
    "The `wosis.query()` function will write out the query_id information in a text file so you know which dataset is associated with which query. The default location is a directory called `tmp`. Read the documentation for the `wosis.query()` function for more information.\n",
    "\n",
    "In this example, the unique ID for the query we just sent is `72e7af00b238db01d2b12d9a3c6a4fb6` (as you can see in the above cell).\n",
    "\n",
    "The resulting data is cached in RIS format.\n",
    "\n",
    "Wosis, through Metaknowledge, can read such RIS formatted data, for example exported from a reference manager such as EndNote, Mendeley, or Zotero (and others). \n",
    "\n",
    "In this example the dataset is cached in a `txt` file labelled with the `query_id`.\n",
    "\n",
    "The associated dataset can then be read back in like so:\n",
    "\n",
    "```python\n",
    "RC = wosis.load_query_results('72e7af00b238db01d2b12d9a3c6a4fb6', file_loc='tmp')\n",
    "```\n",
    "\n",
    "Otherwise, we can get the publication records from the query result set directly, as we did above\n",
    "\n",
    "```python\n",
    "\n",
    "# Get the ID of the query result set:\n",
    "query_id = list(id_to_query)[0]\n",
    "\n",
    "print(\"Query ID: \", query_id, \"\\nQuery String:\", id_to_query[query_id], \"\\n\")\n",
    "\n",
    "# Load it in as a metaknowledge collection\n",
    "RC = mk.RecordCollection(\"tmp/{}.txt\".format(query_id))\n",
    "\n",
    "# If we want to constrain the time frame later, this is how we do it\n",
    "# RC = RC.yearSplit(0, 2017)\n",
    "```"
   ]
  },
  {
   "cell_type": "markdown",
   "metadata": {},
   "source": [
    "Before we do any analysis, let's write out a representative dataset.\n",
    "\n",
    "To use it for publication (e.g. adding it to an appendix or making it available for transparency purposes) the dataset has to be stripped of the WoS generated keywords, abstract, and some other ancillary data as these are proprietary owned by Clarivate.\n",
    "\n",
    "At the time of writing, the usage agreement states that any dataset derived from Web of Science made publicly available has to specify that it came from Clarivate, and when the data was retrieved. This has to be included inside any file you share.\n",
    "\n",
    "Wosis can do this for you, as shown in the cell below.\n",
    "\n",
    "First create a `data` directory in the location indicated (`..` means \"the level above the current directory\" which should be where this notebook is)\n",
    "\n",
    "Don't forget to change the retrieval date!\n",
    "\n",
    "```python\n",
    "wosis.export_representative_file(RC, retrieval_date='1 December 2018', data_fn='../data/repset.csv')\n",
    "```"
   ]
  },
  {
   "cell_type": "markdown",
   "metadata": {},
   "source": [
    "In this tutorial, I will be hiding the columns specified below - these hold data which Clarivate Analytics prefers us not to share."
   ]
  },
  {
   "cell_type": "code",
   "execution_count": 12,
   "metadata": {},
   "outputs": [],
   "source": [
    "# Hiding keywords and abstract for tutorial (WoS-owned IP)\n",
    "hide_columns = ['DE', 'abstract', 'keywords', 'DOI', 'id', 'kws']"
   ]
  },
  {
   "cell_type": "markdown",
   "metadata": {},
   "source": [
    "Now the fun begins.\n",
    "\n",
    "Analysis setup:"
   ]
  },
  {
   "cell_type": "code",
   "execution_count": 13,
   "metadata": {},
   "outputs": [],
   "source": [
    "# Helper functions for plotting\n",
    "import wosis.analysis.plotting as wos_plot\n",
    "\n",
    "# Plotting libraries\n",
    "import matplotlib.pyplot as plt\n",
    "import seaborn as sns\n",
    "\n",
    "# This just helps make the plots look nicer\n",
    "sns.set_style('darkgrid')\n",
    "sns.set_context('paper', font_scale=2.0)"
   ]
  },
  {
   "cell_type": "markdown",
   "metadata": {},
   "source": [
    "Basic analysis can be done with Pandas, but more complicated stuff is made simple with the included Wosis helper functions"
   ]
  },
  {
   "cell_type": "markdown",
   "metadata": {},
   "source": [
    "For the purposes of this tutorial, lets assume that publications without DOIs are unusable for our analysis.\n",
    "\n",
    "The cell below will convert the records to a Pandas DataFrame, and then remove rows with blank DOIs."
   ]
  },
  {
   "cell_type": "code",
   "execution_count": 14,
   "metadata": {},
   "outputs": [
    {
     "name": "stdout",
     "output_type": "stream",
     "text": [
      "Removing 18 records with no DOIs\n"
     ]
    }
   ],
   "source": [
    "corpora_df = wosis.rc_to_df(RC)\n",
    "corpora_df, removed_pubs = wosis.remove_empty_DOIs(corpora_df)"
   ]
  },
  {
   "cell_type": "markdown",
   "metadata": {},
   "source": [
    "We can also filter by partial match on Journal name and titles.\n",
    "\n",
    "These methods will print out the number of articles removed for each search string.\n",
    "\n",
    "*WARNING:* This example uses Pandas DataFrames. Future versions of Wosis will apply the changes to a Metaknowledge collection instead"
   ]
  },
  {
   "cell_type": "code",
   "execution_count": 15,
   "metadata": {},
   "outputs": [
    {
     "name": "stdout",
     "output_type": "stream",
     "text": [
      "Total Environ: 8\n"
     ]
    }
   ],
   "source": [
    "# Hypothetical list of unrelated Journals - will be matched by partial string\n",
    "unrelated_jo = ['Total Environ']\n",
    "\n",
    "# Think of the parameter order like \"with this dataset, remove these unrelated journals\"\n",
    "corpora_df = wosis.remove_by_journals(corpora_df, unrelated_jo)"
   ]
  },
  {
   "cell_type": "code",
   "execution_count": 16,
   "metadata": {},
   "outputs": [
    {
     "name": "stdout",
     "output_type": "stream",
     "text": [
      "agriculture: 1\n"
     ]
    }
   ],
   "source": [
    "# Hypothetical list of known unrelated titles (again, by partial match)\n",
    "unrelated_TI = ['agriculture']\n",
    "\n",
    "# Again, with this dataset remove these titles\n",
    "corpora_df = wosis.remove_by_title(corpora_df, unrelated_TI)"
   ]
  },
  {
   "cell_type": "markdown",
   "metadata": {},
   "source": [
    "We can then create a new Metaknowledge collection using the WOS ID"
   ]
  },
  {
   "cell_type": "code",
   "execution_count": 17,
   "metadata": {},
   "outputs": [],
   "source": [
    "filtered_corpora = wosis.extract_recs(corpora_df.id, RC, name='Filtered Corpora')"
   ]
  },
  {
   "cell_type": "markdown",
   "metadata": {},
   "source": [
    "Wosis has a number of convenient plotting functions. \n",
    "\n",
    "All of plotting functions \n",
    "* can save the resulting figure to a file by giving a file location to the `save_plot_fn` parameter.\n",
    "  The figure will be saved in PNG format at 300dpi.\n",
    "* returns a matplotlib figure object so you can make further adjustments if desired\n",
    "\n",
    "For example:\n",
    "\n",
    "```python\n",
    "wos_plot.plot_pub_trend(filtered_corpora, title='Publication Trend', save_plot_fn=r'C:\\temp\\my_figure.png')\n",
    "```"
   ]
  },
  {
   "cell_type": "code",
   "execution_count": 18,
   "metadata": {},
   "outputs": [
    {
     "data": {
      "image/png": "[encoded data removed]",
      "text/plain": [
       "<Figure size 648x432 with 1 Axes>"
      ]
     },
     "metadata": {
      "needs_background": "light"
     },
     "output_type": "display_data"
    }
   ],
   "source": [
    "# Plotting out the publication trend. \n",
    "wos_plot.plot_pub_trend(filtered_corpora, title='Publication Trend', save_plot_fn=False)"
   ]
  },
  {
   "cell_type": "code",
   "execution_count": 19,
   "metadata": {},
   "outputs": [
    {
     "data": {
      "image/png": "[encoded data removed]",
      "text/plain": [
       "<Figure size 1296x432 with 2 Axes>"
      ]
     },
     "metadata": {
      "needs_background": "light"
     },
     "output_type": "display_data"
    }
   ],
   "source": [
    "# Plot out the keyword trend\n",
    "wos_plot.plot_kw_trend(filtered_corpora, title='Keyword Trend', save_plot_fn=False)"
   ]
  },
  {
   "cell_type": "markdown",
   "metadata": {},
   "source": [
    "You can also sort the publications into specific criterias.\n",
    "\n",
    "This matches similar words as found in the title, abstract, and keyword sections."
   ]
  },
  {
   "cell_type": "code",
   "execution_count": 20,
   "metadata": {},
   "outputs": [],
   "source": [
    "# Keyword types adapted from Zare et al. (2017)\n",
    "# http://dx.doi.org/10.1016/j.jhydrol.2017.07.031\n",
    "\n",
    "criteria = {\n",
    "    'overarching': set(['uncertainty', 'adapt', 'decision support', 'management', 'gis']),\n",
    "    'agri': set(['agricultur', 'farm']),\n",
    "    'water': set(['hydrology', 'water', 'stream', 'aquifer']),\n",
    "    'enviro': set(['environment', 'climate', 'ecology', 'ecosystem', 'biodivers']),\n",
    "    'socio_economic': set(['ecosystem service', 'social', 'conflict', 'particip', 'law', 'stakehold', 'policy', 'economic'])\n",
    "}\n",
    "\n",
    "criteria_matches = wosis.keyword_matches_by_criteria(filtered_corpora, criteria, threshold=95.0)"
   ]
  },
  {
   "cell_type": "code",
   "execution_count": 21,
   "metadata": {},
   "outputs": [
    {
     "data": {
      "image/png": "[encoded data removed]",
      "text/plain": [
       "<Figure size 432x288 with 1 Axes>"
      ]
     },
     "metadata": {
      "needs_background": "light"
     },
     "output_type": "display_data"
    }
   ],
   "source": [
    "criteria_df = wosis.collate_keyword_criteria_matches(filtered_corpora, criteria_matches)\n",
    "wos_plot.plot_criteria_trend(criteria_df, threshold=3)"
   ]
  },
  {
   "cell_type": "markdown",
   "metadata": {},
   "source": [
    "Remember, you can look at the documentation for anything with the question mark magic command"
   ]
  },
  {
   "cell_type": "code",
   "execution_count": 22,
   "metadata": {},
   "outputs": [],
   "source": [
    "?wos_plot.plot_criteria_trend"
   ]
  },
  {
   "cell_type": "markdown",
   "metadata": {},
   "source": [
    "If desired, you can search the publications for a specific keyword (or list of keywords).\n",
    "\n",
    "Here, we look for some keywords related to the field costs - anything that is 95% similar to the given keywords is acceptable."
   ]
  },
  {
   "cell_type": "code",
   "execution_count": 23,
   "metadata": {},
   "outputs": [],
   "source": [
    "matching_records = wosis.keyword_matches(filtered_corpora, ['finance', 'costs', 'capita', 'monetary'], threshold=95.0)"
   ]
  },
  {
   "cell_type": "code",
   "execution_count": 24,
   "metadata": {},
   "outputs": [
    {
     "data": {
      "image/png": "[encoded data removed]",
      "text/plain": [
       "<Figure size 576x432 with 1 Axes>"
      ]
     },
     "metadata": {
      "needs_background": "light"
     },
     "output_type": "display_data"
    }
   ],
   "source": [
    "wos_plot.plot_pub_per_kw(matching_records, filtered_corpora, kw_category='Finance')"
   ]
  },
  {
   "cell_type": "markdown",
   "metadata": {},
   "source": [
    "We can then attempt to find topics of interest"
   ]
  },
  {
   "cell_type": "code",
   "execution_count": 25,
   "metadata": {},
   "outputs": [
    {
     "name": "stdout",
     "output_type": "stream",
     "text": [
      "Topic 1: model use integr data environment develop framework approach river process\n",
      "Topic 2: water irrig river demand manag suppli basin resourc agricultur management\n",
      "Topic 3: urban water infrastructur modelling plan integr drainage model new infrastructure\n",
      "Topic 4: climat chang change climate futur impact crop scenario agricultur region\n",
      "Topic 5: flood flash catchment rainfal hazard region river lake runoff occurr\n",
      "Topic 6: plant cement emiss calcin sourc carbon emissions power calpuff concentr\n",
      "Topic 7: groundwat flow groundwater surface surfac water recharg storag aquif subsurfac\n",
      "Topic 8: land use soil chang scenario eros sediment change cov farm\n",
      "Topic 9: energy energi transport carbon modeling generation integrated electr build effici\n",
      "Topic 10: air traffic pollut european road modelling pollution qualiti approach emiss\n"
     ]
    }
   ],
   "source": [
    "topic_results = wosis.find_topics(filtered_corpora, num_topics=10)"
   ]
  },
  {
   "cell_type": "markdown",
   "metadata": {},
   "source": [
    "If the identified topics are too vague or not of interest, try increasing the number of topics. Conversely, if they are too specific, try lowering the number of topics.\n",
    "\n",
    "Say we're interested in Topic 2. The cell below shows how to get the publications for this topic."
   ]
  },
  {
   "cell_type": "code",
   "execution_count": 26,
   "metadata": {},
   "outputs": [],
   "source": [
    "id_of_interesting_topic = 2\n",
    "topic_set = topic_results.get_topic_by_id(id_of_interesting_topic)"
   ]
  },
  {
   "cell_type": "code",
   "execution_count": 27,
   "metadata": {},
   "outputs": [
    {
     "name": "stdout",
     "output_type": "stream",
     "text": [
      "Number of publications in topic set: 20\n"
     ]
    }
   ],
   "source": [
    "print(\"Number of publications in topic set:\", len(topic_set))"
   ]
  },
  {
   "cell_type": "code",
   "execution_count": 28,
   "metadata": {},
   "outputs": [
    {
     "data": {
      "text/html": [
       "<div>\n",
       "<style scoped>\n",
       "    .dataframe tbody tr th:only-of-type {\n",
       "        vertical-align: middle;\n",
       "    }\n",
       "\n",
       "    .dataframe tbody tr th {\n",
       "        vertical-align: top;\n",
       "    }\n",
       "\n",
       "    .dataframe thead th {\n",
       "        text-align: right;\n",
       "    }\n",
       "</style>\n",
       "<table border=\"1\" class=\"dataframe\">\n",
       "  <thead>\n",
       "    <tr style=\"text-align: right;\">\n",
       "      <th></th>\n",
       "      <th>AU</th>\n",
       "      <th>SO</th>\n",
       "      <th>copyright</th>\n",
       "      <th>title</th>\n",
       "      <th>year</th>\n",
       "    </tr>\n",
       "  </thead>\n",
       "  <tbody>\n",
       "    <tr>\n",
       "      <th>2</th>\n",
       "      <td>Dai, Shanshan|Li, Lanhai|Xu, Honggang</td>\n",
       "      <td>WATER POLICY</td>\n",
       "      <td></td>\n",
       "      <td>Simulation of water scarcity in a leap-forward...</td>\n",
       "      <td>2017</td>\n",
       "    </tr>\n",
       "    <tr>\n",
       "      <th>14</th>\n",
       "      <td>Momblanch, Andrea|Paredes-Arquiola, Javier|And...</td>\n",
       "      <td>ENVIRONMENTAL MODELLING &amp; SOFTWARE</td>\n",
       "      <td>Elsevier Ltd. All rights reserved.</td>\n",
       "      <td>Improved modelling of the freshwater provision...</td>\n",
       "      <td>2017</td>\n",
       "    </tr>\n",
       "    <tr>\n",
       "      <th>26</th>\n",
       "      <td>Loeffler, Michael|Brinkop, Sabine|Joeckel, Pat...</td>\n",
       "      <td>ATMOSPHERIC CHEMISTRY AND PHYSICS</td>\n",
       "      <td></td>\n",
       "      <td>Impact of major volcanic eruptions on stratosp...</td>\n",
       "      <td>2016</td>\n",
       "    </tr>\n",
       "    <tr>\n",
       "      <th>27</th>\n",
       "      <td>Li, Na|Wang, Xiaojun|Shi, Minjun|Yang, Hong</td>\n",
       "      <td>SUSTAINABILITY</td>\n",
       "      <td></td>\n",
       "      <td>Economic Impacts of Total Water Use Control in...</td>\n",
       "      <td>2015</td>\n",
       "    </tr>\n",
       "    <tr>\n",
       "      <th>40</th>\n",
       "      <td>Hao, Lu|Sun, Ge|Liu, Yongqiang|Qian, Hong</td>\n",
       "      <td>JOURNAL OF THE AMERICAN WATER RESOURCES ASSOCI...</td>\n",
       "      <td></td>\n",
       "      <td>Integrated Modeling of Water Supply and Demand...</td>\n",
       "      <td>2015</td>\n",
       "    </tr>\n",
       "    <tr>\n",
       "      <th>54</th>\n",
       "      <td>McNeill, Kelsie|Macdonald, Kiera|Singh, Ashuto...</td>\n",
       "      <td>AGRICULTURAL WATER MANAGEMENT</td>\n",
       "      <td>(C) 2017 Elsevier B.V. All rights reserved.</td>\n",
       "      <td>Food and water security: Analysis of integrate...</td>\n",
       "      <td>2017</td>\n",
       "    </tr>\n",
       "    <tr>\n",
       "      <th>73</th>\n",
       "      <td>Schuetze, Niels|Stange, Peter|Griessbach, Ulri...</td>\n",
       "      <td>HYDROLOGIE UND WASSERBEWIRTSCHAFTUNG</td>\n",
       "      <td></td>\n",
       "      <td>Integrated modelling and optimisation of irrig...</td>\n",
       "      <td>2016</td>\n",
       "    </tr>\n",
       "    <tr>\n",
       "      <th>76</th>\n",
       "      <td>Lai, Y. C.|Chien, C. C.|Yang, Z. H.|Surampalli...</td>\n",
       "      <td>WATER ENVIRONMENT RESEARCH</td>\n",
       "      <td></td>\n",
       "      <td>Developing an Integrated Modeling Tool for Riv...</td>\n",
       "      <td>2017</td>\n",
       "    </tr>\n",
       "    <tr>\n",
       "      <th>81</th>\n",
       "      <td>Veettil, Anoop Valiya|Mishra, Ashok K.</td>\n",
       "      <td>JOURNAL OF HYDROLOGY</td>\n",
       "      <td>(C) 2016 Elsevier B.V. All rights reserved.</td>\n",
       "      <td>Water security assessment using blue and green...</td>\n",
       "      <td>2016</td>\n",
       "    </tr>\n",
       "    <tr>\n",
       "      <th>88</th>\n",
       "      <td>Milano, Marianne|Reynard, Emmanuel|Bosshard, N...</td>\n",
       "      <td>HOUILLE BLANCHE-REVUE INTERNATIONALE DE L EAU</td>\n",
       "      <td></td>\n",
       "      <td>In light of seasonal climatic and anthropogeni...</td>\n",
       "      <td>2016</td>\n",
       "    </tr>\n",
       "  </tbody>\n",
       "</table>\n",
       "</div>"
      ],
      "text/plain": [
       "                                                   AU  \\\n",
       "2               Dai, Shanshan|Li, Lanhai|Xu, Honggang   \n",
       "14  Momblanch, Andrea|Paredes-Arquiola, Javier|And...   \n",
       "26  Loeffler, Michael|Brinkop, Sabine|Joeckel, Pat...   \n",
       "27        Li, Na|Wang, Xiaojun|Shi, Minjun|Yang, Hong   \n",
       "40          Hao, Lu|Sun, Ge|Liu, Yongqiang|Qian, Hong   \n",
       "54  McNeill, Kelsie|Macdonald, Kiera|Singh, Ashuto...   \n",
       "73  Schuetze, Niels|Stange, Peter|Griessbach, Ulri...   \n",
       "76  Lai, Y. C.|Chien, C. C.|Yang, Z. H.|Surampalli...   \n",
       "81             Veettil, Anoop Valiya|Mishra, Ashok K.   \n",
       "88  Milano, Marianne|Reynard, Emmanuel|Bosshard, N...   \n",
       "\n",
       "                                                   SO  \\\n",
       "2                                        WATER POLICY   \n",
       "14                 ENVIRONMENTAL MODELLING & SOFTWARE   \n",
       "26                  ATMOSPHERIC CHEMISTRY AND PHYSICS   \n",
       "27                                     SUSTAINABILITY   \n",
       "40  JOURNAL OF THE AMERICAN WATER RESOURCES ASSOCI...   \n",
       "54                      AGRICULTURAL WATER MANAGEMENT   \n",
       "73               HYDROLOGIE UND WASSERBEWIRTSCHAFTUNG   \n",
       "76                         WATER ENVIRONMENT RESEARCH   \n",
       "81                               JOURNAL OF HYDROLOGY   \n",
       "88      HOUILLE BLANCHE-REVUE INTERNATIONALE DE L EAU   \n",
       "\n",
       "                                       copyright  \\\n",
       "2                                                  \n",
       "14            Elsevier Ltd. All rights reserved.   \n",
       "26                                                 \n",
       "27                                                 \n",
       "40                                                 \n",
       "54   (C) 2017 Elsevier B.V. All rights reserved.   \n",
       "73                                                 \n",
       "76                                                 \n",
       "81   (C) 2016 Elsevier B.V. All rights reserved.   \n",
       "88                                                 \n",
       "\n",
       "                                                title  year  \n",
       "2   Simulation of water scarcity in a leap-forward...  2017  \n",
       "14  Improved modelling of the freshwater provision...  2017  \n",
       "26  Impact of major volcanic eruptions on stratosp...  2016  \n",
       "27  Economic Impacts of Total Water Use Control in...  2015  \n",
       "40  Integrated Modeling of Water Supply and Demand...  2015  \n",
       "54  Food and water security: Analysis of integrate...  2017  \n",
       "73  Integrated modelling and optimisation of irrig...  2016  \n",
       "76  Developing an Integrated Modeling Tool for Riv...  2017  \n",
       "81  Water security assessment using blue and green...  2016  \n",
       "88  In light of seasonal climatic and anthropogeni...  2016  "
      ]
     },
     "execution_count": 28,
     "metadata": {},
     "output_type": "execute_result"
    }
   ],
   "source": [
    "# The publication set of interest!\n",
    "# Hiding keywords and abstract for tutorial (WoS-owned IP)\n",
    "topic_set.loc[:, ~topic_set.columns.isin(hide_columns)].head(10)  # show first 10"
   ]
  },
  {
   "cell_type": "markdown",
   "metadata": {},
   "source": [
    "Lets extract the records of interest from the original record collection and do some analysis"
   ]
  },
  {
   "cell_type": "code",
   "execution_count": 29,
   "metadata": {},
   "outputs": [],
   "source": [
    "topic_recs = wosis.extract_recs(topic_set.id, RC, 'Topic of Interest')"
   ]
  },
  {
   "cell_type": "code",
   "execution_count": 30,
   "metadata": {},
   "outputs": [
    {
     "data": {
      "image/png": "[encoded data removed]",
      "text/plain": [
       "<Figure size 864x720 with 5 Axes>"
      ]
     },
     "metadata": {
      "needs_background": "light"
     },
     "output_type": "display_data"
    }
   ],
   "source": [
    "# The publication trend per journal (showing trends for top 5)\n",
    "wos_plot.plot_journal_pub_trend(topic_recs, top_n=5)"
   ]
  },
  {
   "cell_type": "code",
   "execution_count": 31,
   "metadata": {},
   "outputs": [
    {
     "data": {
      "image/png": "[encoded data removed]",
      "text/plain": [
       "<Figure size 864x432 with 1 Axes>"
      ]
     },
     "metadata": {
      "needs_background": "light"
     },
     "output_type": "display_data"
    }
   ],
   "source": [
    "# The overall number of publications for each journal\n",
    "wos_plot.plot_pubs_per_journal(topic_recs, top_n=5, annotate=True, show_stats=True)"
   ]
  },
  {
   "cell_type": "markdown",
   "metadata": {},
   "source": [
    "Identify which publications were cited by the corpora\n",
    "\n",
    "To be explicitly clear: This does NOT identify which the paper in the collection with the most citations\n",
    "It identifies the papers that the corpora cites the most."
   ]
  },
  {
   "cell_type": "code",
   "execution_count": 32,
   "metadata": {},
   "outputs": [
    {
     "data": {
      "text/html": [
       "<div>\n",
       "<style scoped>\n",
       "    .dataframe tbody tr th:only-of-type {\n",
       "        vertical-align: middle;\n",
       "    }\n",
       "\n",
       "    .dataframe tbody tr th {\n",
       "        vertical-align: top;\n",
       "    }\n",
       "\n",
       "    .dataframe thead th {\n",
       "        text-align: right;\n",
       "    }\n",
       "</style>\n",
       "<table border=\"1\" class=\"dataframe\">\n",
       "  <thead>\n",
       "    <tr style=\"text-align: right;\">\n",
       "      <th></th>\n",
       "      <th>Citations</th>\n",
       "    </tr>\n",
       "    <tr>\n",
       "      <th>Publication</th>\n",
       "      <th></th>\n",
       "    </tr>\n",
       "  </thead>\n",
       "  <tbody>\n",
       "    <tr>\n",
       "      <th>Wada, Yoshihide, 2013, Multimodel projections and uncertainties of irrigation water demand under climate change, GEOPHYSICAL RESEARCH LETTERS, 40, 4626, 459802479</th>\n",
       "      <td>9</td>\n",
       "    </tr>\n",
       "    <tr>\n",
       "      <th>Nazemi, A., 2015, On inclusion of water resource management in Earth system models - Part 1: Problem definition and representation of water demand, HYDROLOGY AND EARTH SYSTEM SCIENCES, 19, 33, 482280867</th>\n",
       "      <td>6</td>\n",
       "    </tr>\n",
       "    <tr>\n",
       "      <th>Doell, P., 2012, Impact of water withdrawals from groundwater and surface water on continental water storage variations, JOURNAL OF GEODYNAMICS, 59-60, 143, 437156432</th>\n",
       "      <td>6</td>\n",
       "    </tr>\n",
       "    <tr>\n",
       "      <th>Hanasaki, N., 2008, An integrated model for the assessment of global water resources Part 1: Model description and input meteorological forcing, HYDROLOGY AND EARTH SYSTEM SCIENCES, 12, 1007, 92987622</th>\n",
       "      <td>6</td>\n",
       "    </tr>\n",
       "    <tr>\n",
       "      <th>Vorosmarty, CJ, 2000, Global water resources: Vulnerability from climate change and population growth, SCIENCE, 289, 284, 9712516</th>\n",
       "      <td>6</td>\n",
       "    </tr>\n",
       "  </tbody>\n",
       "</table>\n",
       "</div>"
      ],
      "text/plain": [
       "                                                    Citations\n",
       "Publication                                                  \n",
       "Wada, Yoshihide, 2013, Multimodel projections a...          9\n",
       "Nazemi, A., 2015, On inclusion of water resourc...          6\n",
       "Doell, P., 2012, Impact of water withdrawals fr...          6\n",
       "Hanasaki, N., 2008, An integrated model for the...          6\n",
       "Vorosmarty, CJ, 2000, Global water resources: V...          6"
      ]
     },
     "execution_count": 32,
     "metadata": {},
     "output_type": "execute_result"
    }
   ],
   "source": [
    "wosis.analysis.pub_citations(topic_recs)[0:5]"
   ]
  },
  {
   "cell_type": "markdown",
   "metadata": {},
   "source": [
    "To get citations for each paper in the collection we have to request these from WoS.\n",
    "\n",
    "If there are a large number of publications it may take a long time. Wosis will attempt to recover from any errors for you, but it does depend on how busy the WoS servers are."
   ]
  },
  {
   "cell_type": "code",
   "execution_count": 33,
   "metadata": {},
   "outputs": [],
   "source": [
    "?wosis.get_citing_works()"
   ]
  },
  {
   "cell_type": "code",
   "execution_count": 34,
   "metadata": {},
   "outputs": [
    {
     "name": "stdout",
     "output_type": "stream",
     "text": [
      "Authenticated (SID: 5BegLp2EB9m8OWNsjzM)\n"
     ]
    },
    {
     "data": {
      "application/vnd.jupyter.widget-view+json": {
       "model_id": "f947d26dbd1d49188aa17c760a0742a7",
       "version_major": 2,
       "version_minor": 0
      },
      "text/plain": [
       "HBox(children=(IntProgress(value=0, max=20), HTML(value='')))"
      ]
     },
     "metadata": {},
     "output_type": "display_data"
    },
    {
     "name": "stdout",
     "output_type": "stream",
     "text": [
      "\n"
     ]
    }
   ],
   "source": [
    "topic_cites = wosis.get_num_citations(topic_recs, wos_config)"
   ]
  },
  {
   "cell_type": "code",
   "execution_count": 35,
   "metadata": {},
   "outputs": [
    {
     "data": {
      "text/html": [
       "<div>\n",
       "<style scoped>\n",
       "    .dataframe tbody tr th:only-of-type {\n",
       "        vertical-align: middle;\n",
       "    }\n",
       "\n",
       "    .dataframe tbody tr th {\n",
       "        vertical-align: top;\n",
       "    }\n",
       "\n",
       "    .dataframe thead th {\n",
       "        text-align: right;\n",
       "    }\n",
       "</style>\n",
       "<table border=\"1\" class=\"dataframe\">\n",
       "  <thead>\n",
       "    <tr style=\"text-align: right;\">\n",
       "      <th></th>\n",
       "      <th>AU</th>\n",
       "      <th>title</th>\n",
       "      <th>citations</th>\n",
       "    </tr>\n",
       "  </thead>\n",
       "  <tbody>\n",
       "    <tr>\n",
       "      <th>0</th>\n",
       "      <td>Nazemi, A.|Wheater, H. S.</td>\n",
       "      <td>On inclusion of water resource management in E...</td>\n",
       "      <td>48</td>\n",
       "    </tr>\n",
       "    <tr>\n",
       "      <th>1</th>\n",
       "      <td>Wu, Bin|Zheng, Yi|Wu, Xin|Tian, Yong|Han, Feng...</td>\n",
       "      <td>Optimizing water resources management in large...</td>\n",
       "      <td>32</td>\n",
       "    </tr>\n",
       "    <tr>\n",
       "      <th>2</th>\n",
       "      <td>Veettil, Anoop Valiya|Mishra, Ashok K.</td>\n",
       "      <td>Water security assessment using blue and green...</td>\n",
       "      <td>25</td>\n",
       "    </tr>\n",
       "    <tr>\n",
       "      <th>3</th>\n",
       "      <td>Li, Na|Wang, Xiaojun|Shi, Minjun|Yang, Hong</td>\n",
       "      <td>Economic Impacts of Total Water Use Control in...</td>\n",
       "      <td>17</td>\n",
       "    </tr>\n",
       "    <tr>\n",
       "      <th>4</th>\n",
       "      <td>Voisin, Nathalie|Hejazi, Mohamad I.|Leung, L. ...</td>\n",
       "      <td>Effects of spatially distributed sectoral wate...</td>\n",
       "      <td>10</td>\n",
       "    </tr>\n",
       "  </tbody>\n",
       "</table>\n",
       "</div>"
      ],
      "text/plain": [
       "                                                  AU  \\\n",
       "0                          Nazemi, A.|Wheater, H. S.   \n",
       "1  Wu, Bin|Zheng, Yi|Wu, Xin|Tian, Yong|Han, Feng...   \n",
       "2             Veettil, Anoop Valiya|Mishra, Ashok K.   \n",
       "3        Li, Na|Wang, Xiaojun|Shi, Minjun|Yang, Hong   \n",
       "4  Voisin, Nathalie|Hejazi, Mohamad I.|Leung, L. ...   \n",
       "\n",
       "                                               title  citations  \n",
       "0  On inclusion of water resource management in E...         48  \n",
       "1  Optimizing water resources management in large...         32  \n",
       "2  Water security assessment using blue and green...         25  \n",
       "3  Economic Impacts of Total Water Use Control in...         17  \n",
       "4  Effects of spatially distributed sectoral wate...         10  "
      ]
     },
     "execution_count": 35,
     "metadata": {},
     "output_type": "execute_result"
    }
   ],
   "source": [
    "topic_cites[['AU', 'title', 'citations']].head()"
   ]
  },
  {
   "cell_type": "markdown",
   "metadata": {},
   "source": [
    "Authors in the corpora with the most citations (careful interpreting this author names are grouped by surname so it is misleading)"
   ]
  },
  {
   "cell_type": "code",
   "execution_count": 36,
   "metadata": {},
   "outputs": [
    {
     "data": {
      "text/html": [
       "<div>\n",
       "<style scoped>\n",
       "    .dataframe tbody tr th:only-of-type {\n",
       "        vertical-align: middle;\n",
       "    }\n",
       "\n",
       "    .dataframe tbody tr th {\n",
       "        vertical-align: top;\n",
       "    }\n",
       "\n",
       "    .dataframe thead th {\n",
       "        text-align: right;\n",
       "    }\n",
       "</style>\n",
       "<table border=\"1\" class=\"dataframe\">\n",
       "  <thead>\n",
       "    <tr style=\"text-align: right;\">\n",
       "      <th></th>\n",
       "      <th>Citations</th>\n",
       "    </tr>\n",
       "    <tr>\n",
       "      <th>Publication</th>\n",
       "      <th></th>\n",
       "    </tr>\n",
       "  </thead>\n",
       "  <tbody>\n",
       "    <tr>\n",
       "      <th>Liu</th>\n",
       "      <td>15</td>\n",
       "    </tr>\n",
       "    <tr>\n",
       "      <th>Nazemi</th>\n",
       "      <td>11</td>\n",
       "    </tr>\n",
       "    <tr>\n",
       "      <th>Li</th>\n",
       "      <td>11</td>\n",
       "    </tr>\n",
       "    <tr>\n",
       "      <th>Wada</th>\n",
       "      <td>11</td>\n",
       "    </tr>\n",
       "    <tr>\n",
       "      <th>Hanasaki</th>\n",
       "      <td>9</td>\n",
       "    </tr>\n",
       "    <tr>\n",
       "      <th>Allen</th>\n",
       "      <td>8</td>\n",
       "    </tr>\n",
       "    <tr>\n",
       "      <th>Haddeland</th>\n",
       "      <td>7</td>\n",
       "    </tr>\n",
       "    <tr>\n",
       "      <th>Doell</th>\n",
       "      <td>7</td>\n",
       "    </tr>\n",
       "    <tr>\n",
       "      <th>Richter</th>\n",
       "      <td>7</td>\n",
       "    </tr>\n",
       "    <tr>\n",
       "      <th>Arnold</th>\n",
       "      <td>7</td>\n",
       "    </tr>\n",
       "  </tbody>\n",
       "</table>\n",
       "</div>"
      ],
      "text/plain": [
       "             Citations\n",
       "Publication           \n",
       "Liu                 15\n",
       "Nazemi              11\n",
       "Li                  11\n",
       "Wada                11\n",
       "Hanasaki             9\n",
       "Allen                8\n",
       "Haddeland            7\n",
       "Doell                7\n",
       "Richter              7\n",
       "Arnold               7"
      ]
     },
     "execution_count": 36,
     "metadata": {},
     "output_type": "execute_result"
    }
   ],
   "source": [
    "wosis.author_citations(topic_recs)[0:10]"
   ]
  },
  {
   "cell_type": "markdown",
   "metadata": {},
   "source": [
    "Publications that cite a specific paper can also be identified\n",
    "\n",
    "Using the `wosis.get_citing_works()` function - use the `?` command for more information."
   ]
  },
  {
   "cell_type": "markdown",
   "metadata": {},
   "source": [
    "Wosis can also help create links to the publications where possible"
   ]
  },
  {
   "cell_type": "code",
   "execution_count": 37,
   "metadata": {},
   "outputs": [
    {
     "data": {
      "text/html": [
       "<div>\n",
       "<style scoped>\n",
       "    .dataframe tbody tr th:only-of-type {\n",
       "        vertical-align: middle;\n",
       "    }\n",
       "\n",
       "    .dataframe tbody tr th {\n",
       "        vertical-align: top;\n",
       "    }\n",
       "\n",
       "    .dataframe thead th {\n",
       "        text-align: right;\n",
       "    }\n",
       "</style>\n",
       "<table border=\"1\" class=\"dataframe\">\n",
       "  <thead>\n",
       "    <tr style=\"text-align: right;\">\n",
       "      <th></th>\n",
       "      <th>AU</th>\n",
       "      <th>SO</th>\n",
       "      <th>title</th>\n",
       "      <th>year</th>\n",
       "      <th>DOI link</th>\n",
       "    </tr>\n",
       "  </thead>\n",
       "  <tbody>\n",
       "    <tr>\n",
       "      <th>0</th>\n",
       "      <td>Lai, Y. C.|Chien, C. C.|Yang, Z. H.|Surampalli...</td>\n",
       "      <td>WATER ENVIRONMENT RESEARCH</td>\n",
       "      <td>Developing an Integrated Modeling Tool for Riv...</td>\n",
       "      <td>2017</td>\n",
       "      <td>https://dx.doi.org/10.2175/106143016X147983533...</td>\n",
       "    </tr>\n",
       "    <tr>\n",
       "      <th>1</th>\n",
       "      <td>Wu, Bin|Zheng, Yi|Wu, Xin|Tian, Yong|Han, Feng...</td>\n",
       "      <td>WATER RESOURCES RESEARCH</td>\n",
       "      <td>Optimizing water resources management in large...</td>\n",
       "      <td>2015</td>\n",
       "      <td>https://dx.doi.org/10.1002/2014WR016653</td>\n",
       "    </tr>\n",
       "    <tr>\n",
       "      <th>2</th>\n",
       "      <td>Dai, Shanshan|Li, Lanhai|Xu, Honggang</td>\n",
       "      <td>WATER POLICY</td>\n",
       "      <td>Simulation of water scarcity in a leap-forward...</td>\n",
       "      <td>2017</td>\n",
       "      <td>https://dx.doi.org/10.2166/wp.2017.132</td>\n",
       "    </tr>\n",
       "    <tr>\n",
       "      <th>3</th>\n",
       "      <td>Winter, Jonathan M.|Lopez, Jose R.|Ruane, Alex...</td>\n",
       "      <td>ANTHROPOCENE</td>\n",
       "      <td>Representing water scarcity in future agricult...</td>\n",
       "      <td>2017</td>\n",
       "      <td>https://dx.doi.org/10.1016/j.ancene.2017.05.002</td>\n",
       "    </tr>\n",
       "    <tr>\n",
       "      <th>4</th>\n",
       "      <td>Talati, Shuchi|Zhai, Haibo|Kyle, G. Page|Morga...</td>\n",
       "      <td>ENVIRONMENTAL SCIENCE &amp; TECHNOLOGY</td>\n",
       "      <td>Consumptive Water Use from Electricity Generat...</td>\n",
       "      <td>2016</td>\n",
       "      <td>https://dx.doi.org/10.1021/acs.est.6b01389</td>\n",
       "    </tr>\n",
       "    <tr>\n",
       "      <th>5</th>\n",
       "      <td>Veettil, Anoop Valiya|Mishra, Ashok K.</td>\n",
       "      <td>JOURNAL OF HYDROLOGY</td>\n",
       "      <td>Water security assessment using blue and green...</td>\n",
       "      <td>2016</td>\n",
       "      <td>https://dx.doi.org/10.1016/j.jhydrol.2016.09.032</td>\n",
       "    </tr>\n",
       "    <tr>\n",
       "      <th>6</th>\n",
       "      <td>Gibbs, M. S.|Dandy, G. C.|Maier, H. R.</td>\n",
       "      <td>STOCHASTIC ENVIRONMENTAL RESEARCH AND RISK ASS...</td>\n",
       "      <td>Assessment of the ability to meet environmenta...</td>\n",
       "      <td>2014</td>\n",
       "      <td>https://dx.doi.org/10.1007/s00477-013-0735-9</td>\n",
       "    </tr>\n",
       "    <tr>\n",
       "      <th>7</th>\n",
       "      <td>Han, Bangshuai|Benner, Shawn G.|Bolte, John P....</td>\n",
       "      <td>HYDROLOGY AND EARTH SYSTEM SCIENCES</td>\n",
       "      <td>Coupling biophysical processes and water right...</td>\n",
       "      <td>2017</td>\n",
       "      <td>https://dx.doi.org/10.5194/hess-21-3671-2017</td>\n",
       "    </tr>\n",
       "    <tr>\n",
       "      <th>8</th>\n",
       "      <td>Loeffler, Michael|Brinkop, Sabine|Joeckel, Pat...</td>\n",
       "      <td>ATMOSPHERIC CHEMISTRY AND PHYSICS</td>\n",
       "      <td>Impact of major volcanic eruptions on stratosp...</td>\n",
       "      <td>2016</td>\n",
       "      <td>https://dx.doi.org/10.5194/acp-16-6547-2016</td>\n",
       "    </tr>\n",
       "    <tr>\n",
       "      <th>9</th>\n",
       "      <td>Lobanova, Anastasia|Liersch, Stefan|Tabara, J....</td>\n",
       "      <td>JOURNAL OF HYDROLOGY</td>\n",
       "      <td>Harmonizing human-hydrological system under cl...</td>\n",
       "      <td>2017</td>\n",
       "      <td>https://dx.doi.org/10.1016/j.jhydrol.2017.03.015</td>\n",
       "    </tr>\n",
       "  </tbody>\n",
       "</table>\n",
       "</div>"
      ],
      "text/plain": [
       "                                                  AU  \\\n",
       "0  Lai, Y. C.|Chien, C. C.|Yang, Z. H.|Surampalli...   \n",
       "1  Wu, Bin|Zheng, Yi|Wu, Xin|Tian, Yong|Han, Feng...   \n",
       "2              Dai, Shanshan|Li, Lanhai|Xu, Honggang   \n",
       "3  Winter, Jonathan M.|Lopez, Jose R.|Ruane, Alex...   \n",
       "4  Talati, Shuchi|Zhai, Haibo|Kyle, G. Page|Morga...   \n",
       "5             Veettil, Anoop Valiya|Mishra, Ashok K.   \n",
       "6             Gibbs, M. S.|Dandy, G. C.|Maier, H. R.   \n",
       "7  Han, Bangshuai|Benner, Shawn G.|Bolte, John P....   \n",
       "8  Loeffler, Michael|Brinkop, Sabine|Joeckel, Pat...   \n",
       "9  Lobanova, Anastasia|Liersch, Stefan|Tabara, J....   \n",
       "\n",
       "                                                  SO  \\\n",
       "0                         WATER ENVIRONMENT RESEARCH   \n",
       "1                           WATER RESOURCES RESEARCH   \n",
       "2                                       WATER POLICY   \n",
       "3                                       ANTHROPOCENE   \n",
       "4                 ENVIRONMENTAL SCIENCE & TECHNOLOGY   \n",
       "5                               JOURNAL OF HYDROLOGY   \n",
       "6  STOCHASTIC ENVIRONMENTAL RESEARCH AND RISK ASS...   \n",
       "7                HYDROLOGY AND EARTH SYSTEM SCIENCES   \n",
       "8                  ATMOSPHERIC CHEMISTRY AND PHYSICS   \n",
       "9                               JOURNAL OF HYDROLOGY   \n",
       "\n",
       "                                               title  year  \\\n",
       "0  Developing an Integrated Modeling Tool for Riv...  2017   \n",
       "1  Optimizing water resources management in large...  2015   \n",
       "2  Simulation of water scarcity in a leap-forward...  2017   \n",
       "3  Representing water scarcity in future agricult...  2017   \n",
       "4  Consumptive Water Use from Electricity Generat...  2016   \n",
       "5  Water security assessment using blue and green...  2016   \n",
       "6  Assessment of the ability to meet environmenta...  2014   \n",
       "7  Coupling biophysical processes and water right...  2017   \n",
       "8  Impact of major volcanic eruptions on stratosp...  2016   \n",
       "9  Harmonizing human-hydrological system under cl...  2017   \n",
       "\n",
       "                                            DOI link  \n",
       "0  https://dx.doi.org/10.2175/106143016X147983533...  \n",
       "1            https://dx.doi.org/10.1002/2014WR016653  \n",
       "2             https://dx.doi.org/10.2166/wp.2017.132  \n",
       "3    https://dx.doi.org/10.1016/j.ancene.2017.05.002  \n",
       "4         https://dx.doi.org/10.1021/acs.est.6b01389  \n",
       "5   https://dx.doi.org/10.1016/j.jhydrol.2016.09.032  \n",
       "6       https://dx.doi.org/10.1007/s00477-013-0735-9  \n",
       "7       https://dx.doi.org/10.5194/hess-21-3671-2017  \n",
       "8        https://dx.doi.org/10.5194/acp-16-6547-2016  \n",
       "9   https://dx.doi.org/10.1016/j.jhydrol.2017.03.015  "
      ]
     },
     "execution_count": 37,
     "metadata": {},
     "output_type": "execute_result"
    }
   ],
   "source": [
    "topic_df = wosis.link_to_pub(topic_recs)  # Creates a new column called 'DOI link'\n",
    "topic_df.loc[:, ~topic_df.columns.isin(hide_columns)].head(10)"
   ]
  },
  {
   "cell_type": "markdown",
   "metadata": {},
   "source": [
    "Other analysis can easily be accomplished with Pandas"
   ]
  }
 ],
 "metadata": {
  "kernelspec": {
   "display_name": "Python (Biblio)",
   "language": "python",
   "name": "myenv"
  },
  "language_info": {
   "codemirror_mode": {
    "name": "ipython",
    "version": 3
   },
   "file_extension": ".py",
   "mimetype": "text/x-python",
   "name": "python",
   "nbconvert_exporter": "python",
   "pygments_lexer": "ipython3",
   "version": "3.5.6"
  }
 },
 "nbformat": 4,
 "nbformat_minor": 2
}
