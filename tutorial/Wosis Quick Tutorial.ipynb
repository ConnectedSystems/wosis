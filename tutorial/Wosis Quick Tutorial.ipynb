{
 "cells": [
  {
   "cell_type": "markdown",
   "metadata": {},
   "source": [
    "# A quick tutorial on using Wosis"
   ]
  },
  {
   "cell_type": "markdown",
   "metadata": {},
   "source": [
    "Before we start, some known issues:\n",
    "\n",
    "* Methods - especially plotting - switch from relying on Pandas DataFrames to Metaknowledge Collections.\n",
    "This is because some things are easier to accomplish with one or the other. In the future, I hope to consolidate these to use just one, not a mishmash of both. \n",
    "\n",
    "* Some documentation is currently missing\n",
    "\n",
    "Suggestions on how to improve usability is appreciated, and can be made by [submitting an issue](https://github.com/ConnectedSystems/wosis/issues) with a 'usability' tag."
   ]
  },
  {
   "cell_type": "markdown",
   "metadata": {},
   "source": [
    "The cell below shows the Python version in use for this guide. Versions equal to and above should be fine."
   ]
  },
  {
   "cell_type": "code",
   "execution_count": 1,
   "metadata": {},
   "outputs": [],
   "source": [
    "import sys\n",
    "print(sys.version_info)"
   ]
  },
  {
   "cell_type": "markdown",
   "metadata": {},
   "source": [
    "There are two options to install Wosis for development use:\n",
    "\n",
    "1) clone the project with `git` (the dollar sign represents the terminal prompt)\n",
    "\n",
    "```bash\n",
    "$ git clone https://github.com/ConnectedSystems/wosis.git\n",
    "$ cd wosis\n",
    "$ pip install git+https://github.com/ConnectedSystems/metaknowledge.git@add-collections\n",
    "$ pip install git+https://github.com/titipata/wos_parser.git@master\n",
    "$ pip install -e .\n",
    "```\n",
    "\n",
    "2) download, and extract, the project files from the [github repo](https://github.com/ConnectedSystems/wosis) (look for the green button on the right hand side)\n",
    "\n",
    "```bash\n",
    "$ pip install git+https://github.com/ConnectedSystems/metaknowledge.git@add-collections\n",
    "$ pip install git+https://github.com/titipata/wos_parser.git@master\n",
    "$ pip install -e .\n",
    "```\n",
    "\n",
    "Note the period (`.`) - yes it is important!\n",
    "\n",
    "The first two `pip install` commands downloads and installs specific package versions that are required by Wosis."
   ]
  },
  {
   "cell_type": "markdown",
   "metadata": {},
   "source": [
    "Import packages"
   ]
  },
  {
   "cell_type": "code",
   "execution_count": 2,
   "metadata": {},
   "outputs": [],
   "source": [
    "import wosis\n",
    "import pandas as pd\n",
    "import metaknowledge as mk\n",
    "import json"
   ]
  },
  {
   "cell_type": "markdown",
   "metadata": {},
   "source": [
    "Load Web of Science configuration file (this assumes the relevant file is in the same place as this notebook).\n",
    "\n",
    "Remember not to share this file with anyone, or store it in a publicly accessible repository of any sort."
   ]
  },
  {
   "cell_type": "markdown",
   "metadata": {},
   "source": [
    "The `config.yml` file should hold your Web of Science username and password, like so:\n",
    "\n",
    "```yaml\n",
    "wos:\n",
    "  user: username\n",
    "  password: password\n",
    "```"
   ]
  },
  {
   "cell_type": "code",
   "execution_count": 3,
   "metadata": {},
   "outputs": [],
   "source": [
    "wos_config = wosis.load_config(\"config.yml\")"
   ]
  },
  {
   "cell_type": "markdown",
   "metadata": {},
   "source": [
    "Create a dictionary of search terms."
   ]
  },
  {
   "cell_type": "code",
   "execution_count": 4,
   "metadata": {},
   "outputs": [],
   "source": [
    "# dollar sign ($) is a wildcard used to match British and American spellings\n",
    "# e.g. flavo$r matches both flavour and flavor\n",
    "# see https://images.webofknowledge.com/images/help/WOS/hs_wildcards.html\n",
    "search_terms = {\n",
    "    \"inclusive_kw\": (\"Integrated Model$ing\", ),  # Keywords to include (NOTE THE TRAILING COMMA FOR SINGLE ENTRIES)\n",
    "    \"exclusive_kw\": (\"chemical\", \"industry\", \"cancer\", \"gene\"), # Keywords to exclude\n",
    "    \"exclusive_jo\": ('PSYCHOL*', ),  # Journals to exclude (the * tries to match anything after 'PSYCHOL')\n",
    "    \"subject_area\": (\"ENVIRONMENTAL SCIENCES\", \"WATER RESOURCES\", \"ENGINEERING ENVIRONMENTAL\", \"INTERDISCIPLINARY APPLICATIONS\"),\n",
    "}"
   ]
  },
  {
   "cell_type": "markdown",
   "metadata": {},
   "source": [
    "Then build a list of queries.\n",
    "\n",
    "The below generates a query string that we will send to Web of Science. Look at the guide here for an explanation:\n",
    "\n",
    "http://ipscience-help.thomsonreuters.com/wosWebServicesLite/WebServiceOperationsGroup/WebServiceOperations/g2/user_query.html"
   ]
  },
  {
   "cell_type": "code",
   "execution_count": 5,
   "metadata": {},
   "outputs": [
    {
     "data": {
      "text/plain": [
       "['TS=((\"Integrated Model$ing\") NOT (\"chemical\" OR \"industry\" OR \"cancer\" OR \"gene\")) NOT SO=(\"PSYCHOL*\") AND WC=(\"ENVIRONMENTAL SCIENCES\" OR \"WATER RESOURCES\" OR \"ENGINEERING ENVIRONMENTAL\" OR \"INTERDISCIPLINARY APPLICATIONS\")']"
      ]
     },
     "execution_count": 5,
     "metadata": {},
     "output_type": "execute_result"
    }
   ],
   "source": [
    "topics = [wosis.build_query(search_terms), ]\n",
    "topics"
   ]
  },
  {
   "cell_type": "markdown",
   "metadata": {},
   "source": [
    "Now we send off the query.\n",
    "\n",
    "Strangely, the time span of interest is not accepted as part of the WoS query, but we can specify this separately.\n",
    "\n",
    "The `%%time` Jupyter magic command is there so we know how long this process took.\n",
    "\n",
    "For very large amounts of records, getting the data can take a long time.\n",
    "\n",
    "Sometimes the retrieval process fails - this could be due to high amounts of traffic to the WoS servers. Most times there's no other option other than to try again."
   ]
  },
  {
   "cell_type": "code",
   "execution_count": 6,
   "metadata": {},
   "outputs": [
    {
     "name": "stdout",
     "output_type": "stream",
     "text": [
      "Authenticated (SID: 5CTiZNg6WU4rUfpHZgV)\n"
     ]
    },
    {
     "name": "stderr",
     "output_type": "stream",
     "text": [
      "c:\\userdata\\takuyai\\owncloud\\projects\\wosis\\wosis\\query.py:276: UserWarning: Using cached results...\n",
      "  warnings.warn(\"Using cached results...\")\n"
     ]
    },
    {
     "name": "stdout",
     "output_type": "stream",
     "text": [
      "Got 273 records\n",
      "Wall time: 1.81 s\n"
     ]
    }
   ],
   "source": [
    "%%time\n",
    "overwrite = False  # Do not overwrite previous identical search if it exists\n",
    "id_to_query, query_recs = wosis.query(topics, overwrite, wos_config, time_span={'begin': '2014-01-01', 'end': '2017-12-31'})"
   ]
  },
  {
   "cell_type": "markdown",
   "metadata": {},
   "source": [
    "`id_to_query` is a dictionary that maps a result ID to the query that was sent.\n",
    "\n",
    "`query_recs` is a dictionary that maps a result ID to the matching publication set.\n",
    "\n",
    "So, we can write out the query_id information so that we know what data is related to which query.\n",
    "\n",
    "This is handy for later analysis/inspection:"
   ]
  },
  {
   "cell_type": "code",
   "execution_count": 7,
   "metadata": {},
   "outputs": [],
   "source": [
    "with open('tmp/example_query_id.txt', 'w') as file:\n",
    "     file.write(json.dumps(id_to_query, indent=2))  # use `json.loads` to do the reverse"
   ]
  },
  {
   "cell_type": "markdown",
   "metadata": {},
   "source": [
    "The retrieved dataset is cached in RIS format.\n",
    "\n",
    "This means that you can also use data exported from a reference manager, such as EndNote, Mendeley, or Zotero, so long as it is in RIS format.\n",
    "\n",
    "In this example the dataset is cached in a `txt` file labelled with the `query_id`."
   ]
  },
  {
   "cell_type": "code",
   "execution_count": 8,
   "metadata": {},
   "outputs": [
    {
     "name": "stdout",
     "output_type": "stream",
     "text": [
      "Query ID:  72e7af00b238db01d2b12d9a3c6a4fb6 \n",
      "Query String: TS=((\"Integrated Model$ing\") NOT (\"chemical\" OR \"industry\" OR \"cancer\" OR \"gene\")) NOT SO=(\"PSYCHOL*\") AND WC=(\"ENVIRONMENTAL SCIENCES\" OR \"WATER RESOURCES\" OR \"ENGINEERING ENVIRONMENTAL\" OR \"INTERDISCIPLINARY APPLICATIONS\") \n",
      "\n",
      "Corpora consists of 273 Publications\n"
     ]
    }
   ],
   "source": [
    "# Get the ID of the query result set:\n",
    "query_id = list(id_to_query)[0]\n",
    "\n",
    "print(\"Query ID: \", query_id, \"\\nQuery String:\", id_to_query[query_id], \"\\n\")\n",
    "\n",
    "# Load it in as a metaknowledge collection\n",
    "RC = mk.RecordCollection(\"tmp/{}.txt\".format(query_id))\n",
    "\n",
    "# If we want to constrain the time frame later, this is how we do it\n",
    "# RC = RC.yearSplit(0, 2017)\n",
    "\n",
    "print(\"Corpora consists of\", len(RC), \"Publications\")"
   ]
  },
  {
   "cell_type": "markdown",
   "metadata": {},
   "source": [
    "Otherwise, we can get the publication records from the query result set directly"
   ]
  },
  {
   "cell_type": "code",
   "execution_count": 9,
   "metadata": {},
   "outputs": [
    {
     "name": "stdout",
     "output_type": "stream",
     "text": [
      "Corpora consists of 273 Publications\n"
     ]
    }
   ],
   "source": [
    "RC = list(query_recs.values())[0]  # Remember, we only sent one query so it will be the first item in the dictionary\n",
    "print(\"Corpora consists of\", len(RC), \"Publications\")"
   ]
  },
  {
   "cell_type": "markdown",
   "metadata": {},
   "source": [
    "Before we do any analysis, let's write out a representative data set for publication. This means stripping the generated keywords and publication abstract from the dataset as these are proprietary information owned by Web of Science.\n",
    "\n",
    "As part of the legal usage agreement, if you make any dataset derived from Web of Science publicly available you have to specify that it came from Clarivate and when the data was retrieved. This has to be included inside any file you share.\n",
    "\n",
    "First create a `data` directory in the location indicated (`..` means \"the level above the current directory\" which should be where this notebook is)\n",
    "\n",
    "Don't forget to change the retrieval date!\n",
    "(see first line starting with `fn.write` below)\n",
    "\n",
    "(Still to come: Wosis provided method to do this for you)"
   ]
  },
  {
   "cell_type": "code",
   "execution_count": 10,
   "metadata": {},
   "outputs": [],
   "source": [
    "from datetime import datetime\n",
    "\n",
    "repset_df = pd.DataFrame(RC.forNLP(extraColumns=[\"AU\", \"SO\", \"DE\"]))\n",
    "repset_df = repset_df.drop([\"keywords\", \"abstract\"], axis=1)\n",
    "\n",
    "assert len(repset_df.id.unique()) == len(repset_df.id), \"Duplicate records found!\"\n",
    "\n",
    "repset_fn = \"../data/{}.csv\".format(query_id)\n",
    "with open(repset_fn, 'w') as fn:\n",
    "    fn.write(\"# Data from Clarivate Analytics' Web of Science, retrieved 1 December 2018\\n\")\n",
    "    fn.write(\"# This file generated on {}\\n\".format(datetime.now().strftime(\"%Y-%m-%d %H:%M:%S\")))\n",
    "    repset_df.index.name = \"item\"\n",
    "    repset_df.to_csv(fn)"
   ]
  },
  {
   "cell_type": "markdown",
   "metadata": {},
   "source": [
    "Now the fun begins.\n",
    "\n",
    "Analysis setup:"
   ]
  },
  {
   "cell_type": "code",
   "execution_count": 11,
   "metadata": {},
   "outputs": [],
   "source": [
    "# Helper functions for plotting\n",
    "import wosis.analysis.plotting as wos_plot\n",
    "\n",
    "# Analysis and search functions\n",
    "from wosis.analysis import (preview_matches, search_records, keyword_matches, \n",
    "                            find_pubs_by_authors, preview_matches_by_keyword, get_unique_kw_titles,\n",
    "                            remove_by_journals, remove_by_title)\n",
    "\n",
    "# Plotting libraries\n",
    "import matplotlib.pyplot as plt\n",
    "import seaborn as sns\n",
    "\n",
    "# This just helps make the plots look nicer\n",
    "sns.set_style('darkgrid')\n",
    "sns.set_context('paper', font_scale=2.0)"
   ]
  },
  {
   "cell_type": "markdown",
   "metadata": {},
   "source": [
    "Basic analysis can be done with Pandas, but more complicated stuff is made simple by included Wosis helper functions"
   ]
  },
  {
   "cell_type": "markdown",
   "metadata": {},
   "source": [
    "Count how many publications do not have a valid DOI in the Web of Science dataset..."
   ]
  },
  {
   "cell_type": "code",
   "execution_count": 12,
   "metadata": {},
   "outputs": [
    {
     "data": {
      "text/plain": [
       "17"
      ]
     },
     "execution_count": 12,
     "metadata": {},
     "output_type": "execute_result"
    }
   ],
   "source": [
    "corpora_df = pd.DataFrame(RC.forNLP(extraColumns=[\"AU\", \"SO\", \"DE\", 'DOI']))\n",
    "\n",
    "corpora_df.loc[corpora_df['DOI'] == '', 'DOI'].count()"
   ]
  },
  {
   "cell_type": "markdown",
   "metadata": {},
   "source": [
    "... then remove them from the dataset. \n",
    "\n",
    "Here we're assuming that those without DOIs are unusable for our analysis."
   ]
  },
  {
   "cell_type": "code",
   "execution_count": 13,
   "metadata": {},
   "outputs": [],
   "source": [
    "corpora_df = corpora_df.loc[corpora_df['DOI'] != '', :]"
   ]
  },
  {
   "cell_type": "markdown",
   "metadata": {},
   "source": [
    "Filtering by journal or title is supported in Wosis.\n",
    "\n",
    "These methods will print out the number of articles removed for each search string.\n",
    "\n",
    "*WARNING:* This example uses Pandas DataFrames. Future versions of Wosis will apply the changes to a Metaknowledge collection instead"
   ]
  },
  {
   "cell_type": "code",
   "execution_count": 14,
   "metadata": {},
   "outputs": [
    {
     "name": "stdout",
     "output_type": "stream",
     "text": [
      "PSYCHOL: 0\n",
      "BIOINFO: 0\n"
     ]
    },
    {
     "data": {
      "text/html": [
       "<div>\n",
       "<style scoped>\n",
       "    .dataframe tbody tr th:only-of-type {\n",
       "        vertical-align: middle;\n",
       "    }\n",
       "\n",
       "    .dataframe tbody tr th {\n",
       "        vertical-align: top;\n",
       "    }\n",
       "\n",
       "    .dataframe thead th {\n",
       "        text-align: right;\n",
       "    }\n",
       "</style>\n",
       "<table border=\"1\" class=\"dataframe\">\n",
       "  <thead>\n",
       "    <tr style=\"text-align: right;\">\n",
       "      <th></th>\n",
       "      <th>AU</th>\n",
       "      <th>SO</th>\n",
       "      <th>title</th>\n",
       "      <th>year</th>\n",
       "    </tr>\n",
       "  </thead>\n",
       "  <tbody>\n",
       "    <tr>\n",
       "      <th>0</th>\n",
       "      <td>Gustafson, David|Gutman, Alona|Leet, Whitney|D...</td>\n",
       "      <td>SUSTAINABILITY</td>\n",
       "      <td>Seven Food System Metrics of Sustainable Nutri...</td>\n",
       "      <td>2016</td>\n",
       "    </tr>\n",
       "    <tr>\n",
       "      <th>1</th>\n",
       "      <td>Cheng, Su-Ting|Wiley, Michael J.</td>\n",
       "      <td>ENVIRONMENTAL MODELLING &amp; SOFTWARE</td>\n",
       "      <td>A Reduced Parameter Stream Temperature Model (...</td>\n",
       "      <td>2016</td>\n",
       "    </tr>\n",
       "    <tr>\n",
       "      <th>2</th>\n",
       "      <td>Urich, Christian|Rauch, Wolfgang</td>\n",
       "      <td>WATER RESEARCH</td>\n",
       "      <td>Exploring critical pathways for urban water ma...</td>\n",
       "      <td>2014</td>\n",
       "    </tr>\n",
       "    <tr>\n",
       "      <th>3</th>\n",
       "      <td>Dias, Daniela|Tchepel, Oxana|Antunes, Antonio ...</td>\n",
       "      <td>JOURNAL OF ENVIRONMENTAL MANAGEMENT</td>\n",
       "      <td>Integrated modelling approach for the evaluati...</td>\n",
       "      <td>2016</td>\n",
       "    </tr>\n",
       "    <tr>\n",
       "      <th>4</th>\n",
       "      <td>Sheykhi, Vahideh|Moore, Farid|Kavousi-Fard, Ab...</td>\n",
       "      <td>INTERNATIONAL JOURNAL OF RIVER BASIN MANAGEMENT</td>\n",
       "      <td>Integrated modelling with environmental parame...</td>\n",
       "      <td>2017</td>\n",
       "    </tr>\n",
       "  </tbody>\n",
       "</table>\n",
       "</div>"
      ],
      "text/plain": [
       "                                                  AU  \\\n",
       "0  Gustafson, David|Gutman, Alona|Leet, Whitney|D...   \n",
       "1                   Cheng, Su-Ting|Wiley, Michael J.   \n",
       "2                   Urich, Christian|Rauch, Wolfgang   \n",
       "3  Dias, Daniela|Tchepel, Oxana|Antunes, Antonio ...   \n",
       "4  Sheykhi, Vahideh|Moore, Farid|Kavousi-Fard, Ab...   \n",
       "\n",
       "                                                SO  \\\n",
       "0                                   SUSTAINABILITY   \n",
       "1               ENVIRONMENTAL MODELLING & SOFTWARE   \n",
       "2                                   WATER RESEARCH   \n",
       "3              JOURNAL OF ENVIRONMENTAL MANAGEMENT   \n",
       "4  INTERNATIONAL JOURNAL OF RIVER BASIN MANAGEMENT   \n",
       "\n",
       "                                               title  year  \n",
       "0  Seven Food System Metrics of Sustainable Nutri...  2016  \n",
       "1  A Reduced Parameter Stream Temperature Model (...  2016  \n",
       "2  Exploring critical pathways for urban water ma...  2014  \n",
       "3  Integrated modelling approach for the evaluati...  2016  \n",
       "4  Integrated modelling with environmental parame...  2017  "
      ]
     },
     "execution_count": 14,
     "metadata": {},
     "output_type": "execute_result"
    }
   ],
   "source": [
    "from wosis.analysis import remove_by_journals, remove_by_title\n",
    "\n",
    "# List of unrelated Journals - will be matched by partial string\n",
    "unrelated_jo = ['PSYCHOL', 'BIOINFO']\n",
    "\n",
    "# Think of the parameter order like \"with this dataset, remove these unrelated journals\"\n",
    "corpora_df = remove_by_journals(corpora_df, unrelated_jo)\n",
    "\n",
    "# Hiding keywords and abstract for tutorial (WoS-owned IP)\n",
    "hide_columns = ['DE', 'abstract', 'keywords', 'DOI', 'id', 'kws']\n",
    "corpora_df.loc[:, ~corpora_df.columns.isin(hide_columns)].head()  # display first 5"
   ]
  },
  {
   "cell_type": "code",
   "execution_count": 15,
   "metadata": {},
   "outputs": [
    {
     "name": "stdout",
     "output_type": "stream",
     "text": [
      "transportation networks: 0\n",
      "Travel Destination: 0\n",
      "portfolio optimization: 0\n"
     ]
    },
    {
     "data": {
      "text/html": [
       "<div>\n",
       "<style scoped>\n",
       "    .dataframe tbody tr th:only-of-type {\n",
       "        vertical-align: middle;\n",
       "    }\n",
       "\n",
       "    .dataframe tbody tr th {\n",
       "        vertical-align: top;\n",
       "    }\n",
       "\n",
       "    .dataframe thead th {\n",
       "        text-align: right;\n",
       "    }\n",
       "</style>\n",
       "<table border=\"1\" class=\"dataframe\">\n",
       "  <thead>\n",
       "    <tr style=\"text-align: right;\">\n",
       "      <th></th>\n",
       "      <th>AU</th>\n",
       "      <th>SO</th>\n",
       "      <th>title</th>\n",
       "      <th>year</th>\n",
       "    </tr>\n",
       "  </thead>\n",
       "  <tbody>\n",
       "    <tr>\n",
       "      <th>0</th>\n",
       "      <td>Gustafson, David|Gutman, Alona|Leet, Whitney|D...</td>\n",
       "      <td>SUSTAINABILITY</td>\n",
       "      <td>Seven Food System Metrics of Sustainable Nutri...</td>\n",
       "      <td>2016</td>\n",
       "    </tr>\n",
       "    <tr>\n",
       "      <th>1</th>\n",
       "      <td>Cheng, Su-Ting|Wiley, Michael J.</td>\n",
       "      <td>ENVIRONMENTAL MODELLING &amp; SOFTWARE</td>\n",
       "      <td>A Reduced Parameter Stream Temperature Model (...</td>\n",
       "      <td>2016</td>\n",
       "    </tr>\n",
       "    <tr>\n",
       "      <th>2</th>\n",
       "      <td>Urich, Christian|Rauch, Wolfgang</td>\n",
       "      <td>WATER RESEARCH</td>\n",
       "      <td>Exploring critical pathways for urban water ma...</td>\n",
       "      <td>2014</td>\n",
       "    </tr>\n",
       "    <tr>\n",
       "      <th>3</th>\n",
       "      <td>Dias, Daniela|Tchepel, Oxana|Antunes, Antonio ...</td>\n",
       "      <td>JOURNAL OF ENVIRONMENTAL MANAGEMENT</td>\n",
       "      <td>Integrated modelling approach for the evaluati...</td>\n",
       "      <td>2016</td>\n",
       "    </tr>\n",
       "    <tr>\n",
       "      <th>4</th>\n",
       "      <td>Sheykhi, Vahideh|Moore, Farid|Kavousi-Fard, Ab...</td>\n",
       "      <td>INTERNATIONAL JOURNAL OF RIVER BASIN MANAGEMENT</td>\n",
       "      <td>Integrated modelling with environmental parame...</td>\n",
       "      <td>2017</td>\n",
       "    </tr>\n",
       "  </tbody>\n",
       "</table>\n",
       "</div>"
      ],
      "text/plain": [
       "                                                  AU  \\\n",
       "0  Gustafson, David|Gutman, Alona|Leet, Whitney|D...   \n",
       "1                   Cheng, Su-Ting|Wiley, Michael J.   \n",
       "2                   Urich, Christian|Rauch, Wolfgang   \n",
       "3  Dias, Daniela|Tchepel, Oxana|Antunes, Antonio ...   \n",
       "4  Sheykhi, Vahideh|Moore, Farid|Kavousi-Fard, Ab...   \n",
       "\n",
       "                                                SO  \\\n",
       "0                                   SUSTAINABILITY   \n",
       "1               ENVIRONMENTAL MODELLING & SOFTWARE   \n",
       "2                                   WATER RESEARCH   \n",
       "3              JOURNAL OF ENVIRONMENTAL MANAGEMENT   \n",
       "4  INTERNATIONAL JOURNAL OF RIVER BASIN MANAGEMENT   \n",
       "\n",
       "                                               title  year  \n",
       "0  Seven Food System Metrics of Sustainable Nutri...  2016  \n",
       "1  A Reduced Parameter Stream Temperature Model (...  2016  \n",
       "2  Exploring critical pathways for urban water ma...  2014  \n",
       "3  Integrated modelling approach for the evaluati...  2016  \n",
       "4  Integrated modelling with environmental parame...  2017  "
      ]
     },
     "execution_count": 15,
     "metadata": {},
     "output_type": "execute_result"
    }
   ],
   "source": [
    "unrelated_TI = ['transportation networks', 'Travel Destination', 'portfolio optimization']\n",
    "\n",
    "# Again, with this dataset remove these titles\n",
    "corpora_df = remove_by_title(corpora_df, unrelated_TI)\n",
    "\n",
    "# Hiding keywords and abstract for tutorial (WoS-owned IP)\n",
    "corpora_df.loc[:, ~corpora_df.columns.isin(hide_columns)].head()  # display first 5"
   ]
  },
  {
   "cell_type": "markdown",
   "metadata": {},
   "source": [
    "We can then create a new Metaknowledge collection using the WOS ID"
   ]
  },
  {
   "cell_type": "code",
   "execution_count": 16,
   "metadata": {},
   "outputs": [],
   "source": [
    "filtered_corpora = wosis.extract_recs(corpora_df.loc[:, 'id'], RC, name='Filtered Corpora')"
   ]
  },
  {
   "cell_type": "markdown",
   "metadata": {},
   "source": [
    "Wosis has a number of convenient plotting functions. \n",
    "\n",
    "All of plotting functions \n",
    "* can save the resulting figure to a file by giving a file location to the `save_plot_fn` parameter.\n",
    "  The figure will be saved in PNG format at 300dpi resolution.\n",
    "* returns a matplotlib figure object so you can make further adjustments if desired\n",
    "\n",
    "For example:\n",
    "\n",
    "```python\n",
    "wos_plot.plot_pub_trend(filtered_corpora, title='Publication Trend', save_plot_fn=r'C:\\temp\\my_figure.png')\n",
    "```"
   ]
  },
  {
   "cell_type": "code",
   "execution_count": 17,
   "metadata": {},
   "outputs": [
    {
     "data": {
      "image/png": "[encoded data removed]",
      "text/plain": [
       "<Figure size 648x432 with 1 Axes>"
      ]
     },
     "metadata": {
      "needs_background": "light"
     },
     "output_type": "display_data"
    }
   ],
   "source": [
    "# Plotting out the publication trend. \n",
    "wos_plot.plot_pub_trend(filtered_corpora, title='Publication Trend', save_plot_fn=False)"
   ]
  },
  {
   "cell_type": "code",
   "execution_count": 18,
   "metadata": {},
   "outputs": [
    {
     "data": {
      "image/png": "[encoded data removed]",
      "text/plain": [
       "<Figure size 1296x432 with 2 Axes>"
      ]
     },
     "metadata": {
      "needs_background": "light"
     },
     "output_type": "display_data"
    }
   ],
   "source": [
    "# Plot out the keyword trend\n",
    "wos_plot.plot_kw_trend(filtered_corpora, title='Keyword Trend', save_plot_fn=False)"
   ]
  },
  {
   "cell_type": "markdown",
   "metadata": {},
   "source": [
    "You can also sort the publications into specific criterias.\n",
    "\n",
    "This matches similar words as found in the title, abstract, and keyword sections."
   ]
  },
  {
   "cell_type": "code",
   "execution_count": 19,
   "metadata": {},
   "outputs": [],
   "source": [
    "# Keyword types adapted from Zare et al. (2017)\n",
    "# http://dx.doi.org/10.1016/j.jhydrol.2017.07.031\n",
    "\n",
    "criteria = {\n",
    "    'overarching': set(['uncertainty', 'adapt', 'decision support', 'management', 'gis']),\n",
    "    'agri': set(['agricultur', 'farm']),\n",
    "    'water': set(['hydrology', 'water', 'stream', 'aquifer']),\n",
    "    'enviro': set(['environment', 'climate', 'ecology', 'ecosystem', 'biodivers']),\n",
    "    'socio_economic': set(['ecosystem service', 'social', 'conflict', 'particip', 'law', 'stakehold', 'policy', 'economic'])\n",
    "}\n",
    "\n",
    "crit_matches, crit_summary = wosis.keyword_matches_by_criteria(filtered_corpora, criteria, threshold=95.0)"
   ]
  },
  {
   "cell_type": "code",
   "execution_count": 20,
   "metadata": {},
   "outputs": [
    {
     "data": {
      "image/png": "[encoded data removed]",
      "text/plain": [
       "<Figure size 432x288 with 1 Axes>"
      ]
     },
     "metadata": {
      "needs_background": "light"
     },
     "output_type": "display_data"
    }
   ],
   "source": [
    "criteria_df = wosis.collate_keyword_criteria_matches(filtered_corpora, crit_matches)\n",
    "wos_plot.plot_criteria_trend(criteria_df, threshold=3)"
   ]
  },
  {
   "cell_type": "markdown",
   "metadata": {},
   "source": [
    "Remember, you can look at the documentation for anything with the question mark magic command"
   ]
  },
  {
   "cell_type": "code",
   "execution_count": 21,
   "metadata": {},
   "outputs": [],
   "source": [
    "?wos_plot.plot_criteria_trend"
   ]
  },
  {
   "cell_type": "markdown",
   "metadata": {},
   "source": [
    "If desired, you can search the publications for a specific keyword (or list of keywords).\n",
    "\n",
    "Here, we look for some keywords related to the field costs - anything that is 95% similar to the given keywords is acceptable."
   ]
  },
  {
   "cell_type": "code",
   "execution_count": 22,
   "metadata": {},
   "outputs": [],
   "source": [
    "matching_records, summary = keyword_matches(filtered_corpora, ['finance', 'costs', 'capita', 'monetary'], threshold=95.0)"
   ]
  },
  {
   "cell_type": "code",
   "execution_count": 23,
   "metadata": {},
   "outputs": [
    {
     "data": {
      "image/png": "[encoded data removed]",
      "text/plain": [
       "<Figure size 576x432 with 1 Axes>"
      ]
     },
     "metadata": {
      "needs_background": "light"
     },
     "output_type": "display_data"
    }
   ],
   "source": [
    "wos_plot.plot_pub_per_kw(matching_records, summary, filtered_corpora, kw_category='Finance')"
   ]
  },
  {
   "cell_type": "markdown",
   "metadata": {},
   "source": [
    "We can then attempt to find topics of interest\n",
    "\n",
    "*WARNING* : This is still under development and the function(s), parameter order, and return types may change"
   ]
  },
  {
   "cell_type": "code",
   "execution_count": 24,
   "metadata": {},
   "outputs": [
    {
     "name": "stdout",
     "output_type": "stream",
     "text": [
      "Topic 1: water river irrigation management supply demand basin resources use agricultural\n",
      "Topic 2: model modelling models environmental modeling data management framework processes analysis\n",
      "Topic 3: urban modelling infrastructure water planning drainage systems stormwater tools new\n",
      "Topic 4: climate change future impacts scenarios changes vulnerability population agricultural hydrological\n",
      "Topic 5: flood flash rainfall hydrological catchment runoff floods occurrence river events\n",
      "Topic 6: emissions cement plant calcination sources plants dioxide carbon power emission\n",
      "Topic 7: groundwater flow surface recharge aquifer model water low storage irrigation\n",
      "Topic 8: energy transport modeling electricity carbon generation nexus planning fuzzy buildings\n",
      "Topic 9: land use change soil erosion farm aquatic sediment changes scenarios\n",
      "Topic 10: air traffic pollution quality emission pollutants emissions modelling stormwater dispersion\n"
     ]
    }
   ],
   "source": [
    "from wosis.analysis import find_topics, get_topic_by_id\n",
    "\n",
    "filtered_corpora_df = pd.DataFrame(filtered_corpora.forNLP(extraColumns=[\"AU\", \"SO\", \"DE\"]))\n",
    "topic_model, trans, feature_names = find_topics(filtered_corpora_df, num_topics=10)"
   ]
  },
  {
   "cell_type": "markdown",
   "metadata": {},
   "source": [
    "If the identified topics are too vague or not of interest, try increasing the number of topics. Conversely, if they are too specific, try lowering the number of topics.\n",
    "\n",
    "Say we're interested in Topic 2. The cell below shows how to get the publications for this topic."
   ]
  },
  {
   "cell_type": "code",
   "execution_count": 25,
   "metadata": {},
   "outputs": [],
   "source": [
    "id_of_interesting_topic = 2\n",
    "\n",
    "topic_set = get_topic_by_id(topic_model, trans, id_of_interesting_topic, filtered_corpora_df)"
   ]
  },
  {
   "cell_type": "code",
   "execution_count": 26,
   "metadata": {},
   "outputs": [
    {
     "name": "stdout",
     "output_type": "stream",
     "text": [
      "Number of publications in topic set: 112\n"
     ]
    }
   ],
   "source": [
    "print(\"Number of publications in topic set:\", len(topic_set))"
   ]
  },
  {
   "cell_type": "code",
   "execution_count": 27,
   "metadata": {},
   "outputs": [
    {
     "data": {
      "text/html": [
       "<div>\n",
       "<style scoped>\n",
       "    .dataframe tbody tr th:only-of-type {\n",
       "        vertical-align: middle;\n",
       "    }\n",
       "\n",
       "    .dataframe tbody tr th {\n",
       "        vertical-align: top;\n",
       "    }\n",
       "\n",
       "    .dataframe thead th {\n",
       "        text-align: right;\n",
       "    }\n",
       "</style>\n",
       "<table border=\"1\" class=\"dataframe\">\n",
       "  <thead>\n",
       "    <tr style=\"text-align: right;\">\n",
       "      <th></th>\n",
       "      <th>AU</th>\n",
       "      <th>SO</th>\n",
       "      <th>title</th>\n",
       "      <th>year</th>\n",
       "    </tr>\n",
       "  </thead>\n",
       "  <tbody>\n",
       "    <tr>\n",
       "      <th>0</th>\n",
       "      <td>Gustafson, David|Gutman, Alona|Leet, Whitney|D...</td>\n",
       "      <td>SUSTAINABILITY</td>\n",
       "      <td>Seven Food System Metrics of Sustainable Nutri...</td>\n",
       "      <td>2016</td>\n",
       "    </tr>\n",
       "    <tr>\n",
       "      <th>2</th>\n",
       "      <td>Cheng, Su-Ting|Wiley, Michael J.</td>\n",
       "      <td>ENVIRONMENTAL MODELLING &amp; SOFTWARE</td>\n",
       "      <td>A Reduced Parameter Stream Temperature Model (...</td>\n",
       "      <td>2016</td>\n",
       "    </tr>\n",
       "    <tr>\n",
       "      <th>4</th>\n",
       "      <td>Sheykhi, Vahideh|Moore, Farid|Kavousi-Fard, Ab...</td>\n",
       "      <td>INTERNATIONAL JOURNAL OF RIVER BASIN MANAGEMENT</td>\n",
       "      <td>Integrated modelling with environmental parame...</td>\n",
       "      <td>2017</td>\n",
       "    </tr>\n",
       "    <tr>\n",
       "      <th>7</th>\n",
       "      <td>Hilty, Lorenz M.|Aebischer, Bernard|Rizzoli, A...</td>\n",
       "      <td>ENVIRONMENTAL MODELLING &amp; SOFTWARE</td>\n",
       "      <td>Modeling and evaluating the sustainability of ...</td>\n",
       "      <td>2014</td>\n",
       "    </tr>\n",
       "    <tr>\n",
       "      <th>9</th>\n",
       "      <td>Xu, Jianhua|Chen, Yaning|Bai, Ling|Xu, Yiwen</td>\n",
       "      <td>HYDROLOGY AND EARTH SYSTEM SCIENCES</td>\n",
       "      <td>A hybrid model to simulate the annual runoff o...</td>\n",
       "      <td>2016</td>\n",
       "    </tr>\n",
       "    <tr>\n",
       "      <th>13</th>\n",
       "      <td>Arbault, Damien|Riviere, Mylene|Rugani, Benede...</td>\n",
       "      <td>SCIENCE OF THE TOTAL ENVIRONMENT</td>\n",
       "      <td>Integrated earth system dynamic modeling for l...</td>\n",
       "      <td>2014</td>\n",
       "    </tr>\n",
       "    <tr>\n",
       "      <th>15</th>\n",
       "      <td>Lechner, Alex M.|McIntyre, Neil|Witt, Katherin...</td>\n",
       "      <td>ENVIRONMENTAL MODELLING &amp; SOFTWARE</td>\n",
       "      <td>Challenges of integrated modelling in mining r...</td>\n",
       "      <td>2017</td>\n",
       "    </tr>\n",
       "    <tr>\n",
       "      <th>18</th>\n",
       "      <td>Will, Robert|Smith, Valerie|Lee, Don|Senel, Ozgur</td>\n",
       "      <td>INTERNATIONAL JOURNAL OF GREENHOUSE GAS CONTROL</td>\n",
       "      <td>Data integration, reservoir response, and appl...</td>\n",
       "      <td>2016</td>\n",
       "    </tr>\n",
       "    <tr>\n",
       "      <th>20</th>\n",
       "      <td>Yi, Shuping|Ma, Haiyi|Zheng, Chunmiao|Ren, Guo...</td>\n",
       "      <td>ENVIRONMENTAL EARTH SCIENCES</td>\n",
       "      <td>A field-scale long-term study on radionuclide ...</td>\n",
       "      <td>2014</td>\n",
       "    </tr>\n",
       "    <tr>\n",
       "      <th>22</th>\n",
       "      <td>Xiao, Fei|Wong, Man Sing|Lee, Kwon Ho|Campbell...</td>\n",
       "      <td>COMPUTERS &amp; GEOSCIENCES</td>\n",
       "      <td>Retrieval of dust storm aerosols using an inte...</td>\n",
       "      <td>2015</td>\n",
       "    </tr>\n",
       "  </tbody>\n",
       "</table>\n",
       "</div>"
      ],
      "text/plain": [
       "                                                   AU  \\\n",
       "0   Gustafson, David|Gutman, Alona|Leet, Whitney|D...   \n",
       "2                    Cheng, Su-Ting|Wiley, Michael J.   \n",
       "4   Sheykhi, Vahideh|Moore, Farid|Kavousi-Fard, Ab...   \n",
       "7   Hilty, Lorenz M.|Aebischer, Bernard|Rizzoli, A...   \n",
       "9        Xu, Jianhua|Chen, Yaning|Bai, Ling|Xu, Yiwen   \n",
       "13  Arbault, Damien|Riviere, Mylene|Rugani, Benede...   \n",
       "15  Lechner, Alex M.|McIntyre, Neil|Witt, Katherin...   \n",
       "18  Will, Robert|Smith, Valerie|Lee, Don|Senel, Ozgur   \n",
       "20  Yi, Shuping|Ma, Haiyi|Zheng, Chunmiao|Ren, Guo...   \n",
       "22  Xiao, Fei|Wong, Man Sing|Lee, Kwon Ho|Campbell...   \n",
       "\n",
       "                                                 SO  \\\n",
       "0                                    SUSTAINABILITY   \n",
       "2                ENVIRONMENTAL MODELLING & SOFTWARE   \n",
       "4   INTERNATIONAL JOURNAL OF RIVER BASIN MANAGEMENT   \n",
       "7                ENVIRONMENTAL MODELLING & SOFTWARE   \n",
       "9               HYDROLOGY AND EARTH SYSTEM SCIENCES   \n",
       "13                 SCIENCE OF THE TOTAL ENVIRONMENT   \n",
       "15               ENVIRONMENTAL MODELLING & SOFTWARE   \n",
       "18  INTERNATIONAL JOURNAL OF GREENHOUSE GAS CONTROL   \n",
       "20                     ENVIRONMENTAL EARTH SCIENCES   \n",
       "22                          COMPUTERS & GEOSCIENCES   \n",
       "\n",
       "                                                title  year  \n",
       "0   Seven Food System Metrics of Sustainable Nutri...  2016  \n",
       "2   A Reduced Parameter Stream Temperature Model (...  2016  \n",
       "4   Integrated modelling with environmental parame...  2017  \n",
       "7   Modeling and evaluating the sustainability of ...  2014  \n",
       "9   A hybrid model to simulate the annual runoff o...  2016  \n",
       "13  Integrated earth system dynamic modeling for l...  2014  \n",
       "15  Challenges of integrated modelling in mining r...  2017  \n",
       "18  Data integration, reservoir response, and appl...  2016  \n",
       "20  A field-scale long-term study on radionuclide ...  2014  \n",
       "22  Retrieval of dust storm aerosols using an inte...  2015  "
      ]
     },
     "execution_count": 27,
     "metadata": {},
     "output_type": "execute_result"
    }
   ],
   "source": [
    "# The publication set of interest!\n",
    "# Hiding keywords and abstract for tutorial (WoS-owned IP)\n",
    "topic_set.loc[:, ~topic_set.columns.isin(hide_columns)].head(10)  # show first 10"
   ]
  },
  {
   "cell_type": "code",
   "execution_count": 28,
   "metadata": {},
   "outputs": [],
   "source": [
    "topic_recs = wosis.extract_recs(topic_set.loc[:, 'id'], RC, 'Topic of Interest')"
   ]
  },
  {
   "cell_type": "code",
   "execution_count": 29,
   "metadata": {},
   "outputs": [
    {
     "data": {
      "image/png": "[encoded data removed]",
      "text/plain": [
       "<Figure size 432x576 with 10 Axes>"
      ]
     },
     "metadata": {
      "needs_background": "light"
     },
     "output_type": "display_data"
    }
   ],
   "source": [
    "wos_plot.plot_journal_pub_trend(topic_recs)"
   ]
  },
  {
   "cell_type": "code",
   "execution_count": 30,
   "metadata": {},
   "outputs": [
    {
     "data": {
      "image/png": "[encoded data removed]",
      "text/plain": [
       "<Figure size 720x432 with 1 Axes>"
      ]
     },
     "metadata": {
      "needs_background": "light"
     },
     "output_type": "display_data"
    }
   ],
   "source": [
    "wos_plot.plot_pubs_per_journal(topic_recs, top_n=10, annotate=True, show_stats=True)"
   ]
  },
  {
   "cell_type": "code",
   "execution_count": 31,
   "metadata": {},
   "outputs": [
    {
     "data": {
      "text/html": [
       "<div>\n",
       "<style scoped>\n",
       "    .dataframe tbody tr th:only-of-type {\n",
       "        vertical-align: middle;\n",
       "    }\n",
       "\n",
       "    .dataframe tbody tr th {\n",
       "        vertical-align: top;\n",
       "    }\n",
       "\n",
       "    .dataframe thead th {\n",
       "        text-align: right;\n",
       "    }\n",
       "</style>\n",
       "<table border=\"1\" class=\"dataframe\">\n",
       "  <thead>\n",
       "    <tr style=\"text-align: right;\">\n",
       "      <th></th>\n",
       "      <th>Citations</th>\n",
       "    </tr>\n",
       "    <tr>\n",
       "      <th>Publication</th>\n",
       "      <th></th>\n",
       "    </tr>\n",
       "  </thead>\n",
       "  <tbody>\n",
       "    <tr>\n",
       "      <th>Voinov, Alexey, 2016, Modelling with stakeholders - Next generation, ENVIRONMENTAL MODELLING &amp; SOFTWARE, 77, 196, 505142924</th>\n",
       "      <td>26</td>\n",
       "    </tr>\n",
       "    <tr>\n",
       "      <th>Laniak, Gerard F., 2013, Integrated environmental modeling: A vision and roadmap for the future, ENVIRONMENTAL MODELLING &amp; SOFTWARE, 39, 3, 442976548</th>\n",
       "      <td>20</td>\n",
       "    </tr>\n",
       "    <tr>\n",
       "      <th>Jakeman, AJ, 2003, Integrated assessment and modelling: features, principles and examples for catchment management, ENVIRONMENTAL MODELLING &amp; SOFTWARE, 18, 491, 41702207</th>\n",
       "      <td>20</td>\n",
       "    </tr>\n",
       "    <tr>\n",
       "      <th>Castronova, Anthony M., 2013, Simulating watersheds using loosely integrated model components: Evaluation of computational scaling using OpenMI, ENVIRONMENTAL MODELLING &amp; SOFTWARE, 39, 304, 442813107</th>\n",
       "      <td>16</td>\n",
       "    </tr>\n",
       "    <tr>\n",
       "      <th>Argent, RM, 2004, An overview of model integration for environmental application - components, frameworks and semantics, ENVIRONMENTAL MODELLING &amp; SOFTWARE, 19, 219, 495524493</th>\n",
       "      <td>14</td>\n",
       "    </tr>\n",
       "    <tr>\n",
       "      <th>Kelly (Letcher), Rebecca A., 2013, Selecting among five common modelling approaches for integrated environmental assessment and management, ENVIRONMENTAL MODELLING &amp; SOFTWARE, 47, 159, 455902900</th>\n",
       "      <td>12</td>\n",
       "    </tr>\n",
       "    <tr>\n",
       "      <th>Peckham, Scott D., 2013, A component-based approach to integrated modeling in the geosciences: The design of CSDMS, COMPUTERS &amp; GEOSCIENCES, 53, 3, 450501274</th>\n",
       "      <td>12</td>\n",
       "    </tr>\n",
       "    <tr>\n",
       "      <th>Arnold, JG, 1998, Large area hydrologic modeling and assessment - Part 1: Model development, JOURNAL OF THE AMERICAN WATER RESOURCES ASSOCIATION, 34, 73, 622773</th>\n",
       "      <td>12</td>\n",
       "    </tr>\n",
       "    <tr>\n",
       "      <th>Granell, Carlos, 2013, Enhancing integrated environmental modelling by designing resource-oriented interfaces, ENVIRONMENTAL MODELLING &amp; SOFTWARE, 39, 229, 442976569</th>\n",
       "      <td>11</td>\n",
       "    </tr>\n",
       "    <tr>\n",
       "      <th>Marcot, Bruce G., 2006, Characterizing species at risk I: Modeling rare species under the Northwest Forest Plan, ECOLOGY AND SOCIETY, 11, 73498617</th>\n",
       "      <td>10</td>\n",
       "    </tr>\n",
       "  </tbody>\n",
       "</table>\n",
       "</div>"
      ],
      "text/plain": [
       "                                                    Citations\n",
       "Publication                                                  \n",
       "Voinov, Alexey, 2016, Modelling with stakeholde...         26\n",
       "Laniak, Gerard F., 2013, Integrated environment...         20\n",
       "Jakeman, AJ, 2003, Integrated assessment and mo...         20\n",
       "Castronova, Anthony M., 2013, Simulating waters...         16\n",
       "Argent, RM, 2004, An overview of model integrat...         14\n",
       "Kelly (Letcher), Rebecca A., 2013, Selecting am...         12\n",
       "Peckham, Scott D., 2013, A component-based appr...         12\n",
       "Arnold, JG, 1998, Large area hydrologic modelin...         12\n",
       "Granell, Carlos, 2013, Enhancing integrated env...         11\n",
       "Marcot, Bruce G., 2006, Characterizing species ...         10"
      ]
     },
     "execution_count": 31,
     "metadata": {},
     "output_type": "execute_result"
    }
   ],
   "source": [
    "# Top 10 papers by citations\n",
    "wosis.analysis.pub_citations(topic_recs)[0:10]"
   ]
  },
  {
   "cell_type": "code",
   "execution_count": 32,
   "metadata": {},
   "outputs": [
    {
     "data": {
      "text/html": [
       "<div>\n",
       "<style scoped>\n",
       "    .dataframe tbody tr th:only-of-type {\n",
       "        vertical-align: middle;\n",
       "    }\n",
       "\n",
       "    .dataframe tbody tr th {\n",
       "        vertical-align: top;\n",
       "    }\n",
       "\n",
       "    .dataframe thead th {\n",
       "        text-align: right;\n",
       "    }\n",
       "</style>\n",
       "<table border=\"1\" class=\"dataframe\">\n",
       "  <thead>\n",
       "    <tr style=\"text-align: right;\">\n",
       "      <th></th>\n",
       "      <th>Citations</th>\n",
       "    </tr>\n",
       "    <tr>\n",
       "      <th>Publication</th>\n",
       "      <th></th>\n",
       "    </tr>\n",
       "  </thead>\n",
       "  <tbody>\n",
       "    <tr>\n",
       "      <th>Liu</th>\n",
       "      <td>41</td>\n",
       "    </tr>\n",
       "    <tr>\n",
       "      <th>Li</th>\n",
       "      <td>34</td>\n",
       "    </tr>\n",
       "    <tr>\n",
       "      <th>Zhang</th>\n",
       "      <td>33</td>\n",
       "    </tr>\n",
       "    <tr>\n",
       "      <th>Voinov</th>\n",
       "      <td>31</td>\n",
       "    </tr>\n",
       "    <tr>\n",
       "      <th>Wang</th>\n",
       "      <td>31</td>\n",
       "    </tr>\n",
       "    <tr>\n",
       "      <th>Chen</th>\n",
       "      <td>24</td>\n",
       "    </tr>\n",
       "    <tr>\n",
       "      <th>Wu</th>\n",
       "      <td>24</td>\n",
       "    </tr>\n",
       "    <tr>\n",
       "      <th>Arnold</th>\n",
       "      <td>23</td>\n",
       "    </tr>\n",
       "    <tr>\n",
       "      <th>Yang</th>\n",
       "      <td>21</td>\n",
       "    </tr>\n",
       "    <tr>\n",
       "      <th>Jakeman</th>\n",
       "      <td>21</td>\n",
       "    </tr>\n",
       "  </tbody>\n",
       "</table>\n",
       "</div>"
      ],
      "text/plain": [
       "             Citations\n",
       "Publication           \n",
       "Liu                 41\n",
       "Li                  34\n",
       "Zhang               33\n",
       "Voinov              31\n",
       "Wang                31\n",
       "Chen                24\n",
       "Wu                  24\n",
       "Arnold              23\n",
       "Yang                21\n",
       "Jakeman             21"
      ]
     },
     "execution_count": 32,
     "metadata": {},
     "output_type": "execute_result"
    }
   ],
   "source": [
    "# # Authors with most citations (careful interpreting this - author names are grouped by surname so it is misleading)\n",
    "wosis.analysis.author_citations(topic_recs)[0:10]"
   ]
  },
  {
   "cell_type": "markdown",
   "metadata": {},
   "source": [
    "Wosis can also help create links to the publications where possible"
   ]
  },
  {
   "cell_type": "code",
   "execution_count": 33,
   "metadata": {},
   "outputs": [
    {
     "data": {
      "text/html": [
       "<div>\n",
       "<style scoped>\n",
       "    .dataframe tbody tr th:only-of-type {\n",
       "        vertical-align: middle;\n",
       "    }\n",
       "\n",
       "    .dataframe tbody tr th {\n",
       "        vertical-align: top;\n",
       "    }\n",
       "\n",
       "    .dataframe thead th {\n",
       "        text-align: right;\n",
       "    }\n",
       "</style>\n",
       "<table border=\"1\" class=\"dataframe\">\n",
       "  <thead>\n",
       "    <tr style=\"text-align: right;\">\n",
       "      <th></th>\n",
       "      <th>AU</th>\n",
       "      <th>SO</th>\n",
       "      <th>title</th>\n",
       "      <th>year</th>\n",
       "      <th>DOI link</th>\n",
       "    </tr>\n",
       "  </thead>\n",
       "  <tbody>\n",
       "    <tr>\n",
       "      <th>0</th>\n",
       "      <td>Gustafson, David|Gutman, Alona|Leet, Whitney|D...</td>\n",
       "      <td>SUSTAINABILITY</td>\n",
       "      <td>Seven Food System Metrics of Sustainable Nutri...</td>\n",
       "      <td>2016</td>\n",
       "      <td>https://dx.doi.org/10.3390/su8030196</td>\n",
       "    </tr>\n",
       "    <tr>\n",
       "      <th>1</th>\n",
       "      <td>Cheng, Su-Ting|Wiley, Michael J.</td>\n",
       "      <td>ENVIRONMENTAL MODELLING &amp; SOFTWARE</td>\n",
       "      <td>A Reduced Parameter Stream Temperature Model (...</td>\n",
       "      <td>2016</td>\n",
       "      <td>https://dx.doi.org/10.1016/j.envsoft.2016.04.015</td>\n",
       "    </tr>\n",
       "    <tr>\n",
       "      <th>2</th>\n",
       "      <td>Sheykhi, Vahideh|Moore, Farid|Kavousi-Fard, Ab...</td>\n",
       "      <td>INTERNATIONAL JOURNAL OF RIVER BASIN MANAGEMENT</td>\n",
       "      <td>Integrated modelling with environmental parame...</td>\n",
       "      <td>2017</td>\n",
       "      <td>https://dx.doi.org/10.1080/15715124.2017.1300158</td>\n",
       "    </tr>\n",
       "    <tr>\n",
       "      <th>3</th>\n",
       "      <td>Hilty, Lorenz M.|Aebischer, Bernard|Rizzoli, A...</td>\n",
       "      <td>ENVIRONMENTAL MODELLING &amp; SOFTWARE</td>\n",
       "      <td>Modeling and evaluating the sustainability of ...</td>\n",
       "      <td>2014</td>\n",
       "      <td>https://dx.doi.org/10.1016/j.envsoft.2014.04.001</td>\n",
       "    </tr>\n",
       "    <tr>\n",
       "      <th>4</th>\n",
       "      <td>Xu, Jianhua|Chen, Yaning|Bai, Ling|Xu, Yiwen</td>\n",
       "      <td>HYDROLOGY AND EARTH SYSTEM SCIENCES</td>\n",
       "      <td>A hybrid model to simulate the annual runoff o...</td>\n",
       "      <td>2016</td>\n",
       "      <td>https://dx.doi.org/10.5194/hess-20-1447-2016</td>\n",
       "    </tr>\n",
       "    <tr>\n",
       "      <th>5</th>\n",
       "      <td>Arbault, Damien|Riviere, Mylene|Rugani, Benede...</td>\n",
       "      <td>SCIENCE OF THE TOTAL ENVIRONMENT</td>\n",
       "      <td>Integrated earth system dynamic modeling for l...</td>\n",
       "      <td>2014</td>\n",
       "      <td>https://dx.doi.org/10.1016/j.scitotenv.2013.10...</td>\n",
       "    </tr>\n",
       "    <tr>\n",
       "      <th>6</th>\n",
       "      <td>Lechner, Alex M.|McIntyre, Neil|Witt, Katherin...</td>\n",
       "      <td>ENVIRONMENTAL MODELLING &amp; SOFTWARE</td>\n",
       "      <td>Challenges of integrated modelling in mining r...</td>\n",
       "      <td>2017</td>\n",
       "      <td>https://dx.doi.org/10.1016/j.envsoft.2017.03.020</td>\n",
       "    </tr>\n",
       "    <tr>\n",
       "      <th>7</th>\n",
       "      <td>Will, Robert|Smith, Valerie|Lee, Don|Senel, Ozgur</td>\n",
       "      <td>INTERNATIONAL JOURNAL OF GREENHOUSE GAS CONTROL</td>\n",
       "      <td>Data integration, reservoir response, and appl...</td>\n",
       "      <td>2016</td>\n",
       "      <td>https://dx.doi.org/10.1016/j.ijggc.2015.12.020</td>\n",
       "    </tr>\n",
       "    <tr>\n",
       "      <th>8</th>\n",
       "      <td>Yi, Shuping|Ma, Haiyi|Zheng, Chunmiao|Ren, Guo...</td>\n",
       "      <td>ENVIRONMENTAL EARTH SCIENCES</td>\n",
       "      <td>A field-scale long-term study on radionuclide ...</td>\n",
       "      <td>2014</td>\n",
       "      <td>https://dx.doi.org/10.1007/s12665-014-3343-1</td>\n",
       "    </tr>\n",
       "    <tr>\n",
       "      <th>9</th>\n",
       "      <td>Xiao, Fei|Wong, Man Sing|Lee, Kwon Ho|Campbell...</td>\n",
       "      <td>COMPUTERS &amp; GEOSCIENCES</td>\n",
       "      <td>Retrieval of dust storm aerosols using an inte...</td>\n",
       "      <td>2015</td>\n",
       "      <td>https://dx.doi.org/10.1016/j.cageo.2015.02.016</td>\n",
       "    </tr>\n",
       "  </tbody>\n",
       "</table>\n",
       "</div>"
      ],
      "text/plain": [
       "                                                  AU  \\\n",
       "0  Gustafson, David|Gutman, Alona|Leet, Whitney|D...   \n",
       "1                   Cheng, Su-Ting|Wiley, Michael J.   \n",
       "2  Sheykhi, Vahideh|Moore, Farid|Kavousi-Fard, Ab...   \n",
       "3  Hilty, Lorenz M.|Aebischer, Bernard|Rizzoli, A...   \n",
       "4       Xu, Jianhua|Chen, Yaning|Bai, Ling|Xu, Yiwen   \n",
       "5  Arbault, Damien|Riviere, Mylene|Rugani, Benede...   \n",
       "6  Lechner, Alex M.|McIntyre, Neil|Witt, Katherin...   \n",
       "7  Will, Robert|Smith, Valerie|Lee, Don|Senel, Ozgur   \n",
       "8  Yi, Shuping|Ma, Haiyi|Zheng, Chunmiao|Ren, Guo...   \n",
       "9  Xiao, Fei|Wong, Man Sing|Lee, Kwon Ho|Campbell...   \n",
       "\n",
       "                                                SO  \\\n",
       "0                                   SUSTAINABILITY   \n",
       "1               ENVIRONMENTAL MODELLING & SOFTWARE   \n",
       "2  INTERNATIONAL JOURNAL OF RIVER BASIN MANAGEMENT   \n",
       "3               ENVIRONMENTAL MODELLING & SOFTWARE   \n",
       "4              HYDROLOGY AND EARTH SYSTEM SCIENCES   \n",
       "5                 SCIENCE OF THE TOTAL ENVIRONMENT   \n",
       "6               ENVIRONMENTAL MODELLING & SOFTWARE   \n",
       "7  INTERNATIONAL JOURNAL OF GREENHOUSE GAS CONTROL   \n",
       "8                     ENVIRONMENTAL EARTH SCIENCES   \n",
       "9                          COMPUTERS & GEOSCIENCES   \n",
       "\n",
       "                                               title  year  \\\n",
       "0  Seven Food System Metrics of Sustainable Nutri...  2016   \n",
       "1  A Reduced Parameter Stream Temperature Model (...  2016   \n",
       "2  Integrated modelling with environmental parame...  2017   \n",
       "3  Modeling and evaluating the sustainability of ...  2014   \n",
       "4  A hybrid model to simulate the annual runoff o...  2016   \n",
       "5  Integrated earth system dynamic modeling for l...  2014   \n",
       "6  Challenges of integrated modelling in mining r...  2017   \n",
       "7  Data integration, reservoir response, and appl...  2016   \n",
       "8  A field-scale long-term study on radionuclide ...  2014   \n",
       "9  Retrieval of dust storm aerosols using an inte...  2015   \n",
       "\n",
       "                                            DOI link  \n",
       "0               https://dx.doi.org/10.3390/su8030196  \n",
       "1   https://dx.doi.org/10.1016/j.envsoft.2016.04.015  \n",
       "2   https://dx.doi.org/10.1080/15715124.2017.1300158  \n",
       "3   https://dx.doi.org/10.1016/j.envsoft.2014.04.001  \n",
       "4       https://dx.doi.org/10.5194/hess-20-1447-2016  \n",
       "5  https://dx.doi.org/10.1016/j.scitotenv.2013.10...  \n",
       "6   https://dx.doi.org/10.1016/j.envsoft.2017.03.020  \n",
       "7     https://dx.doi.org/10.1016/j.ijggc.2015.12.020  \n",
       "8       https://dx.doi.org/10.1007/s12665-014-3343-1  \n",
       "9     https://dx.doi.org/10.1016/j.cageo.2015.02.016  "
      ]
     },
     "execution_count": 33,
     "metadata": {},
     "output_type": "execute_result"
    }
   ],
   "source": [
    "topic_df = wosis.link_to_pub(topic_recs)  # Creates a new column called 'DOI link'\n",
    "topic_df.loc[:, ~topic_df.columns.isin(hide_columns)].head(10)"
   ]
  },
  {
   "cell_type": "markdown",
   "metadata": {},
   "source": [
    "Other analysis can easily be accomplished with Pandas"
   ]
  }
 ],
 "metadata": {
  "kernelspec": {
   "display_name": "Python (Biblio)",
   "language": "python",
   "name": "myenv"
  },
  "language_info": {
   "codemirror_mode": {
    "name": "ipython",
    "version": 3
   },
   "file_extension": ".py",
   "mimetype": "text/x-python",
   "name": "python",
   "nbconvert_exporter": "python",
   "pygments_lexer": "ipython3",
   "version": "3.5.6"
  }
 },
 "nbformat": 4,
 "nbformat_minor": 2
}
