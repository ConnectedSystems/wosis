{
 "cells": [
  {
   "cell_type": "markdown",
   "metadata": {},
   "source": [
    "# A quick tutorial on using Wosis"
   ]
  },
  {
   "cell_type": "markdown",
   "metadata": {},
   "source": [
    "Before we start, some known issues:\n",
    "\n",
    "* Methods - especially plotting - switch from relying on Pandas DataFrames to Metaknowledge Collections.\n",
    "This is because some things are easier to accomplish with one or the other. In the future, I hope to consolidate these to use just one, not a mishmash of both. \n",
    "\n",
    "* Some documentation is currently missing\n",
    "\n",
    "Suggestions on how to improve usability is appreciated, and can be made by [submitting an issue](https://github.com/ConnectedSystems/wosis/issues) with a 'usability' tag."
   ]
  },
  {
   "cell_type": "markdown",
   "metadata": {},
   "source": [
    "The cell below shows the Python version in use for this guide. Versions equal to and above should be fine."
   ]
  },
  {
   "cell_type": "code",
   "execution_count": 1,
   "metadata": {},
   "outputs": [
    {
     "name": "stdout",
     "output_type": "stream",
     "text": [
      "sys.version_info(major=3, minor=6, micro=6, releaselevel='final', serial=0)\n"
     ]
    }
   ],
   "source": [
    "import sys\n",
    "print(sys.version_info)"
   ]
  },
  {
   "cell_type": "markdown",
   "metadata": {},
   "source": [
    "There are two options to install Wosis for development use:\n",
    "\n",
    "1) clone the project with `git` (the dollar sign represents the terminal prompt)\n",
    "\n",
    "```bash\n",
    "$ git clone https://github.com/ConnectedSystems/wosis.git\n",
    "$ cd wosis\n",
    "$ pip install git+https://github.com/ConnectedSystems/metaknowledge.git@add-collections\n",
    "$ pip install git+https://github.com/titipata/wos_parser.git@master\n",
    "$ pip install -e .\n",
    "```\n",
    "\n",
    "2) download, and extract, the project files from the [github repo](https://github.com/ConnectedSystems/wosis) (look for the green button on the right hand side)\n",
    "\n",
    "```bash\n",
    "$ pip install git+https://github.com/ConnectedSystems/metaknowledge.git@add-collections\n",
    "$ pip install git+https://github.com/titipata/wos_parser.git@master\n",
    "$ pip install -e .\n",
    "```\n",
    "\n",
    "Note the period (`.`) - yes it is important!\n",
    "\n",
    "The first two `pip install` commands downloads and installs specific package versions that are required by Wosis."
   ]
  },
  {
   "cell_type": "markdown",
   "metadata": {},
   "source": [
    "Wosis relies on NLTK for lemmatization and stemming.\n",
    "\n",
    "This requires the WordNet data to be downloaded and made available\n",
    "\n",
    "```python\n",
    "import nltk\n",
    "\n",
    "# Display list of locations NLTK searches for language data\n",
    "print(nltk.data.path)\n",
    "\n",
    "# Example only\n",
    "# ['C:\\\\nltk_data',\n",
    "#  'D:\\\\nltk_data',\n",
    "#  'E:\\\\nltk_data']\n",
    "\n",
    "# Select a desired location from the above and run the below\n",
    "# Here, I selected the second item in the list (Python is a zero-indexed language)\n",
    "download_location = nltk.data.path[1]\n",
    "nltk.download('wordnet', download_dir=download_location)\n",
    "```"
   ]
  },
  {
   "cell_type": "markdown",
   "metadata": {},
   "source": [
    "To start with, lets import the relevant packages"
   ]
  },
  {
   "cell_type": "code",
   "execution_count": 2,
   "metadata": {},
   "outputs": [],
   "source": [
    "import wosis\n",
    "import pandas as pd\n",
    "import metaknowledge as mk"
   ]
  },
  {
   "cell_type": "markdown",
   "metadata": {},
   "source": [
    "To access the Web of Science API, we need to load a configuration file that specifies your user details.\n",
    "\n",
    "Remember not to share your account details with anyone, or store it in a publicly accessible repository of any sort."
   ]
  },
  {
   "cell_type": "markdown",
   "metadata": {},
   "source": [
    "The `config.yml` file should hold your Web of Science username and password, like so:\n",
    "\n",
    "```yaml\n",
    "wos:\n",
    "  user: username\n",
    "  password: password\n",
    "```\n",
    "\n",
    "Here we assume the `config.yml` file is in the same directory as the notebook"
   ]
  },
  {
   "cell_type": "code",
   "execution_count": 3,
   "metadata": {
    "collapsed": true
   },
   "outputs": [],
   "source": [
    "wos_config = wosis.load_config(\"config.yml\")"
   ]
  },
  {
   "cell_type": "markdown",
   "metadata": {},
   "source": [
    "Create a dictionary of search terms."
   ]
  },
  {
   "cell_type": "code",
   "execution_count": 4,
   "metadata": {
    "collapsed": true
   },
   "outputs": [],
   "source": [
    "# dollar sign ($) is a wildcard used to match British and American spellings\n",
    "# e.g. flavo$r matches both flavour and flavor\n",
    "# see https://images.webofknowledge.com/images/help/WOS/hs_wildcards.html\n",
    "search_terms = {\n",
    "    \"inclusive_kw\": (\"Integrated Model$ing\", ),  # Keywords to include (NOTE THE TRAILING COMMA FOR SINGLE ENTRIES)\n",
    "    \"exclusive_kw\": (\"chemical\", \"industry\", \"cancer\", \"gene\"), # Keywords to exclude\n",
    "    \"exclusive_jo\": ('PSYCHOL*', ),  # Journals to exclude (the * tries to match anything after 'PSYCHOL')\n",
    "    \"subject_area\": (\"ENVIRONMENTAL SCIENCES\", \"WATER RESOURCES\", \"ENGINEERING ENVIRONMENTAL\", \"INTERDISCIPLINARY APPLICATIONS\"),\n",
    "}"
   ]
  },
  {
   "cell_type": "markdown",
   "metadata": {},
   "source": [
    "Then build a list of queries.\n",
    "\n",
    "The below generates a query string that we will send to Web of Science. Look at the guide here for an explanation:\n",
    "\n",
    "http://ipscience-help.thomsonreuters.com/wosWebServicesLite/WebServiceOperationsGroup/WebServiceOperations/g2/user_query.html"
   ]
  },
  {
   "cell_type": "code",
   "execution_count": 5,
   "metadata": {},
   "outputs": [
    {
     "data": {
      "text/plain": [
       "['TS=((\"Integrated Model$ing\") NOT (\"chemical\" OR \"industry\" OR \"cancer\" OR \"gene\")) NOT SO=(\"PSYCHOL*\") AND WC=(\"ENVIRONMENTAL SCIENCES\" OR \"WATER RESOURCES\" OR \"ENGINEERING ENVIRONMENTAL\" OR \"INTERDISCIPLINARY APPLICATIONS\")']"
      ]
     },
     "execution_count": 5,
     "metadata": {},
     "output_type": "execute_result"
    }
   ],
   "source": [
    "topics = [wosis.build_query(search_terms), ]\n",
    "topics"
   ]
  },
  {
   "cell_type": "markdown",
   "metadata": {},
   "source": [
    "Now we send off the query.\n",
    "\n",
    "Strangely, the time span of interest is not accepted as part of the WoS query, but we can specify this separately.\n",
    "\n",
    "The `%%time` Jupyter magic command is there so we know how long this process took.\n",
    "\n",
    "For very large amounts of records, getting the data can take a long time.\n",
    "\n",
    "Sometimes the retrieval process fails - this could be due to high amounts of traffic to the WoS servers. Most times there's no other option other than to try again."
   ]
  },
  {
   "cell_type": "code",
   "execution_count": 6,
   "metadata": {},
   "outputs": [
    {
     "name": "stdout",
     "output_type": "stream",
     "text": [
      "Authenticated (SID: 5Al8sllIdlpwBgE3IFR)\n"
     ]
    },
    {
     "name": "stderr",
     "output_type": "stream",
     "text": [
      "D:\\windows_utils\\ownCloud\\projects\\wosis\\wosis\\query.py:293: UserWarning: Using cached results...\n",
      "  warnings.warn(\"Using cached results...\")\n"
     ]
    },
    {
     "name": "stdout",
     "output_type": "stream",
     "text": [
      "Got 273 records\n",
      "Wall time: 2.37 s\n"
     ]
    }
   ],
   "source": [
    "%%time\n",
    "overwrite = False  # Do not overwrite previous identical search if it exists\n",
    "id_to_query, query_recs = wosis.query(topics, overwrite, wos_config, time_span={'begin': '2014-01-01', 'end': '2017-12-31'})"
   ]
  },
  {
   "cell_type": "markdown",
   "metadata": {},
   "source": [
    "We can get the publication records from the query result set directly. Remember, we only sent one query so it will be the first item in the dictionary"
   ]
  },
  {
   "cell_type": "code",
   "execution_count": 7,
   "metadata": {},
   "outputs": [
    {
     "name": "stdout",
     "output_type": "stream",
     "text": [
      "Corpora consists of 273 Publications\n"
     ]
    }
   ],
   "source": [
    "RC = list(query_recs.values())[0]\n",
    "\n",
    "print(\"Corpora consists of\", len(RC), \"Publications\")"
   ]
  },
  {
   "cell_type": "markdown",
   "metadata": {},
   "source": [
    "`id_to_query` is a dictionary that maps a result ID to the query that was sent."
   ]
  },
  {
   "cell_type": "code",
   "execution_count": 8,
   "metadata": {},
   "outputs": [
    {
     "data": {
      "text/plain": [
       "{'72e7af00b238db01d2b12d9a3c6a4fb6_2014-01-01-2017-12-31': 'TS=((\"Integrated Model$ing\") NOT (\"chemical\" OR \"industry\" OR \"cancer\" OR \"gene\")) NOT SO=(\"PSYCHOL*\") AND WC=(\"ENVIRONMENTAL SCIENCES\" OR \"WATER RESOURCES\" OR \"ENGINEERING ENVIRONMENTAL\" OR \"INTERDISCIPLINARY APPLICATIONS\")'}"
      ]
     },
     "execution_count": 8,
     "metadata": {},
     "output_type": "execute_result"
    }
   ],
   "source": [
    "id_to_query"
   ]
  },
  {
   "cell_type": "markdown",
   "metadata": {},
   "source": [
    "`query_recs` is a dictionary that maps a result ID to the matching publication set.\n",
    "\n",
    "The `wosis.query()` function will write out the query_id information in a text file so you know which dataset is associated with which query. The default location is a directory called `tmp`. Read the documentation for the `wosis.query()` function for more information.\n",
    "\n",
    "In this example, the unique ID for the query we just sent is `72e7af00b238db01d2b12d9a3c6a4fb6` (as you can see in the above cell).\n",
    "\n",
    "The resulting data is cached in RIS format.\n",
    "\n",
    "Wosis, through Metaknowledge, can read such RIS formatted data, for example exported from a reference manager such as EndNote, Mendeley, or Zotero (and others). \n",
    "\n",
    "In this example the dataset is cached in a `txt` file labelled with the `query_id`.\n",
    "\n",
    "The associated dataset can then be read back in like so:\n",
    "\n",
    "```python\n",
    "RC = wosis.load_query_results('72e7af00b238db01d2b12d9a3c6a4fb6', file_loc='tmp')\n",
    "```\n",
    "\n",
    "Otherwise, we can get the publication records from the query result set directly, as we did above\n",
    "\n",
    "```python\n",
    "\n",
    "# Get the ID of the query result set:\n",
    "query_id = list(id_to_query)[0]\n",
    "\n",
    "print(\"Query ID: \", query_id, \"\\nQuery String:\", id_to_query[query_id], \"\\n\")\n",
    "\n",
    "# Load it in as a metaknowledge collection\n",
    "RC = mk.RecordCollection(\"tmp/{}.txt\".format(query_id))\n",
    "\n",
    "# If we want to constrain the time frame later, this is how we do it\n",
    "# RC = RC.yearSplit(0, 2017)\n",
    "```"
   ]
  },
  {
   "cell_type": "markdown",
   "metadata": {},
   "source": [
    "Before we do any analysis, let's write out a representative dataset.\n",
    "\n",
    "To use it for publication (e.g. adding it to an appendix or making it available for transparency purposes) the dataset has to be stripped of the WoS generated keywords, abstract, and some other ancillary data as these are proprietary owned by Clarivate.\n",
    "\n",
    "At the time of writing, the usage agreement states that any dataset derived from Web of Science made publicly available has to specify that it came from Clarivate, and when the data was retrieved. This has to be included inside any file you share.\n",
    "\n",
    "Wosis can do this for you, as shown in the cell below.\n",
    "\n",
    "First create a `data` directory in the location indicated (`..` means \"the level above the current directory\" which should be where this notebook is)\n",
    "\n",
    "Don't forget to change the retrieval date!\n",
    "\n",
    "```python\n",
    "wosis.export_representative_file(RC, retrieval_date='1 December 2018', data_fn='../data/repset.csv')\n",
    "```"
   ]
  },
  {
   "cell_type": "markdown",
   "metadata": {},
   "source": [
    "In this tutorial, I will be hiding the columns specified below - these hold data which Clarivate Analytics prefers us not to share."
   ]
  },
  {
   "cell_type": "code",
   "execution_count": 9,
   "metadata": {
    "collapsed": true
   },
   "outputs": [],
   "source": [
    "# Hiding keywords and abstract for tutorial (WoS-owned IP)\n",
    "hide_columns = ['DE', 'abstract', 'keywords', 'DOI', 'id', 'kws']"
   ]
  },
  {
   "cell_type": "markdown",
   "metadata": {},
   "source": [
    "Now the fun begins.\n",
    "\n",
    "Analysis setup:"
   ]
  },
  {
   "cell_type": "code",
   "execution_count": 10,
   "metadata": {
    "collapsed": true
   },
   "outputs": [],
   "source": [
    "# Helper functions for plotting\n",
    "import wosis.analysis.plotting as wos_plot\n",
    "\n",
    "# Analysis and search functions\n",
    "from wosis.analysis import (preview_matches, search_records, keyword_matches, \n",
    "                            find_pubs_by_authors, preview_matches_by_keyword, get_unique_kw_titles,\n",
    "                            remove_by_journals, remove_by_title)\n",
    "\n",
    "# Plotting libraries\n",
    "import matplotlib.pyplot as plt\n",
    "import seaborn as sns\n",
    "\n",
    "# This just helps make the plots look nicer\n",
    "sns.set_style('darkgrid')\n",
    "sns.set_context('paper', font_scale=2.0)"
   ]
  },
  {
   "cell_type": "markdown",
   "metadata": {},
   "source": [
    "Basic analysis can be done with Pandas, but more complicated stuff is made simple with the included Wosis helper functions"
   ]
  },
  {
   "cell_type": "markdown",
   "metadata": {},
   "source": [
    "For the purposes of this tutorial, lets assume that publications without DOIs are unusable for our analysis.\n",
    "\n",
    "The cell below will convert the records to a Pandas DataFrame, and then remove rows with blank DOIs."
   ]
  },
  {
   "cell_type": "code",
   "execution_count": 11,
   "metadata": {},
   "outputs": [
    {
     "name": "stdout",
     "output_type": "stream",
     "text": [
      "Removing 17 records with no DOIs\n"
     ]
    }
   ],
   "source": [
    "corpora_df = wosis.rec_to_df(RC)\n",
    "corpora_df, removed_pubs = wosis.remove_empty_DOIs(corpora_df)"
   ]
  },
  {
   "cell_type": "markdown",
   "metadata": {},
   "source": [
    "We can also filter by partial match on Journal name and titles.\n",
    "\n",
    "These methods will print out the number of articles removed for each search string.\n",
    "\n",
    "*WARNING:* This example uses Pandas DataFrames. Future versions of Wosis will apply the changes to a Metaknowledge collection instead"
   ]
  },
  {
   "cell_type": "code",
   "execution_count": 12,
   "metadata": {},
   "outputs": [
    {
     "name": "stdout",
     "output_type": "stream",
     "text": [
      "PSYCHOL: 0\n",
      "BIOINFO: 0\n"
     ]
    }
   ],
   "source": [
    "from wosis.analysis import remove_by_journals, remove_by_title\n",
    "\n",
    "# List of unrelated Journals - will be matched by partial string\n",
    "unrelated_jo = ['PSYCHOL', 'BIOINFO']\n",
    "\n",
    "# Think of the parameter order like \"with this dataset, remove these unrelated journals\"\n",
    "corpora_df = remove_by_journals(corpora_df, unrelated_jo)"
   ]
  },
  {
   "cell_type": "code",
   "execution_count": 13,
   "metadata": {},
   "outputs": [
    {
     "name": "stdout",
     "output_type": "stream",
     "text": [
      "transportation networks: 0\n",
      "Travel Destination: 0\n",
      "portfolio optimization: 0\n"
     ]
    }
   ],
   "source": [
    "unrelated_TI = ['transportation networks', 'Travel Destination', 'portfolio optimization']\n",
    "\n",
    "# Again, with this dataset remove these titles\n",
    "corpora_df = remove_by_title(corpora_df, unrelated_TI)"
   ]
  },
  {
   "cell_type": "markdown",
   "metadata": {},
   "source": [
    "We can then create a new Metaknowledge collection using the WOS ID"
   ]
  },
  {
   "cell_type": "code",
   "execution_count": 14,
   "metadata": {
    "collapsed": true
   },
   "outputs": [],
   "source": [
    "filtered_corpora = wosis.extract_recs(corpora_df.loc[:, 'id'], RC, name='Filtered Corpora')"
   ]
  },
  {
   "cell_type": "markdown",
   "metadata": {},
   "source": [
    "Wosis has a number of convenient plotting functions. \n",
    "\n",
    "All of plotting functions \n",
    "* can save the resulting figure to a file by giving a file location to the `save_plot_fn` parameter.\n",
    "  The figure will be saved in PNG format at 300dpi.\n",
    "* returns a matplotlib figure object so you can make further adjustments if desired\n",
    "\n",
    "For example:\n",
    "\n",
    "```python\n",
    "wos_plot.plot_pub_trend(filtered_corpora, title='Publication Trend', save_plot_fn=r'C:\\temp\\my_figure.png')\n",
    "```"
   ]
  },
  {
   "cell_type": "code",
   "execution_count": 15,
   "metadata": {},
   "outputs": [
    {
     "data": {
      "image/png": "[encoded data removed]",
      "text/plain": [
       "<Figure size 648x432 with 1 Axes>"
      ]
     },
     "metadata": {
      "needs_background": "light"
     },
     "output_type": "display_data"
    }
   ],
   "source": [
    "# Plotting out the publication trend. \n",
    "wos_plot.plot_pub_trend(filtered_corpora, title='Publication Trend', save_plot_fn=False)"
   ]
  },
  {
   "cell_type": "code",
   "execution_count": 16,
   "metadata": {},
   "outputs": [
    {
     "data": {
      "image/png": "[encoded data removed]",
      "text/plain": [
       "<Figure size 1296x432 with 2 Axes>"
      ]
     },
     "metadata": {
      "needs_background": "light"
     },
     "output_type": "display_data"
    }
   ],
   "source": [
    "# Plot out the keyword trend\n",
    "wos_plot.plot_kw_trend(filtered_corpora, title='Keyword Trend', save_plot_fn=False)"
   ]
  },
  {
   "cell_type": "markdown",
   "metadata": {},
   "source": [
    "You can also sort the publications into specific criterias.\n",
    "\n",
    "This matches similar words as found in the title, abstract, and keyword sections."
   ]
  },
  {
   "cell_type": "code",
   "execution_count": 17,
   "metadata": {
    "collapsed": true
   },
   "outputs": [],
   "source": [
    "# Keyword types adapted from Zare et al. (2017)\n",
    "# http://dx.doi.org/10.1016/j.jhydrol.2017.07.031\n",
    "\n",
    "criteria = {\n",
    "    'overarching': set(['uncertainty', 'adapt', 'decision support', 'management', 'gis']),\n",
    "    'agri': set(['agricultur', 'farm']),\n",
    "    'water': set(['hydrology', 'water', 'stream', 'aquifer']),\n",
    "    'enviro': set(['environment', 'climate', 'ecology', 'ecosystem', 'biodivers']),\n",
    "    'socio_economic': set(['ecosystem service', 'social', 'conflict', 'particip', 'law', 'stakehold', 'policy', 'economic'])\n",
    "}\n",
    "\n",
    "crit_matches, crit_summary = wosis.keyword_matches_by_criteria(filtered_corpora, criteria, threshold=95.0)"
   ]
  },
  {
   "cell_type": "code",
   "execution_count": 18,
   "metadata": {},
   "outputs": [
    {
     "data": {
      "image/png": "[encoded data removed]",
      "text/plain": [
       "<Figure size 432x288 with 1 Axes>"
      ]
     },
     "metadata": {
      "needs_background": "light"
     },
     "output_type": "display_data"
    }
   ],
   "source": [
    "criteria_df = wosis.collate_keyword_criteria_matches(filtered_corpora, crit_matches)\n",
    "wos_plot.plot_criteria_trend(criteria_df, threshold=3)"
   ]
  },
  {
   "cell_type": "markdown",
   "metadata": {},
   "source": [
    "Remember, you can look at the documentation for anything with the question mark magic command"
   ]
  },
  {
   "cell_type": "code",
   "execution_count": 19,
   "metadata": {
    "collapsed": true
   },
   "outputs": [],
   "source": [
    "?wos_plot.plot_criteria_trend"
   ]
  },
  {
   "cell_type": "markdown",
   "metadata": {},
   "source": [
    "If desired, you can search the publications for a specific keyword (or list of keywords).\n",
    "\n",
    "Here, we look for some keywords related to the field costs - anything that is 95% similar to the given keywords is acceptable."
   ]
  },
  {
   "cell_type": "code",
   "execution_count": 20,
   "metadata": {
    "collapsed": true
   },
   "outputs": [],
   "source": [
    "matching_records, summary = keyword_matches(filtered_corpora, ['finance', 'costs', 'capita', 'monetary'], threshold=95.0)"
   ]
  },
  {
   "cell_type": "code",
   "execution_count": 21,
   "metadata": {},
   "outputs": [
    {
     "data": {
      "image/png": "[encoded data removed]",
      "text/plain": [
       "<Figure size 576x432 with 1 Axes>"
      ]
     },
     "metadata": {
      "needs_background": "light"
     },
     "output_type": "display_data"
    }
   ],
   "source": [
    "wos_plot.plot_pub_per_kw(matching_records, summary, filtered_corpora, kw_category='Finance')"
   ]
  },
  {
   "cell_type": "markdown",
   "metadata": {},
   "source": [
    "We can then attempt to find topics of interest"
   ]
  },
  {
   "cell_type": "code",
   "execution_count": 22,
   "metadata": {},
   "outputs": [
    {
     "name": "stdout",
     "output_type": "stream",
     "text": [
      "Topic 1: water river management supply basin resources use quality modeling demand\n",
      "Topic 2: model modelling models environmental modeling data management framework analysis processes\n",
      "Topic 3: urban modelling infrastructure water planning drainage systems stormwater tools new\n",
      "Topic 4: climate change future impacts scenarios changes vulnerability population agricultural hydrological\n",
      "Topic 5: flood flash rainfall hydrological catchment runoff floods occurrence river events\n",
      "Topic 6: air traffic pollution emissions emission quality pollutants dispersion stormwater modelling\n",
      "Topic 7: groundwater flow surface recharge model aquifer low storage large water\n",
      "Topic 8: energy transport carbon modeling electricity emissions generation nexus planning buildings\n",
      "Topic 9: land use change soil erosion farm aquatic sediment changes scenarios\n",
      "Topic 10: irrigation crop stochastic production agricultural demand yield million yields productivity\n"
     ]
    }
   ],
   "source": [
    "topic_results = wosis.find_topics(filtered_corpora, num_topics=10)"
   ]
  },
  {
   "cell_type": "markdown",
   "metadata": {},
   "source": [
    "If the identified topics are too vague or not of interest, try increasing the number of topics. Conversely, if they are too specific, try lowering the number of topics.\n",
    "\n",
    "Say we're interested in Topic 2. The cell below shows how to get the publications for this topic."
   ]
  },
  {
   "cell_type": "code",
   "execution_count": 23,
   "metadata": {},
   "outputs": [],
   "source": [
    "id_of_interesting_topic = 2\n",
    "topic_set = topic_results.get_topic_by_id(id_of_interesting_topic)"
   ]
  },
  {
   "cell_type": "code",
   "execution_count": 24,
   "metadata": {},
   "outputs": [
    {
     "name": "stdout",
     "output_type": "stream",
     "text": [
      "Number of publications in topic set: 111\n"
     ]
    }
   ],
   "source": [
    "print(\"Number of publications in topic set:\", len(topic_set))"
   ]
  },
  {
   "cell_type": "code",
   "execution_count": 25,
   "metadata": {},
   "outputs": [
    {
     "data": {
      "text/html": [
       "<div>\n",
       "<style scoped>\n",
       "    .dataframe tbody tr th:only-of-type {\n",
       "        vertical-align: middle;\n",
       "    }\n",
       "\n",
       "    .dataframe tbody tr th {\n",
       "        vertical-align: top;\n",
       "    }\n",
       "\n",
       "    .dataframe thead th {\n",
       "        text-align: right;\n",
       "    }\n",
       "</style>\n",
       "<table border=\"1\" class=\"dataframe\">\n",
       "  <thead>\n",
       "    <tr style=\"text-align: right;\">\n",
       "      <th></th>\n",
       "      <th>year</th>\n",
       "      <th>title</th>\n",
       "      <th>AU</th>\n",
       "      <th>SO</th>\n",
       "    </tr>\n",
       "  </thead>\n",
       "  <tbody>\n",
       "    <tr>\n",
       "      <th>1</th>\n",
       "      <td>2016</td>\n",
       "      <td>Processes and Modeling of Initial Soil and Lan...</td>\n",
       "      <td>Maurer, Thomas|Gerke, Horst H.</td>\n",
       "      <td>VADOSE ZONE JOURNAL</td>\n",
       "    </tr>\n",
       "    <tr>\n",
       "      <th>3</th>\n",
       "      <td>2017</td>\n",
       "      <td>Valuing investments in sustainable land manage...</td>\n",
       "      <td>Vogl, Adrian L.|Bryant, Benjamin P.|Hunink, Jo...</td>\n",
       "      <td>JOURNAL OF ENVIRONMENTAL MANAGEMENT</td>\n",
       "    </tr>\n",
       "    <tr>\n",
       "      <th>11</th>\n",
       "      <td>2017</td>\n",
       "      <td>Modeling land suitability for Coffea arabica L...</td>\n",
       "      <td>Estrada, Leonel Lara|Rasche, Livia|Schneider, ...</td>\n",
       "      <td>ENVIRONMENTAL MODELLING &amp; SOFTWARE</td>\n",
       "    </tr>\n",
       "    <tr>\n",
       "      <th>15</th>\n",
       "      <td>2015</td>\n",
       "      <td>Evaluating acceptability of groundwater protec...</td>\n",
       "      <td>Giordano, Raffaele|D'Agostino, Daniela|Apollon...</td>\n",
       "      <td>AGRICULTURAL WATER MANAGEMENT</td>\n",
       "    </tr>\n",
       "    <tr>\n",
       "      <th>17</th>\n",
       "      <td>2015</td>\n",
       "      <td>Grid-wide subdaily hydrologic alteration under...</td>\n",
       "      <td>Haas, J.|Olivares, M. A.|Palma-Behnke, R.</td>\n",
       "      <td>JOURNAL OF ENVIRONMENTAL MANAGEMENT</td>\n",
       "    </tr>\n",
       "    <tr>\n",
       "      <th>18</th>\n",
       "      <td>2014</td>\n",
       "      <td>Systematic assessment of the uncertainty in in...</td>\n",
       "      <td>Wu, Bin|Zheng, Yi|Tian, Yong|Wu, Xin|Yao, Ying...</td>\n",
       "      <td>WATER RESOURCES RESEARCH</td>\n",
       "    </tr>\n",
       "    <tr>\n",
       "      <th>19</th>\n",
       "      <td>2016</td>\n",
       "      <td>Non-hazardous pesticide concentrations in surf...</td>\n",
       "      <td>Bannwarth, M. A.|Grovermann, C.|Schreinemacher...</td>\n",
       "      <td>JOURNAL OF ENVIRONMENTAL MANAGEMENT</td>\n",
       "    </tr>\n",
       "    <tr>\n",
       "      <th>21</th>\n",
       "      <td>2017</td>\n",
       "      <td>Integrated modelling with environmental parame...</td>\n",
       "      <td>Sheykhi, Vahideh|Moore, Farid|Kavousi-Fard, Ab...</td>\n",
       "      <td>INTERNATIONAL JOURNAL OF RIVER BASIN MANAGEMENT</td>\n",
       "    </tr>\n",
       "    <tr>\n",
       "      <th>23</th>\n",
       "      <td>2014</td>\n",
       "      <td>Risk-Optimized Design of Production Systems by...</td>\n",
       "      <td>Luetjen, Michael|Alla, Abderrahim Ait</td>\n",
       "      <td>MATHEMATICAL PROBLEMS IN ENGINEERING</td>\n",
       "    </tr>\n",
       "    <tr>\n",
       "      <th>24</th>\n",
       "      <td>2017</td>\n",
       "      <td>Integrated Modeling of Survival Data from Mult...</td>\n",
       "      <td>Proctor, Abigael H.|King, Catherine K.|Holan, ...</td>\n",
       "      <td>ENVIRONMENTAL SCIENCE &amp; TECHNOLOGY</td>\n",
       "    </tr>\n",
       "  </tbody>\n",
       "</table>\n",
       "</div>"
      ],
      "text/plain": [
       "    year                                              title  \\\n",
       "1   2016  Processes and Modeling of Initial Soil and Lan...   \n",
       "3   2017  Valuing investments in sustainable land manage...   \n",
       "11  2017  Modeling land suitability for Coffea arabica L...   \n",
       "15  2015  Evaluating acceptability of groundwater protec...   \n",
       "17  2015  Grid-wide subdaily hydrologic alteration under...   \n",
       "18  2014  Systematic assessment of the uncertainty in in...   \n",
       "19  2016  Non-hazardous pesticide concentrations in surf...   \n",
       "21  2017  Integrated modelling with environmental parame...   \n",
       "23  2014  Risk-Optimized Design of Production Systems by...   \n",
       "24  2017  Integrated Modeling of Survival Data from Mult...   \n",
       "\n",
       "                                                   AU  \\\n",
       "1                      Maurer, Thomas|Gerke, Horst H.   \n",
       "3   Vogl, Adrian L.|Bryant, Benjamin P.|Hunink, Jo...   \n",
       "11  Estrada, Leonel Lara|Rasche, Livia|Schneider, ...   \n",
       "15  Giordano, Raffaele|D'Agostino, Daniela|Apollon...   \n",
       "17          Haas, J.|Olivares, M. A.|Palma-Behnke, R.   \n",
       "18  Wu, Bin|Zheng, Yi|Tian, Yong|Wu, Xin|Yao, Ying...   \n",
       "19  Bannwarth, M. A.|Grovermann, C.|Schreinemacher...   \n",
       "21  Sheykhi, Vahideh|Moore, Farid|Kavousi-Fard, Ab...   \n",
       "23              Luetjen, Michael|Alla, Abderrahim Ait   \n",
       "24  Proctor, Abigael H.|King, Catherine K.|Holan, ...   \n",
       "\n",
       "                                                 SO  \n",
       "1                               VADOSE ZONE JOURNAL  \n",
       "3               JOURNAL OF ENVIRONMENTAL MANAGEMENT  \n",
       "11               ENVIRONMENTAL MODELLING & SOFTWARE  \n",
       "15                    AGRICULTURAL WATER MANAGEMENT  \n",
       "17              JOURNAL OF ENVIRONMENTAL MANAGEMENT  \n",
       "18                         WATER RESOURCES RESEARCH  \n",
       "19              JOURNAL OF ENVIRONMENTAL MANAGEMENT  \n",
       "21  INTERNATIONAL JOURNAL OF RIVER BASIN MANAGEMENT  \n",
       "23             MATHEMATICAL PROBLEMS IN ENGINEERING  \n",
       "24               ENVIRONMENTAL SCIENCE & TECHNOLOGY  "
      ]
     },
     "execution_count": 25,
     "metadata": {},
     "output_type": "execute_result"
    }
   ],
   "source": [
    "# The publication set of interest!\n",
    "# Hiding keywords and abstract for tutorial (WoS-owned IP)\n",
    "topic_set.loc[:, ~topic_set.columns.isin(hide_columns)].head(10)  # show first 10"
   ]
  },
  {
   "cell_type": "markdown",
   "metadata": {},
   "source": [
    "Lets extract the records of interest from the original record collection and do some analysis"
   ]
  },
  {
   "cell_type": "code",
   "execution_count": 26,
   "metadata": {
    "collapsed": true
   },
   "outputs": [],
   "source": [
    "topic_recs = wosis.extract_recs(topic_set.loc[:, 'id'], RC, 'Topic of Interest')"
   ]
  },
  {
   "cell_type": "code",
   "execution_count": 27,
   "metadata": {},
   "outputs": [
    {
     "data": {
      "image/png": "[encoded data removed]",
      "text/plain": [
       "<Figure size 720x576 with 10 Axes>"
      ]
     },
     "metadata": {
      "needs_background": "light"
     },
     "output_type": "display_data"
    }
   ],
   "source": [
    "# The publication trend per journal\n",
    "wos_plot.plot_journal_pub_trend(topic_recs)"
   ]
  },
  {
   "cell_type": "code",
   "execution_count": 28,
   "metadata": {},
   "outputs": [
    {
     "data": {
      "image/png": "[encoded data removed]",
      "text/plain": [
       "<Figure size 720x432 with 1 Axes>"
      ]
     },
     "metadata": {
      "needs_background": "light"
     },
     "output_type": "display_data"
    }
   ],
   "source": [
    "# The overall number of publications for each journal\n",
    "wos_plot.plot_pubs_per_journal(topic_recs, top_n=10, annotate=True, show_stats=True)"
   ]
  },
  {
   "cell_type": "code",
   "execution_count": 29,
   "metadata": {},
   "outputs": [
    {
     "data": {
      "text/html": [
       "<div>\n",
       "<style scoped>\n",
       "    .dataframe tbody tr th:only-of-type {\n",
       "        vertical-align: middle;\n",
       "    }\n",
       "\n",
       "    .dataframe tbody tr th {\n",
       "        vertical-align: top;\n",
       "    }\n",
       "\n",
       "    .dataframe thead th {\n",
       "        text-align: right;\n",
       "    }\n",
       "</style>\n",
       "<table border=\"1\" class=\"dataframe\">\n",
       "  <thead>\n",
       "    <tr style=\"text-align: right;\">\n",
       "      <th></th>\n",
       "      <th>Citations</th>\n",
       "    </tr>\n",
       "    <tr>\n",
       "      <th>Publication</th>\n",
       "      <th></th>\n",
       "    </tr>\n",
       "  </thead>\n",
       "  <tbody>\n",
       "    <tr>\n",
       "      <th>Voinov, Alexey, 2008, Lessons for successful participatory watershed modeling: A perspective from modeling practitioners, ECOLOGICAL MODELLING, 216, 197, 91230070</th>\n",
       "      <td>26</td>\n",
       "    </tr>\n",
       "    <tr>\n",
       "      <th>Jakeman, AJ, 2006, Ten iterative steps in development and evaluation of environmental models, ENVIRONMENTAL MODELLING &amp; SOFTWARE, 21, 602, 66585814</th>\n",
       "      <td>20</td>\n",
       "    </tr>\n",
       "    <tr>\n",
       "      <th>Laniak, Gerard F., 2013, Integrated environmental modeling: A vision and roadmap for the future, ENVIRONMENTAL MODELLING &amp; SOFTWARE, 39, 3, 442976548</th>\n",
       "      <td>20</td>\n",
       "    </tr>\n",
       "    <tr>\n",
       "      <th>Castronova, Anthony M., 2013, Integrated modeling within a Hydrologic Information System: An OpenMI based approach, ENVIRONMENTAL MODELLING &amp; SOFTWARE, 39, 263, 434864554</th>\n",
       "      <td>16</td>\n",
       "    </tr>\n",
       "    <tr>\n",
       "      <th>Argent, RM, 2004, An overview of model integration for environmental application - components, frameworks and semantics, ENVIRONMENTAL MODELLING &amp; SOFTWARE, 19, 219, 495524493</th>\n",
       "      <td>14</td>\n",
       "    </tr>\n",
       "  </tbody>\n",
       "</table>\n",
       "</div>"
      ],
      "text/plain": [
       "                                                    Citations\n",
       "Publication                                                  \n",
       "Voinov, Alexey, 2008, Lessons for successful pa...         26\n",
       "Jakeman, AJ, 2006, Ten iterative steps in devel...         20\n",
       "Laniak, Gerard F., 2013, Integrated environment...         20\n",
       "Castronova, Anthony M., 2013, Integrated modeli...         16\n",
       "Argent, RM, 2004, An overview of model integrat...         14"
      ]
     },
     "execution_count": 29,
     "metadata": {},
     "output_type": "execute_result"
    }
   ],
   "source": [
    "# Papers cited by the corpora \n",
    "# NOTE: This does NOT identify which the paper in the collection with the most citations\n",
    "# It identifies the papers that the corpora cites the most.\n",
    "wosis.analysis.pub_citations(topic_recs)[0:5]"
   ]
  },
  {
   "cell_type": "code",
   "execution_count": 30,
   "metadata": {},
   "outputs": [
    {
     "name": "stdout",
     "output_type": "stream",
     "text": [
      "Authenticated (SID: 5Bs76IMDQesD4t8DLeU)\n"
     ]
    },
    {
     "name": "stderr",
     "output_type": "stream",
     "text": [
      "100%|████████████████████████████████████████████████████████████████████████████| 111/111 [01:34<00:00,  1.25it/s]\n"
     ]
    }
   ],
   "source": [
    "# To get the citations for each paper in the collection, we have send another request to WoS\n",
    "topic_cites = wosis.get_num_citations(topic_recs, wos_config)"
   ]
  },
  {
   "cell_type": "code",
   "execution_count": 31,
   "metadata": {},
   "outputs": [
    {
     "data": {
      "text/html": [
       "<div>\n",
       "<style scoped>\n",
       "    .dataframe tbody tr th:only-of-type {\n",
       "        vertical-align: middle;\n",
       "    }\n",
       "\n",
       "    .dataframe tbody tr th {\n",
       "        vertical-align: top;\n",
       "    }\n",
       "\n",
       "    .dataframe thead th {\n",
       "        text-align: right;\n",
       "    }\n",
       "</style>\n",
       "<table border=\"1\" class=\"dataframe\">\n",
       "  <thead>\n",
       "    <tr style=\"text-align: right;\">\n",
       "      <th></th>\n",
       "      <th>AU</th>\n",
       "      <th>title</th>\n",
       "      <th>citations</th>\n",
       "    </tr>\n",
       "  </thead>\n",
       "  <tbody>\n",
       "    <tr>\n",
       "      <th>25</th>\n",
       "      <td>Costanza, Robert|de Groot, Rudolf|Braat, Leon|...</td>\n",
       "      <td>Twenty years of ecosystem services: How far ha...</td>\n",
       "      <td>100</td>\n",
       "    </tr>\n",
       "    <tr>\n",
       "      <th>98</th>\n",
       "      <td>Hamilton, Serena H.|ElSawah, Sondoss|Guillaume...</td>\n",
       "      <td>Integrated assessment and modelling: Overview ...</td>\n",
       "      <td>73</td>\n",
       "    </tr>\n",
       "    <tr>\n",
       "      <th>108</th>\n",
       "      <td>Macmillan, Alexandra|Connor, Jennie|Witten, Ka...</td>\n",
       "      <td>The Societal Costs and Benefits of Commuter Bi...</td>\n",
       "      <td>58</td>\n",
       "    </tr>\n",
       "    <tr>\n",
       "      <th>5</th>\n",
       "      <td>Wu, Bin|Zheng, Yi|Tian, Yong|Wu, Xin|Yao, Ying...</td>\n",
       "      <td>Systematic assessment of the uncertainty in in...</td>\n",
       "      <td>37</td>\n",
       "    </tr>\n",
       "    <tr>\n",
       "      <th>80</th>\n",
       "      <td>Reis, Stefan|Seto, Edmund|Northcross, Amanda|Q...</td>\n",
       "      <td>Integrating modelling and smart sensors for en...</td>\n",
       "      <td>34</td>\n",
       "    </tr>\n",
       "  </tbody>\n",
       "</table>\n",
       "</div>"
      ],
      "text/plain": [
       "                                                    AU  \\\n",
       "25   Costanza, Robert|de Groot, Rudolf|Braat, Leon|...   \n",
       "98   Hamilton, Serena H.|ElSawah, Sondoss|Guillaume...   \n",
       "108  Macmillan, Alexandra|Connor, Jennie|Witten, Ka...   \n",
       "5    Wu, Bin|Zheng, Yi|Tian, Yong|Wu, Xin|Yao, Ying...   \n",
       "80   Reis, Stefan|Seto, Edmund|Northcross, Amanda|Q...   \n",
       "\n",
       "                                                 title  citations  \n",
       "25   Twenty years of ecosystem services: How far ha...        100  \n",
       "98   Integrated assessment and modelling: Overview ...         73  \n",
       "108  The Societal Costs and Benefits of Commuter Bi...         58  \n",
       "5    Systematic assessment of the uncertainty in in...         37  \n",
       "80   Integrating modelling and smart sensors for en...         34  "
      ]
     },
     "execution_count": 31,
     "metadata": {},
     "output_type": "execute_result"
    }
   ],
   "source": [
    "topic_cites[['AU', 'title', 'citations']].head()"
   ]
  },
  {
   "cell_type": "code",
   "execution_count": 32,
   "metadata": {},
   "outputs": [
    {
     "data": {
      "text/html": [
       "<div>\n",
       "<style scoped>\n",
       "    .dataframe tbody tr th:only-of-type {\n",
       "        vertical-align: middle;\n",
       "    }\n",
       "\n",
       "    .dataframe tbody tr th {\n",
       "        vertical-align: top;\n",
       "    }\n",
       "\n",
       "    .dataframe thead th {\n",
       "        text-align: right;\n",
       "    }\n",
       "</style>\n",
       "<table border=\"1\" class=\"dataframe\">\n",
       "  <thead>\n",
       "    <tr style=\"text-align: right;\">\n",
       "      <th></th>\n",
       "      <th>Citations</th>\n",
       "    </tr>\n",
       "    <tr>\n",
       "      <th>Publication</th>\n",
       "      <th></th>\n",
       "    </tr>\n",
       "  </thead>\n",
       "  <tbody>\n",
       "    <tr>\n",
       "      <th>Liu</th>\n",
       "      <td>36</td>\n",
       "    </tr>\n",
       "    <tr>\n",
       "      <th>Zhang</th>\n",
       "      <td>32</td>\n",
       "    </tr>\n",
       "    <tr>\n",
       "      <th>Voinov</th>\n",
       "      <td>31</td>\n",
       "    </tr>\n",
       "    <tr>\n",
       "      <th>Wang</th>\n",
       "      <td>31</td>\n",
       "    </tr>\n",
       "    <tr>\n",
       "      <th>Li</th>\n",
       "      <td>30</td>\n",
       "    </tr>\n",
       "    <tr>\n",
       "      <th>Arnold</th>\n",
       "      <td>22</td>\n",
       "    </tr>\n",
       "    <tr>\n",
       "      <th>Jakeman</th>\n",
       "      <td>21</td>\n",
       "    </tr>\n",
       "    <tr>\n",
       "      <th>Laniak</th>\n",
       "      <td>20</td>\n",
       "    </tr>\n",
       "    <tr>\n",
       "      <th>Wu</th>\n",
       "      <td>20</td>\n",
       "    </tr>\n",
       "    <tr>\n",
       "      <th>Chen</th>\n",
       "      <td>20</td>\n",
       "    </tr>\n",
       "  </tbody>\n",
       "</table>\n",
       "</div>"
      ],
      "text/plain": [
       "             Citations\n",
       "Publication           \n",
       "Liu                 36\n",
       "Zhang               32\n",
       "Voinov              31\n",
       "Wang                31\n",
       "Li                  30\n",
       "Arnold              22\n",
       "Jakeman             21\n",
       "Laniak              20\n",
       "Wu                  20\n",
       "Chen                20"
      ]
     },
     "execution_count": 32,
     "metadata": {},
     "output_type": "execute_result"
    }
   ],
   "source": [
    "# Authors in the corpora with the most citations (careful interpreting this - author names are grouped by surname so it is misleading)\n",
    "wosis.analysis.author_citations(topic_recs)[0:10]"
   ]
  },
  {
   "cell_type": "markdown",
   "metadata": {},
   "source": [
    "Wosis can also help create links to the publications where possible"
   ]
  },
  {
   "cell_type": "code",
   "execution_count": 33,
   "metadata": {},
   "outputs": [
    {
     "data": {
      "text/html": [
       "<div>\n",
       "<style scoped>\n",
       "    .dataframe tbody tr th:only-of-type {\n",
       "        vertical-align: middle;\n",
       "    }\n",
       "\n",
       "    .dataframe tbody tr th {\n",
       "        vertical-align: top;\n",
       "    }\n",
       "\n",
       "    .dataframe thead th {\n",
       "        text-align: right;\n",
       "    }\n",
       "</style>\n",
       "<table border=\"1\" class=\"dataframe\">\n",
       "  <thead>\n",
       "    <tr style=\"text-align: right;\">\n",
       "      <th></th>\n",
       "      <th>year</th>\n",
       "      <th>title</th>\n",
       "      <th>AU</th>\n",
       "      <th>SO</th>\n",
       "      <th>DOI link</th>\n",
       "    </tr>\n",
       "  </thead>\n",
       "  <tbody>\n",
       "    <tr>\n",
       "      <th>0</th>\n",
       "      <td>2016</td>\n",
       "      <td>Processes and Modeling of Initial Soil and Lan...</td>\n",
       "      <td>Maurer, Thomas|Gerke, Horst H.</td>\n",
       "      <td>VADOSE ZONE JOURNAL</td>\n",
       "      <td>https://dx.doi.org/10.2136/vzj2016.05.0048</td>\n",
       "    </tr>\n",
       "    <tr>\n",
       "      <th>1</th>\n",
       "      <td>2017</td>\n",
       "      <td>Valuing investments in sustainable land manage...</td>\n",
       "      <td>Vogl, Adrian L.|Bryant, Benjamin P.|Hunink, Jo...</td>\n",
       "      <td>JOURNAL OF ENVIRONMENTAL MANAGEMENT</td>\n",
       "      <td>https://dx.doi.org/10.1016/j.jenvman.2016.10.013</td>\n",
       "    </tr>\n",
       "    <tr>\n",
       "      <th>2</th>\n",
       "      <td>2017</td>\n",
       "      <td>Modeling land suitability for Coffea arabica L...</td>\n",
       "      <td>Estrada, Leonel Lara|Rasche, Livia|Schneider, ...</td>\n",
       "      <td>ENVIRONMENTAL MODELLING &amp; SOFTWARE</td>\n",
       "      <td>https://dx.doi.org/10.1016/j.envsoft.2017.06.028</td>\n",
       "    </tr>\n",
       "    <tr>\n",
       "      <th>3</th>\n",
       "      <td>2015</td>\n",
       "      <td>Evaluating acceptability of groundwater protec...</td>\n",
       "      <td>Giordano, Raffaele|D'Agostino, Daniela|Apollon...</td>\n",
       "      <td>AGRICULTURAL WATER MANAGEMENT</td>\n",
       "      <td>https://dx.doi.org/10.1016/j.agwat.2014.07.023</td>\n",
       "    </tr>\n",
       "    <tr>\n",
       "      <th>4</th>\n",
       "      <td>2015</td>\n",
       "      <td>Grid-wide subdaily hydrologic alteration under...</td>\n",
       "      <td>Haas, J.|Olivares, M. A.|Palma-Behnke, R.</td>\n",
       "      <td>JOURNAL OF ENVIRONMENTAL MANAGEMENT</td>\n",
       "      <td>https://dx.doi.org/10.1016/j.jenvman.2015.02.017</td>\n",
       "    </tr>\n",
       "    <tr>\n",
       "      <th>5</th>\n",
       "      <td>2014</td>\n",
       "      <td>Systematic assessment of the uncertainty in in...</td>\n",
       "      <td>Wu, Bin|Zheng, Yi|Tian, Yong|Wu, Xin|Yao, Ying...</td>\n",
       "      <td>WATER RESOURCES RESEARCH</td>\n",
       "      <td>https://dx.doi.org/10.1002/2014WR015366</td>\n",
       "    </tr>\n",
       "    <tr>\n",
       "      <th>6</th>\n",
       "      <td>2016</td>\n",
       "      <td>Non-hazardous pesticide concentrations in surf...</td>\n",
       "      <td>Bannwarth, M. A.|Grovermann, C.|Schreinemacher...</td>\n",
       "      <td>JOURNAL OF ENVIRONMENTAL MANAGEMENT</td>\n",
       "      <td>https://dx.doi.org/10.1016/j.jenvman.2014.12.001</td>\n",
       "    </tr>\n",
       "    <tr>\n",
       "      <th>7</th>\n",
       "      <td>2017</td>\n",
       "      <td>Integrated modelling with environmental parame...</td>\n",
       "      <td>Sheykhi, Vahideh|Moore, Farid|Kavousi-Fard, Ab...</td>\n",
       "      <td>INTERNATIONAL JOURNAL OF RIVER BASIN MANAGEMENT</td>\n",
       "      <td>https://dx.doi.org/10.1080/15715124.2017.1300158</td>\n",
       "    </tr>\n",
       "    <tr>\n",
       "      <th>8</th>\n",
       "      <td>2014</td>\n",
       "      <td>Risk-Optimized Design of Production Systems by...</td>\n",
       "      <td>Luetjen, Michael|Alla, Abderrahim Ait</td>\n",
       "      <td>MATHEMATICAL PROBLEMS IN ENGINEERING</td>\n",
       "      <td>https://dx.doi.org/10.1155/2014/934176</td>\n",
       "    </tr>\n",
       "    <tr>\n",
       "      <th>9</th>\n",
       "      <td>2017</td>\n",
       "      <td>Integrated Modeling of Survival Data from Mult...</td>\n",
       "      <td>Proctor, Abigael H.|King, Catherine K.|Holan, ...</td>\n",
       "      <td>ENVIRONMENTAL SCIENCE &amp; TECHNOLOGY</td>\n",
       "      <td>https://dx.doi.org/10.1021/acs.est.7b02255</td>\n",
       "    </tr>\n",
       "  </tbody>\n",
       "</table>\n",
       "</div>"
      ],
      "text/plain": [
       "   year                                              title  \\\n",
       "0  2016  Processes and Modeling of Initial Soil and Lan...   \n",
       "1  2017  Valuing investments in sustainable land manage...   \n",
       "2  2017  Modeling land suitability for Coffea arabica L...   \n",
       "3  2015  Evaluating acceptability of groundwater protec...   \n",
       "4  2015  Grid-wide subdaily hydrologic alteration under...   \n",
       "5  2014  Systematic assessment of the uncertainty in in...   \n",
       "6  2016  Non-hazardous pesticide concentrations in surf...   \n",
       "7  2017  Integrated modelling with environmental parame...   \n",
       "8  2014  Risk-Optimized Design of Production Systems by...   \n",
       "9  2017  Integrated Modeling of Survival Data from Mult...   \n",
       "\n",
       "                                                  AU  \\\n",
       "0                     Maurer, Thomas|Gerke, Horst H.   \n",
       "1  Vogl, Adrian L.|Bryant, Benjamin P.|Hunink, Jo...   \n",
       "2  Estrada, Leonel Lara|Rasche, Livia|Schneider, ...   \n",
       "3  Giordano, Raffaele|D'Agostino, Daniela|Apollon...   \n",
       "4          Haas, J.|Olivares, M. A.|Palma-Behnke, R.   \n",
       "5  Wu, Bin|Zheng, Yi|Tian, Yong|Wu, Xin|Yao, Ying...   \n",
       "6  Bannwarth, M. A.|Grovermann, C.|Schreinemacher...   \n",
       "7  Sheykhi, Vahideh|Moore, Farid|Kavousi-Fard, Ab...   \n",
       "8              Luetjen, Michael|Alla, Abderrahim Ait   \n",
       "9  Proctor, Abigael H.|King, Catherine K.|Holan, ...   \n",
       "\n",
       "                                                SO  \\\n",
       "0                              VADOSE ZONE JOURNAL   \n",
       "1              JOURNAL OF ENVIRONMENTAL MANAGEMENT   \n",
       "2               ENVIRONMENTAL MODELLING & SOFTWARE   \n",
       "3                    AGRICULTURAL WATER MANAGEMENT   \n",
       "4              JOURNAL OF ENVIRONMENTAL MANAGEMENT   \n",
       "5                         WATER RESOURCES RESEARCH   \n",
       "6              JOURNAL OF ENVIRONMENTAL MANAGEMENT   \n",
       "7  INTERNATIONAL JOURNAL OF RIVER BASIN MANAGEMENT   \n",
       "8             MATHEMATICAL PROBLEMS IN ENGINEERING   \n",
       "9               ENVIRONMENTAL SCIENCE & TECHNOLOGY   \n",
       "\n",
       "                                           DOI link  \n",
       "0        https://dx.doi.org/10.2136/vzj2016.05.0048  \n",
       "1  https://dx.doi.org/10.1016/j.jenvman.2016.10.013  \n",
       "2  https://dx.doi.org/10.1016/j.envsoft.2017.06.028  \n",
       "3    https://dx.doi.org/10.1016/j.agwat.2014.07.023  \n",
       "4  https://dx.doi.org/10.1016/j.jenvman.2015.02.017  \n",
       "5           https://dx.doi.org/10.1002/2014WR015366  \n",
       "6  https://dx.doi.org/10.1016/j.jenvman.2014.12.001  \n",
       "7  https://dx.doi.org/10.1080/15715124.2017.1300158  \n",
       "8            https://dx.doi.org/10.1155/2014/934176  \n",
       "9        https://dx.doi.org/10.1021/acs.est.7b02255  "
      ]
     },
     "execution_count": 33,
     "metadata": {},
     "output_type": "execute_result"
    }
   ],
   "source": [
    "topic_df = wosis.link_to_pub(topic_recs)  # Creates a new column called 'DOI link'\n",
    "topic_df.loc[:, ~topic_df.columns.isin(hide_columns)].head(10)"
   ]
  },
  {
   "cell_type": "markdown",
   "metadata": {},
   "source": [
    "Other analysis can easily be accomplished with Pandas"
   ]
  }
 ],
 "metadata": {
  "kernelspec": {
   "display_name": "Python (Biblio)",
   "language": "python",
   "name": "biblio"
  },
  "language_info": {
   "codemirror_mode": {
    "name": "ipython",
    "version": 3
   },
   "file_extension": ".py",
   "mimetype": "text/x-python",
   "name": "python",
   "nbconvert_exporter": "python",
   "pygments_lexer": "ipython3",
   "version": "3.6.6"
  }
 },
 "nbformat": 4,
 "nbformat_minor": 2
}
